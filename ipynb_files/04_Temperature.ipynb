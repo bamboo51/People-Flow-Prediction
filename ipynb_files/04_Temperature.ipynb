{
 "cells": [
  {
   "cell_type": "markdown",
   "metadata": {},
   "source": [
    "# Predict People with multivariances"
   ]
  },
  {
   "cell_type": "code",
   "execution_count": 197,
   "metadata": {},
   "outputs": [],
   "source": [
    "import numpy as np\n",
    "import matplotlib.pyplot as plt"
   ]
  },
  {
   "cell_type": "markdown",
   "metadata": {},
   "source": [
    "## Import data"
   ]
  },
  {
   "cell_type": "code",
   "execution_count": 198,
   "metadata": {},
   "outputs": [],
   "source": [
    "import pandas as pd\n",
    "\n",
    "path = '../data/num_file/hrs_1/p040.csv'\n",
    "people = pd.read_csv(path, encoding='utf-8')"
   ]
  },
  {
   "cell_type": "markdown",
   "metadata": {},
   "source": [
    "Merge \"date\" and \"hour\" columns to be datetime"
   ]
  },
  {
   "cell_type": "code",
   "execution_count": 199,
   "metadata": {},
   "outputs": [
    {
     "name": "stdout",
     "output_type": "stream",
     "text": [
      "                      amount\n",
      "datetime                    \n",
      "2022-04-21 01:00:00   1033.0\n",
      "2022-04-21 02:00:00     65.0\n",
      "2022-04-21 12:00:00   1604.0\n",
      "2022-04-25 15:00:00   4458.0\n",
      "2022-04-25 16:00:00  18501.0\n",
      "...                      ...\n",
      "2022-09-03 07:00:00   9741.0\n",
      "2022-09-03 08:00:00  19613.0\n",
      "2022-09-03 09:00:00  22055.0\n",
      "2022-09-03 10:00:00  14644.0\n",
      "2022-09-03 11:00:00  12751.0\n",
      "\n",
      "[3144 rows x 1 columns]\n"
     ]
    }
   ],
   "source": [
    "people['datetime'] = pd.to_datetime(people['date'])+pd.to_timedelta(people['hour'], unit='h')\n",
    "people = people.drop(['date', 'hour'], axis=1)\n",
    "people.set_index('datetime', inplace=True)\n",
    "people.columns = ['amount']\n",
    "people['amount'] = people['amount'].astype(float)\n",
    "print(people)"
   ]
  },
  {
   "cell_type": "markdown",
   "metadata": {},
   "source": [
    "Resample the data that are not existed"
   ]
  },
  {
   "cell_type": "code",
   "execution_count": 200,
   "metadata": {},
   "outputs": [
    {
     "name": "stdout",
     "output_type": "stream",
     "text": [
      "                      amount\n",
      "2022-04-21 01:00:00   1033.0\n",
      "2022-04-21 02:00:00     65.0\n",
      "2022-04-21 03:00:00   1604.0\n",
      "2022-04-21 04:00:00   1604.0\n",
      "2022-04-21 05:00:00   1604.0\n",
      "...                      ...\n",
      "2022-09-03 07:00:00   9741.0\n",
      "2022-09-03 08:00:00  19613.0\n",
      "2022-09-03 09:00:00  22055.0\n",
      "2022-09-03 10:00:00  14644.0\n",
      "2022-09-03 11:00:00  12751.0\n",
      "\n",
      "[3251 rows x 1 columns]\n"
     ]
    }
   ],
   "source": [
    "full_index = pd.date_range(start=people.index.min(), end=people.index.max(), freq='h')\n",
    "people = people.reindex(full_index)\n",
    "people['amount'] = people['amount'].bfill()\n",
    "print(people)"
   ]
  },
  {
   "cell_type": "markdown",
   "metadata": {},
   "source": [
    "Import temperature data."
   ]
  },
  {
   "cell_type": "code",
   "execution_count": 201,
   "metadata": {},
   "outputs": [],
   "source": [
    "import os\n",
    "import pandas as pd\n",
    "\n",
    "folder_path = '../data/temperature_file/'\n",
    "\n",
    "csv_files = [file for file in os.listdir(folder_path) if file.endswith('.csv')]\n",
    "\n",
    "temperature = []\n",
    "\n",
    "for file in csv_files:\n",
    "    file_path = folder_path + file\n",
    "    df = pd.read_csv(file_path, encoding='utf-8')\n",
    "    temperature.append(df)\n",
    "\n",
    "temperature = pd.concat(temperature, ignore_index=True)\n",
    "    "
   ]
  },
  {
   "cell_type": "code",
   "execution_count": 202,
   "metadata": {},
   "outputs": [
    {
     "name": "stdout",
     "output_type": "stream",
     "text": [
      "                     temperature  precipitation  weather\n",
      "datetime                                                \n",
      "2022-07-01 01:00:00         26.1            0.0      NaN\n",
      "2022-07-01 02:00:00         25.1            0.0      NaN\n",
      "2022-07-01 03:00:00         24.4            0.0      2.0\n",
      "2022-07-01 04:00:00         24.0            0.0      NaN\n",
      "2022-07-01 05:00:00         23.9            0.0      NaN\n",
      "...                          ...            ...      ...\n",
      "2022-09-30 20:00:00         20.2            0.0      NaN\n",
      "2022-09-30 21:00:00         20.3            0.0      1.0\n",
      "2022-09-30 22:00:00         19.6            0.0      NaN\n",
      "2022-09-30 23:00:00         18.8            0.0      NaN\n",
      "2022-10-01 00:00:00         18.8            0.0      NaN\n",
      "\n",
      "[8760 rows x 3 columns]\n"
     ]
    }
   ],
   "source": [
    "temperature['datetime'] = pd.to_datetime(temperature['datetime'])\n",
    "temperature.set_index('datetime', inplace=True)\n",
    "print(temperature)"
   ]
  },
  {
   "cell_type": "markdown",
   "metadata": {},
   "source": [
    "Merge the amount of people and temperature data as one dataframe."
   ]
  },
  {
   "cell_type": "code",
   "execution_count": 203,
   "metadata": {},
   "outputs": [
    {
     "name": "stdout",
     "output_type": "stream",
     "text": [
      "                      amount  temperature  precipitation  weather\n",
      "2022-04-21 01:00:00   1033.0          9.2            0.0      NaN\n",
      "2022-04-21 02:00:00     65.0          9.1            0.0      NaN\n",
      "2022-04-21 03:00:00   1604.0          9.1            0.0      1.0\n",
      "2022-04-21 04:00:00   1604.0          7.9            0.0      NaN\n",
      "2022-04-21 05:00:00   1604.0          7.4            0.0      NaN\n",
      "...                      ...          ...            ...      ...\n",
      "2022-09-03 07:00:00   9741.0         22.4            0.0      NaN\n",
      "2022-09-03 08:00:00  19613.0         22.8            0.0      NaN\n",
      "2022-09-03 09:00:00  22055.0         23.2            0.0      4.0\n",
      "2022-09-03 10:00:00  14644.0         23.4            0.0      NaN\n",
      "2022-09-03 11:00:00  12751.0         23.7            0.0      NaN\n",
      "\n",
      "[3251 rows x 4 columns]\n"
     ]
    }
   ],
   "source": [
    "data = pd.merge(people, temperature, left_index=True, right_index=True, how='inner')\n",
    "print(data)"
   ]
  },
  {
   "cell_type": "markdown",
   "metadata": {},
   "source": [
    "## Data Preprocessing"
   ]
  },
  {
   "cell_type": "code",
   "execution_count": 204,
   "metadata": {},
   "outputs": [],
   "source": [
    "from sklearn.preprocessing import StandardScaler"
   ]
  },
  {
   "cell_type": "code",
   "execution_count": 205,
   "metadata": {},
   "outputs": [],
   "source": [
    "scaler = StandardScaler()\n",
    "data[['amount', 'temperature']] = scaler.fit_transform(data[['amount', 'temperature']])"
   ]
  },
  {
   "cell_type": "code",
   "execution_count": 206,
   "metadata": {},
   "outputs": [
    {
     "name": "stdout",
     "output_type": "stream",
     "text": [
      "                       amount  temperature  precipitation  weather\n",
      "2022-04-21 01:00:00 -1.608170    -2.122485            0.0      NaN\n",
      "2022-04-21 02:00:00 -1.752224    -2.140183            0.0      NaN\n",
      "2022-04-21 03:00:00 -1.523196    -2.140183            0.0      1.0\n",
      "2022-04-21 04:00:00 -1.523196    -2.352552            0.0      NaN\n",
      "2022-04-21 05:00:00 -1.523196    -2.441039            0.0      NaN\n"
     ]
    }
   ],
   "source": [
    "print(data.head())"
   ]
  },
  {
   "cell_type": "code",
   "execution_count": 207,
   "metadata": {},
   "outputs": [
    {
     "name": "stdout",
     "output_type": "stream",
     "text": [
      "                       amount  temperature\n",
      "2022-04-21 01:00:00 -1.608170    -2.122485\n",
      "2022-04-21 02:00:00 -1.752224    -2.140183\n",
      "2022-04-21 03:00:00 -1.523196    -2.140183\n",
      "2022-04-21 04:00:00 -1.523196    -2.352552\n",
      "2022-04-21 05:00:00 -1.523196    -2.441039\n",
      "...                       ...          ...\n",
      "2022-09-03 07:00:00 -0.312280     0.213572\n",
      "2022-09-03 08:00:00  1.156832     0.284362\n",
      "2022-09-03 09:00:00  1.520241     0.355151\n",
      "2022-09-03 10:00:00  0.417365     0.390546\n",
      "2022-09-03 11:00:00  0.135656     0.443638\n",
      "\n",
      "[3251 rows x 2 columns]\n"
     ]
    }
   ],
   "source": [
    "data = data[['amount', 'temperature']]\n",
    "print(data)"
   ]
  },
  {
   "cell_type": "markdown",
   "metadata": {},
   "source": [
    "Slice into dataframe"
   ]
  },
  {
   "cell_type": "code",
   "execution_count": 208,
   "metadata": {},
   "outputs": [],
   "source": [
    "window_size = 12\n",
    "def one_step_forecast(df, window=6):\n",
    "    d = df.values\n",
    "    x = []\n",
    "    n = len(df)\n",
    "    idx = df.index[:-window]\n",
    "    for start in range(n-window):\n",
    "        end = start + window\n",
    "        x.append(d[start:end])\n",
    "    cols = [f'x_{i}' for i in range(1, window+1)]\n",
    "    x = np.array(x).reshape(n-window, -1)\n",
    "    y = df.iloc[window:].values\n",
    "    df_xs = pd.DataFrame(x, columns=cols, index=idx)\n",
    "    df_y = pd.DataFrame(y.reshape(-1), columns=['y'], index=idx)\n",
    "    return pd.concat([df_xs, df_y], axis=1).dropna()"
   ]
  },
  {
   "cell_type": "code",
   "execution_count": 209,
   "metadata": {},
   "outputs": [],
   "source": [
    "test = one_step_forecast(data['amount'], window_size)"
   ]
  },
  {
   "cell_type": "code",
   "execution_count": 210,
   "metadata": {},
   "outputs": [
    {
     "name": "stdout",
     "output_type": "stream",
     "text": [
      "                          x_1       x_2       x_3       x_4       x_5  \\\n",
      "2022-04-21 01:00:00 -1.608170 -1.752224 -1.523196 -1.523196 -1.523196   \n",
      "2022-04-21 02:00:00 -1.752224 -1.523196 -1.523196 -1.523196 -1.523196   \n",
      "2022-04-21 03:00:00 -1.523196 -1.523196 -1.523196 -1.523196 -1.523196   \n",
      "2022-04-21 04:00:00 -1.523196 -1.523196 -1.523196 -1.523196 -1.523196   \n",
      "2022-04-21 05:00:00 -1.523196 -1.523196 -1.523196 -1.523196 -1.523196   \n",
      "...                       ...       ...       ...       ...       ...   \n",
      "2022-09-02 19:00:00 -0.145308 -0.533123 -0.693844 -0.831201 -0.654408   \n",
      "2022-09-02 20:00:00 -0.533123 -0.693844 -0.831201 -0.654408 -0.936266   \n",
      "2022-09-02 21:00:00 -0.693844 -0.831201 -0.654408 -0.936266 -1.045943   \n",
      "2022-09-02 22:00:00 -0.831201 -0.654408 -0.936266 -1.045943 -0.828820   \n",
      "2022-09-02 23:00:00 -0.654408 -0.936266 -1.045943 -0.828820 -0.792807   \n",
      "\n",
      "                          x_6       x_7       x_8       x_9      x_10  \\\n",
      "2022-04-21 01:00:00 -1.523196 -1.523196 -1.523196 -1.523196 -1.523196   \n",
      "2022-04-21 02:00:00 -1.523196 -1.523196 -1.523196 -1.523196 -1.523196   \n",
      "2022-04-21 03:00:00 -1.523196 -1.523196 -1.523196 -1.523196 -1.523196   \n",
      "2022-04-21 04:00:00 -1.523196 -1.523196 -1.523196 -1.523196 -1.098475   \n",
      "2022-04-21 05:00:00 -1.523196 -1.523196 -1.523196 -1.098475 -1.098475   \n",
      "...                       ...       ...       ...       ...       ...   \n",
      "2022-09-02 19:00:00 -0.936266 -1.045943 -0.828820 -0.792807 -1.100856   \n",
      "2022-09-02 20:00:00 -1.045943 -0.828820 -0.792807 -1.100856 -0.747120   \n",
      "2022-09-02 21:00:00 -0.828820 -0.792807 -1.100856 -0.747120 -0.419576   \n",
      "2022-09-02 22:00:00 -0.792807 -1.100856 -0.747120 -0.419576 -0.312280   \n",
      "2022-09-02 23:00:00 -1.100856 -0.747120 -0.419576 -0.312280  1.156832   \n",
      "\n",
      "                         x_11      x_12  \n",
      "2022-04-21 01:00:00 -1.523196 -1.523196  \n",
      "2022-04-21 02:00:00 -1.523196 -1.098475  \n",
      "2022-04-21 03:00:00 -1.098475 -1.098475  \n",
      "2022-04-21 04:00:00 -1.098475 -1.098475  \n",
      "2022-04-21 05:00:00 -1.098475 -1.098475  \n",
      "...                       ...       ...  \n",
      "2022-09-02 19:00:00 -0.747120 -0.419576  \n",
      "2022-09-02 20:00:00 -0.419576 -0.312280  \n",
      "2022-09-02 21:00:00 -0.312280  1.156832  \n",
      "2022-09-02 22:00:00  1.156832  1.520241  \n",
      "2022-09-02 23:00:00  1.520241  0.417365  \n",
      "\n",
      "[3239 rows x 12 columns]\n"
     ]
    }
   ],
   "source": [
    "y = test['y']\n",
    "test = test.drop('y', axis=1)\n",
    "print(test)"
   ]
  },
  {
   "cell_type": "code",
   "execution_count": 211,
   "metadata": {},
   "outputs": [],
   "source": [
    "test_2 = one_step_forecast(data['temperature'], window_size)"
   ]
  },
  {
   "cell_type": "code",
   "execution_count": 212,
   "metadata": {},
   "outputs": [
    {
     "name": "stdout",
     "output_type": "stream",
     "text": [
      "                          x_1       x_2       x_3       x_4       x_5  \\\n",
      "2022-04-21 01:00:00 -2.122485 -2.140183 -2.140183 -2.352552 -2.441039   \n",
      "2022-04-21 02:00:00 -2.140183 -2.140183 -2.352552 -2.441039 -2.246367   \n",
      "2022-04-21 03:00:00 -2.140183 -2.352552 -2.441039 -2.246367 -1.821630   \n",
      "2022-04-21 04:00:00 -2.352552 -2.441039 -2.246367 -1.821630 -1.308405   \n",
      "2022-04-21 05:00:00 -2.441039 -2.246367 -1.821630 -1.308405 -0.972154   \n",
      "...                       ...       ...       ...       ...       ...   \n",
      "2022-09-02 19:00:00  0.496730  0.461336  0.408243  0.408243  0.390546   \n",
      "2022-09-02 20:00:00  0.461336  0.408243  0.408243  0.390546  0.319756   \n",
      "2022-09-02 21:00:00  0.408243  0.408243  0.390546  0.319756  0.337454   \n",
      "2022-09-02 22:00:00  0.408243  0.390546  0.319756  0.337454  0.319756   \n",
      "2022-09-02 23:00:00  0.390546  0.319756  0.337454  0.319756  0.284362   \n",
      "\n",
      "                          x_6       x_7       x_8       x_9      x_10  \\\n",
      "2022-04-21 01:00:00 -2.246367 -1.821630 -1.308405 -0.972154 -0.653601   \n",
      "2022-04-21 02:00:00 -1.821630 -1.308405 -0.972154 -0.653601 -0.671298   \n",
      "2022-04-21 03:00:00 -1.308405 -0.972154 -0.653601 -0.671298 -0.423535   \n",
      "2022-04-21 04:00:00 -0.972154 -0.653601 -0.671298 -0.423535 -0.458929   \n",
      "2022-04-21 05:00:00 -0.653601 -0.671298 -0.423535 -0.458929 -0.565114   \n",
      "...                       ...       ...       ...       ...       ...   \n",
      "2022-09-02 19:00:00  0.319756  0.337454  0.319756  0.284362  0.266664   \n",
      "2022-09-02 20:00:00  0.337454  0.319756  0.284362  0.266664  0.231269   \n",
      "2022-09-02 21:00:00  0.319756  0.284362  0.266664  0.231269  0.319756   \n",
      "2022-09-02 22:00:00  0.284362  0.266664  0.231269  0.319756  0.213572   \n",
      "2022-09-02 23:00:00  0.266664  0.231269  0.319756  0.213572  0.284362   \n",
      "\n",
      "                         x_11      x_12  \n",
      "2022-04-21 01:00:00 -0.671298 -0.423535  \n",
      "2022-04-21 02:00:00 -0.423535 -0.458929  \n",
      "2022-04-21 03:00:00 -0.458929 -0.565114  \n",
      "2022-04-21 04:00:00 -0.565114 -0.476627  \n",
      "2022-04-21 05:00:00 -0.476627 -0.582811  \n",
      "...                       ...       ...  \n",
      "2022-09-02 19:00:00  0.231269  0.319756  \n",
      "2022-09-02 20:00:00  0.319756  0.213572  \n",
      "2022-09-02 21:00:00  0.213572  0.284362  \n",
      "2022-09-02 22:00:00  0.284362  0.355151  \n",
      "2022-09-02 23:00:00  0.355151  0.390546  \n",
      "\n",
      "[3239 rows x 12 columns]\n"
     ]
    }
   ],
   "source": [
    "test_2.drop('y', axis=1, inplace=True)\n",
    "print(test_2)"
   ]
  },
  {
   "cell_type": "code",
   "execution_count": 213,
   "metadata": {},
   "outputs": [
    {
     "name": "stdout",
     "output_type": "stream",
     "text": [
      "2022-04-21 01:00:00   -1.098475\n",
      "2022-04-21 02:00:00   -1.098475\n",
      "2022-04-21 03:00:00   -1.098475\n",
      "2022-04-21 04:00:00   -1.098475\n",
      "2022-04-21 05:00:00   -1.098475\n",
      "                         ...   \n",
      "2022-09-02 19:00:00   -0.312280\n",
      "2022-09-02 20:00:00    1.156832\n",
      "2022-09-02 21:00:00    1.520241\n",
      "2022-09-02 22:00:00    0.417365\n",
      "2022-09-02 23:00:00    0.135656\n",
      "Freq: h, Name: y, Length: 3239, dtype: float64\n"
     ]
    }
   ],
   "source": [
    "print(y)"
   ]
  },
  {
   "cell_type": "markdown",
   "metadata": {},
   "source": [
    "Divide to train and test and val"
   ]
  },
  {
   "cell_type": "code",
   "execution_count": 214,
   "metadata": {},
   "outputs": [],
   "source": [
    "from sklearn.model_selection import train_test_split"
   ]
  },
  {
   "cell_type": "code",
   "execution_count": 215,
   "metadata": {},
   "outputs": [],
   "source": [
    "train_people, test_people, train_temperature, test_temperature, train_y, test_y = train_test_split(test, test_2, y, test_size=0.15, shuffle=False)\n",
    "train_people, val_people, train_temperature, val_temperature, train_y, val_y = train_test_split(train_people, train_temperature, train_y, test_size=0.15, shuffle=False)\n",
    "index = test_y.index\n",
    "train_people = np.expand_dims(train_people, axis=-1)\n",
    "val_people = np.expand_dims(val_people, axis=-1)\n",
    "test_people = np.expand_dims(test_people, axis=-1)\n",
    "train_temperature = np.expand_dims(train_temperature, axis=-1)\n",
    "val_temperature = np.expand_dims(val_temperature, axis=-1)\n",
    "test_temperature = np.expand_dims(test_temperature, axis=-1)\n",
    "y_train = np.expand_dims(train_y, axis=-1)\n",
    "y_val = np.expand_dims(val_y, axis=-1)\n",
    "y_test = np.expand_dims(test_y, axis=-1)"
   ]
  },
  {
   "cell_type": "markdown",
   "metadata": {},
   "source": [
    "## Create model"
   ]
  },
  {
   "cell_type": "code",
   "execution_count": 216,
   "metadata": {},
   "outputs": [],
   "source": [
    "from keras.models import Model\n",
    "from keras import layers\n",
    "from keras import Input\n",
    "from keras.metrics import RootMeanSquaredError as RMSE, MeanAbsoluteError as MAE\n",
    "from keras import callbacks"
   ]
  },
  {
   "cell_type": "code",
   "execution_count": 217,
   "metadata": {},
   "outputs": [],
   "source": [
    "people_input = Input(shape=(train_people.shape[1], train_people.shape[2]), name='people')\n",
    "temperature_input = Input(shape=(train_temperature.shape[1], train_temperature.shape[2]), name='temperature')"
   ]
  },
  {
   "cell_type": "code",
   "execution_count": 218,
   "metadata": {},
   "outputs": [
    {
     "name": "stdout",
     "output_type": "stream",
     "text": [
      "(None, 12, 1)\n"
     ]
    }
   ],
   "source": [
    "print(people_input.shape)"
   ]
  },
  {
   "cell_type": "code",
   "execution_count": 219,
   "metadata": {},
   "outputs": [],
   "source": [
    "units = 32\n",
    "people_lstm = layers.LSTM(units, name='people_lstm')(people_input)\n",
    "temperature_lstm = layers.LSTM(units, name='temperature_lstm')(temperature_input)"
   ]
  },
  {
   "cell_type": "code",
   "execution_count": 220,
   "metadata": {},
   "outputs": [],
   "source": [
    "concat= layers.concatenate([people_lstm, temperature_lstm], name='concat')\n",
    "output = layers.Dense(1, name='output')(concat)"
   ]
  },
  {
   "cell_type": "code",
   "execution_count": 221,
   "metadata": {},
   "outputs": [],
   "source": [
    "model = Model([people_input, temperature_input], output)"
   ]
  },
  {
   "cell_type": "code",
   "execution_count": 222,
   "metadata": {},
   "outputs": [
    {
     "data": {
      "text/html": [
       "<pre style=\"white-space:pre;overflow-x:auto;line-height:normal;font-family:Menlo,'DejaVu Sans Mono',consolas,'Courier New',monospace\"><span style=\"font-weight: bold\">Model: \"functional_9\"</span>\n",
       "</pre>\n"
      ],
      "text/plain": [
       "\u001b[1mModel: \"functional_9\"\u001b[0m\n"
      ]
     },
     "metadata": {},
     "output_type": "display_data"
    },
    {
     "data": {
      "text/html": [
       "<pre style=\"white-space:pre;overflow-x:auto;line-height:normal;font-family:Menlo,'DejaVu Sans Mono',consolas,'Courier New',monospace\">┏━━━━━━━━━━━━━━━━━━━━━┳━━━━━━━━━━━━━━━━━━━┳━━━━━━━━━━━━┳━━━━━━━━━━━━━━━━━━━┓\n",
       "┃<span style=\"font-weight: bold\"> Layer (type)        </span>┃<span style=\"font-weight: bold\"> Output Shape      </span>┃<span style=\"font-weight: bold\">    Param # </span>┃<span style=\"font-weight: bold\"> Connected to      </span>┃\n",
       "┡━━━━━━━━━━━━━━━━━━━━━╇━━━━━━━━━━━━━━━━━━━╇━━━━━━━━━━━━╇━━━━━━━━━━━━━━━━━━━┩\n",
       "│ people (<span style=\"color: #0087ff; text-decoration-color: #0087ff\">InputLayer</span>) │ (<span style=\"color: #00d7ff; text-decoration-color: #00d7ff\">None</span>, <span style=\"color: #00af00; text-decoration-color: #00af00\">12</span>, <span style=\"color: #00af00; text-decoration-color: #00af00\">1</span>)     │          <span style=\"color: #00af00; text-decoration-color: #00af00\">0</span> │ -                 │\n",
       "├─────────────────────┼───────────────────┼────────────┼───────────────────┤\n",
       "│ temperature         │ (<span style=\"color: #00d7ff; text-decoration-color: #00d7ff\">None</span>, <span style=\"color: #00af00; text-decoration-color: #00af00\">12</span>, <span style=\"color: #00af00; text-decoration-color: #00af00\">1</span>)     │          <span style=\"color: #00af00; text-decoration-color: #00af00\">0</span> │ -                 │\n",
       "│ (<span style=\"color: #0087ff; text-decoration-color: #0087ff\">InputLayer</span>)        │                   │            │                   │\n",
       "├─────────────────────┼───────────────────┼────────────┼───────────────────┤\n",
       "│ people_lstm (<span style=\"color: #0087ff; text-decoration-color: #0087ff\">LSTM</span>)  │ (<span style=\"color: #00d7ff; text-decoration-color: #00d7ff\">None</span>, <span style=\"color: #00af00; text-decoration-color: #00af00\">32</span>)        │      <span style=\"color: #00af00; text-decoration-color: #00af00\">4,352</span> │ people[<span style=\"color: #00af00; text-decoration-color: #00af00\">0</span>][<span style=\"color: #00af00; text-decoration-color: #00af00\">0</span>]      │\n",
       "├─────────────────────┼───────────────────┼────────────┼───────────────────┤\n",
       "│ temperature_lstm    │ (<span style=\"color: #00d7ff; text-decoration-color: #00d7ff\">None</span>, <span style=\"color: #00af00; text-decoration-color: #00af00\">32</span>)        │      <span style=\"color: #00af00; text-decoration-color: #00af00\">4,352</span> │ temperature[<span style=\"color: #00af00; text-decoration-color: #00af00\">0</span>][<span style=\"color: #00af00; text-decoration-color: #00af00\">0</span>] │\n",
       "│ (<span style=\"color: #0087ff; text-decoration-color: #0087ff\">LSTM</span>)              │                   │            │                   │\n",
       "├─────────────────────┼───────────────────┼────────────┼───────────────────┤\n",
       "│ concat              │ (<span style=\"color: #00d7ff; text-decoration-color: #00d7ff\">None</span>, <span style=\"color: #00af00; text-decoration-color: #00af00\">64</span>)        │          <span style=\"color: #00af00; text-decoration-color: #00af00\">0</span> │ people_lstm[<span style=\"color: #00af00; text-decoration-color: #00af00\">0</span>][<span style=\"color: #00af00; text-decoration-color: #00af00\">0</span>… │\n",
       "│ (<span style=\"color: #0087ff; text-decoration-color: #0087ff\">Concatenate</span>)       │                   │            │ temperature_lstm… │\n",
       "├─────────────────────┼───────────────────┼────────────┼───────────────────┤\n",
       "│ output (<span style=\"color: #0087ff; text-decoration-color: #0087ff\">Dense</span>)      │ (<span style=\"color: #00d7ff; text-decoration-color: #00d7ff\">None</span>, <span style=\"color: #00af00; text-decoration-color: #00af00\">1</span>)         │         <span style=\"color: #00af00; text-decoration-color: #00af00\">65</span> │ concat[<span style=\"color: #00af00; text-decoration-color: #00af00\">0</span>][<span style=\"color: #00af00; text-decoration-color: #00af00\">0</span>]      │\n",
       "└─────────────────────┴───────────────────┴────────────┴───────────────────┘\n",
       "</pre>\n"
      ],
      "text/plain": [
       "┏━━━━━━━━━━━━━━━━━━━━━┳━━━━━━━━━━━━━━━━━━━┳━━━━━━━━━━━━┳━━━━━━━━━━━━━━━━━━━┓\n",
       "┃\u001b[1m \u001b[0m\u001b[1mLayer (type)       \u001b[0m\u001b[1m \u001b[0m┃\u001b[1m \u001b[0m\u001b[1mOutput Shape     \u001b[0m\u001b[1m \u001b[0m┃\u001b[1m \u001b[0m\u001b[1m   Param #\u001b[0m\u001b[1m \u001b[0m┃\u001b[1m \u001b[0m\u001b[1mConnected to     \u001b[0m\u001b[1m \u001b[0m┃\n",
       "┡━━━━━━━━━━━━━━━━━━━━━╇━━━━━━━━━━━━━━━━━━━╇━━━━━━━━━━━━╇━━━━━━━━━━━━━━━━━━━┩\n",
       "│ people (\u001b[38;5;33mInputLayer\u001b[0m) │ (\u001b[38;5;45mNone\u001b[0m, \u001b[38;5;34m12\u001b[0m, \u001b[38;5;34m1\u001b[0m)     │          \u001b[38;5;34m0\u001b[0m │ -                 │\n",
       "├─────────────────────┼───────────────────┼────────────┼───────────────────┤\n",
       "│ temperature         │ (\u001b[38;5;45mNone\u001b[0m, \u001b[38;5;34m12\u001b[0m, \u001b[38;5;34m1\u001b[0m)     │          \u001b[38;5;34m0\u001b[0m │ -                 │\n",
       "│ (\u001b[38;5;33mInputLayer\u001b[0m)        │                   │            │                   │\n",
       "├─────────────────────┼───────────────────┼────────────┼───────────────────┤\n",
       "│ people_lstm (\u001b[38;5;33mLSTM\u001b[0m)  │ (\u001b[38;5;45mNone\u001b[0m, \u001b[38;5;34m32\u001b[0m)        │      \u001b[38;5;34m4,352\u001b[0m │ people[\u001b[38;5;34m0\u001b[0m][\u001b[38;5;34m0\u001b[0m]      │\n",
       "├─────────────────────┼───────────────────┼────────────┼───────────────────┤\n",
       "│ temperature_lstm    │ (\u001b[38;5;45mNone\u001b[0m, \u001b[38;5;34m32\u001b[0m)        │      \u001b[38;5;34m4,352\u001b[0m │ temperature[\u001b[38;5;34m0\u001b[0m][\u001b[38;5;34m0\u001b[0m] │\n",
       "│ (\u001b[38;5;33mLSTM\u001b[0m)              │                   │            │                   │\n",
       "├─────────────────────┼───────────────────┼────────────┼───────────────────┤\n",
       "│ concat              │ (\u001b[38;5;45mNone\u001b[0m, \u001b[38;5;34m64\u001b[0m)        │          \u001b[38;5;34m0\u001b[0m │ people_lstm[\u001b[38;5;34m0\u001b[0m][\u001b[38;5;34m0\u001b[0m… │\n",
       "│ (\u001b[38;5;33mConcatenate\u001b[0m)       │                   │            │ temperature_lstm… │\n",
       "├─────────────────────┼───────────────────┼────────────┼───────────────────┤\n",
       "│ output (\u001b[38;5;33mDense\u001b[0m)      │ (\u001b[38;5;45mNone\u001b[0m, \u001b[38;5;34m1\u001b[0m)         │         \u001b[38;5;34m65\u001b[0m │ concat[\u001b[38;5;34m0\u001b[0m][\u001b[38;5;34m0\u001b[0m]      │\n",
       "└─────────────────────┴───────────────────┴────────────┴───────────────────┘\n"
      ]
     },
     "metadata": {},
     "output_type": "display_data"
    },
    {
     "data": {
      "text/html": [
       "<pre style=\"white-space:pre;overflow-x:auto;line-height:normal;font-family:Menlo,'DejaVu Sans Mono',consolas,'Courier New',monospace\"><span style=\"font-weight: bold\"> Total params: </span><span style=\"color: #00af00; text-decoration-color: #00af00\">8,769</span> (34.25 KB)\n",
       "</pre>\n"
      ],
      "text/plain": [
       "\u001b[1m Total params: \u001b[0m\u001b[38;5;34m8,769\u001b[0m (34.25 KB)\n"
      ]
     },
     "metadata": {},
     "output_type": "display_data"
    },
    {
     "data": {
      "text/html": [
       "<pre style=\"white-space:pre;overflow-x:auto;line-height:normal;font-family:Menlo,'DejaVu Sans Mono',consolas,'Courier New',monospace\"><span style=\"font-weight: bold\"> Trainable params: </span><span style=\"color: #00af00; text-decoration-color: #00af00\">8,769</span> (34.25 KB)\n",
       "</pre>\n"
      ],
      "text/plain": [
       "\u001b[1m Trainable params: \u001b[0m\u001b[38;5;34m8,769\u001b[0m (34.25 KB)\n"
      ]
     },
     "metadata": {},
     "output_type": "display_data"
    },
    {
     "data": {
      "text/html": [
       "<pre style=\"white-space:pre;overflow-x:auto;line-height:normal;font-family:Menlo,'DejaVu Sans Mono',consolas,'Courier New',monospace\"><span style=\"font-weight: bold\"> Non-trainable params: </span><span style=\"color: #00af00; text-decoration-color: #00af00\">0</span> (0.00 B)\n",
       "</pre>\n"
      ],
      "text/plain": [
       "\u001b[1m Non-trainable params: \u001b[0m\u001b[38;5;34m0\u001b[0m (0.00 B)\n"
      ]
     },
     "metadata": {},
     "output_type": "display_data"
    },
    {
     "name": "stdout",
     "output_type": "stream",
     "text": [
      "None\n"
     ]
    }
   ],
   "source": [
    "print(model.summary())"
   ]
  },
  {
   "cell_type": "code",
   "execution_count": 223,
   "metadata": {},
   "outputs": [
    {
     "name": "stdout",
     "output_type": "stream",
     "text": [
      "Epoch 1/200\n"
     ]
    },
    {
     "name": "stdout",
     "output_type": "stream",
     "text": [
      "\u001b[1m74/74\u001b[0m \u001b[32m━━━━━━━━━━━━━━━━━━━━\u001b[0m\u001b[37m\u001b[0m \u001b[1m5s\u001b[0m 43ms/step - loss: 0.6921 - mean_absolute_error: 0.7079 - root_mean_squared_error: 0.8284 - val_loss: 0.1404 - val_mean_absolute_error: 0.2941 - val_root_mean_squared_error: 0.3747\n",
      "Epoch 2/200\n",
      "\u001b[1m74/74\u001b[0m \u001b[32m━━━━━━━━━━━━━━━━━━━━\u001b[0m\u001b[37m\u001b[0m \u001b[1m1s\u001b[0m 15ms/step - loss: 0.3231 - mean_absolute_error: 0.4370 - root_mean_squared_error: 0.5554 - val_loss: 0.1031 - val_mean_absolute_error: 0.2463 - val_root_mean_squared_error: 0.3208\n",
      "Epoch 3/200\n",
      "\u001b[1m74/74\u001b[0m \u001b[32m━━━━━━━━━━━━━━━━━━━━\u001b[0m\u001b[37m\u001b[0m \u001b[1m1s\u001b[0m 14ms/step - loss: 0.2602 - mean_absolute_error: 0.3913 - root_mean_squared_error: 0.4999 - val_loss: 0.0925 - val_mean_absolute_error: 0.2324 - val_root_mean_squared_error: 0.3037\n",
      "Epoch 4/200\n",
      "\u001b[1m74/74\u001b[0m \u001b[32m━━━━━━━━━━━━━━━━━━━━\u001b[0m\u001b[37m\u001b[0m \u001b[1m1s\u001b[0m 15ms/step - loss: 0.2269 - mean_absolute_error: 0.3636 - root_mean_squared_error: 0.4671 - val_loss: 0.0855 - val_mean_absolute_error: 0.2238 - val_root_mean_squared_error: 0.2920\n",
      "Epoch 5/200\n",
      "\u001b[1m74/74\u001b[0m \u001b[32m━━━━━━━━━━━━━━━━━━━━\u001b[0m\u001b[37m\u001b[0m \u001b[1m1s\u001b[0m 14ms/step - loss: 0.1997 - mean_absolute_error: 0.3402 - root_mean_squared_error: 0.4389 - val_loss: 0.0800 - val_mean_absolute_error: 0.2178 - val_root_mean_squared_error: 0.2825\n",
      "Epoch 6/200\n",
      "\u001b[1m74/74\u001b[0m \u001b[32m━━━━━━━━━━━━━━━━━━━━\u001b[0m\u001b[37m\u001b[0m \u001b[1m1s\u001b[0m 14ms/step - loss: 0.1777 - mean_absolute_error: 0.3202 - root_mean_squared_error: 0.4150 - val_loss: 0.0755 - val_mean_absolute_error: 0.2122 - val_root_mean_squared_error: 0.2744\n",
      "Epoch 7/200\n",
      "\u001b[1m74/74\u001b[0m \u001b[32m━━━━━━━━━━━━━━━━━━━━\u001b[0m\u001b[37m\u001b[0m \u001b[1m1s\u001b[0m 14ms/step - loss: 0.1597 - mean_absolute_error: 0.3027 - root_mean_squared_error: 0.3945 - val_loss: 0.0717 - val_mean_absolute_error: 0.2070 - val_root_mean_squared_error: 0.2675\n",
      "Epoch 8/200\n",
      "\u001b[1m74/74\u001b[0m \u001b[32m━━━━━━━━━━━━━━━━━━━━\u001b[0m\u001b[37m\u001b[0m \u001b[1m1s\u001b[0m 14ms/step - loss: 0.1448 - mean_absolute_error: 0.2872 - root_mean_squared_error: 0.3766 - val_loss: 0.0685 - val_mean_absolute_error: 0.2020 - val_root_mean_squared_error: 0.2613\n",
      "Epoch 9/200\n",
      "\u001b[1m74/74\u001b[0m \u001b[32m━━━━━━━━━━━━━━━━━━━━\u001b[0m\u001b[37m\u001b[0m \u001b[1m1s\u001b[0m 14ms/step - loss: 0.1326 - mean_absolute_error: 0.2734 - root_mean_squared_error: 0.3612 - val_loss: 0.0657 - val_mean_absolute_error: 0.1970 - val_root_mean_squared_error: 0.2560\n",
      "Epoch 10/200\n",
      "\u001b[1m74/74\u001b[0m \u001b[32m━━━━━━━━━━━━━━━━━━━━\u001b[0m\u001b[37m\u001b[0m \u001b[1m1s\u001b[0m 14ms/step - loss: 0.1227 - mean_absolute_error: 0.2614 - root_mean_squared_error: 0.3481 - val_loss: 0.0633 - val_mean_absolute_error: 0.1925 - val_root_mean_squared_error: 0.2514\n",
      "Epoch 11/200\n",
      "\u001b[1m74/74\u001b[0m \u001b[32m━━━━━━━━━━━━━━━━━━━━\u001b[0m\u001b[37m\u001b[0m \u001b[1m1s\u001b[0m 16ms/step - loss: 0.1150 - mean_absolute_error: 0.2514 - root_mean_squared_error: 0.3375 - val_loss: 0.0614 - val_mean_absolute_error: 0.1887 - val_root_mean_squared_error: 0.2475\n",
      "Epoch 12/200\n",
      "\u001b[1m74/74\u001b[0m \u001b[32m━━━━━━━━━━━━━━━━━━━━\u001b[0m\u001b[37m\u001b[0m \u001b[1m1s\u001b[0m 15ms/step - loss: 0.1091 - mean_absolute_error: 0.2431 - root_mean_squared_error: 0.3291 - val_loss: 0.0599 - val_mean_absolute_error: 0.1855 - val_root_mean_squared_error: 0.2445\n",
      "Epoch 13/200\n",
      "\u001b[1m74/74\u001b[0m \u001b[32m━━━━━━━━━━━━━━━━━━━━\u001b[0m\u001b[37m\u001b[0m \u001b[1m1s\u001b[0m 16ms/step - loss: 0.1045 - mean_absolute_error: 0.2362 - root_mean_squared_error: 0.3224 - val_loss: 0.0587 - val_mean_absolute_error: 0.1831 - val_root_mean_squared_error: 0.2420\n",
      "Epoch 14/200\n",
      "\u001b[1m74/74\u001b[0m \u001b[32m━━━━━━━━━━━━━━━━━━━━\u001b[0m\u001b[37m\u001b[0m \u001b[1m1s\u001b[0m 16ms/step - loss: 0.1011 - mean_absolute_error: 0.2306 - root_mean_squared_error: 0.3171 - val_loss: 0.0577 - val_mean_absolute_error: 0.1813 - val_root_mean_squared_error: 0.2401\n",
      "Epoch 15/200\n",
      "\u001b[1m74/74\u001b[0m \u001b[32m━━━━━━━━━━━━━━━━━━━━\u001b[0m\u001b[37m\u001b[0m \u001b[1m1s\u001b[0m 14ms/step - loss: 0.0983 - mean_absolute_error: 0.2260 - root_mean_squared_error: 0.3129 - val_loss: 0.0570 - val_mean_absolute_error: 0.1799 - val_root_mean_squared_error: 0.2386\n",
      "Epoch 16/200\n",
      "\u001b[1m74/74\u001b[0m \u001b[32m━━━━━━━━━━━━━━━━━━━━\u001b[0m\u001b[37m\u001b[0m \u001b[1m1s\u001b[0m 14ms/step - loss: 0.0961 - mean_absolute_error: 0.2221 - root_mean_squared_error: 0.3094 - val_loss: 0.0564 - val_mean_absolute_error: 0.1788 - val_root_mean_squared_error: 0.2373\n",
      "Epoch 17/200\n",
      "\u001b[1m74/74\u001b[0m \u001b[32m━━━━━━━━━━━━━━━━━━━━\u001b[0m\u001b[37m\u001b[0m \u001b[1m1s\u001b[0m 14ms/step - loss: 0.0943 - mean_absolute_error: 0.2189 - root_mean_squared_error: 0.3065 - val_loss: 0.0559 - val_mean_absolute_error: 0.1778 - val_root_mean_squared_error: 0.2362\n",
      "Epoch 18/200\n",
      "\u001b[1m74/74\u001b[0m \u001b[32m━━━━━━━━━━━━━━━━━━━━\u001b[0m\u001b[37m\u001b[0m \u001b[1m1s\u001b[0m 14ms/step - loss: 0.0927 - mean_absolute_error: 0.2160 - root_mean_squared_error: 0.3039 - val_loss: 0.0554 - val_mean_absolute_error: 0.1770 - val_root_mean_squared_error: 0.2353\n",
      "Epoch 19/200\n",
      "\u001b[1m74/74\u001b[0m \u001b[32m━━━━━━━━━━━━━━━━━━━━\u001b[0m\u001b[37m\u001b[0m \u001b[1m1s\u001b[0m 16ms/step - loss: 0.0914 - mean_absolute_error: 0.2134 - root_mean_squared_error: 0.3017 - val_loss: 0.0550 - val_mean_absolute_error: 0.1763 - val_root_mean_squared_error: 0.2344\n",
      "Epoch 20/200\n",
      "\u001b[1m74/74\u001b[0m \u001b[32m━━━━━━━━━━━━━━━━━━━━\u001b[0m\u001b[37m\u001b[0m \u001b[1m1s\u001b[0m 18ms/step - loss: 0.0901 - mean_absolute_error: 0.2109 - root_mean_squared_error: 0.2995 - val_loss: 0.0546 - val_mean_absolute_error: 0.1757 - val_root_mean_squared_error: 0.2336\n",
      "Epoch 21/200\n",
      "\u001b[1m74/74\u001b[0m \u001b[32m━━━━━━━━━━━━━━━━━━━━\u001b[0m\u001b[37m\u001b[0m \u001b[1m1s\u001b[0m 18ms/step - loss: 0.0889 - mean_absolute_error: 0.2086 - root_mean_squared_error: 0.2975 - val_loss: 0.0543 - val_mean_absolute_error: 0.1752 - val_root_mean_squared_error: 0.2328\n",
      "Epoch 22/200\n",
      "\u001b[1m74/74\u001b[0m \u001b[32m━━━━━━━━━━━━━━━━━━━━\u001b[0m\u001b[37m\u001b[0m \u001b[1m1s\u001b[0m 18ms/step - loss: 0.0877 - mean_absolute_error: 0.2063 - root_mean_squared_error: 0.2955 - val_loss: 0.0539 - val_mean_absolute_error: 0.1747 - val_root_mean_squared_error: 0.2320\n",
      "Epoch 23/200\n",
      "\u001b[1m74/74\u001b[0m \u001b[32m━━━━━━━━━━━━━━━━━━━━\u001b[0m\u001b[37m\u001b[0m \u001b[1m1s\u001b[0m 16ms/step - loss: 0.0866 - mean_absolute_error: 0.2042 - root_mean_squared_error: 0.2936 - val_loss: 0.0536 - val_mean_absolute_error: 0.1741 - val_root_mean_squared_error: 0.2313\n",
      "Epoch 24/200\n",
      "\u001b[1m74/74\u001b[0m \u001b[32m━━━━━━━━━━━━━━━━━━━━\u001b[0m\u001b[37m\u001b[0m \u001b[1m1s\u001b[0m 15ms/step - loss: 0.0855 - mean_absolute_error: 0.2021 - root_mean_squared_error: 0.2916 - val_loss: 0.0532 - val_mean_absolute_error: 0.1736 - val_root_mean_squared_error: 0.2306\n",
      "Epoch 25/200\n",
      "\u001b[1m74/74\u001b[0m \u001b[32m━━━━━━━━━━━━━━━━━━━━\u001b[0m\u001b[37m\u001b[0m \u001b[1m1s\u001b[0m 15ms/step - loss: 0.0844 - mean_absolute_error: 0.2000 - root_mean_squared_error: 0.2896 - val_loss: 0.0529 - val_mean_absolute_error: 0.1731 - val_root_mean_squared_error: 0.2300\n",
      "Epoch 26/200\n",
      "\u001b[1m74/74\u001b[0m \u001b[32m━━━━━━━━━━━━━━━━━━━━\u001b[0m\u001b[37m\u001b[0m \u001b[1m1s\u001b[0m 15ms/step - loss: 0.0833 - mean_absolute_error: 0.1980 - root_mean_squared_error: 0.2876 - val_loss: 0.0527 - val_mean_absolute_error: 0.1726 - val_root_mean_squared_error: 0.2293\n",
      "Epoch 27/200\n",
      "\u001b[1m74/74\u001b[0m \u001b[32m━━━━━━━━━━━━━━━━━━━━\u001b[0m\u001b[37m\u001b[0m \u001b[1m1s\u001b[0m 16ms/step - loss: 0.0821 - mean_absolute_error: 0.1960 - root_mean_squared_error: 0.2856 - val_loss: 0.0524 - val_mean_absolute_error: 0.1721 - val_root_mean_squared_error: 0.2288\n",
      "Epoch 28/200\n",
      "\u001b[1m74/74\u001b[0m \u001b[32m━━━━━━━━━━━━━━━━━━━━\u001b[0m\u001b[37m\u001b[0m \u001b[1m1s\u001b[0m 14ms/step - loss: 0.0811 - mean_absolute_error: 0.1940 - root_mean_squared_error: 0.2837 - val_loss: 0.0522 - val_mean_absolute_error: 0.1717 - val_root_mean_squared_error: 0.2283\n",
      "Epoch 29/200\n",
      "\u001b[1m74/74\u001b[0m \u001b[32m━━━━━━━━━━━━━━━━━━━━\u001b[0m\u001b[37m\u001b[0m \u001b[1m1s\u001b[0m 15ms/step - loss: 0.0800 - mean_absolute_error: 0.1921 - root_mean_squared_error: 0.2818 - val_loss: 0.0520 - val_mean_absolute_error: 0.1714 - val_root_mean_squared_error: 0.2278\n",
      "Epoch 30/200\n",
      "\u001b[1m74/74\u001b[0m \u001b[32m━━━━━━━━━━━━━━━━━━━━\u001b[0m\u001b[37m\u001b[0m \u001b[1m1s\u001b[0m 14ms/step - loss: 0.0790 - mean_absolute_error: 0.1904 - root_mean_squared_error: 0.2799 - val_loss: 0.0518 - val_mean_absolute_error: 0.1711 - val_root_mean_squared_error: 0.2275\n",
      "Epoch 31/200\n",
      "\u001b[1m74/74\u001b[0m \u001b[32m━━━━━━━━━━━━━━━━━━━━\u001b[0m\u001b[37m\u001b[0m \u001b[1m1s\u001b[0m 19ms/step - loss: 0.0781 - mean_absolute_error: 0.1888 - root_mean_squared_error: 0.2782 - val_loss: 0.0517 - val_mean_absolute_error: 0.1710 - val_root_mean_squared_error: 0.2272\n",
      "Epoch 32/200\n",
      "\u001b[1m74/74\u001b[0m \u001b[32m━━━━━━━━━━━━━━━━━━━━\u001b[0m\u001b[37m\u001b[0m \u001b[1m1s\u001b[0m 18ms/step - loss: 0.0772 - mean_absolute_error: 0.1874 - root_mean_squared_error: 0.2766 - val_loss: 0.0517 - val_mean_absolute_error: 0.1710 - val_root_mean_squared_error: 0.2271\n",
      "Epoch 33/200\n",
      "\u001b[1m74/74\u001b[0m \u001b[32m━━━━━━━━━━━━━━━━━━━━\u001b[0m\u001b[37m\u001b[0m \u001b[1m1s\u001b[0m 18ms/step - loss: 0.0764 - mean_absolute_error: 0.1862 - root_mean_squared_error: 0.2751 - val_loss: 0.0516 - val_mean_absolute_error: 0.1711 - val_root_mean_squared_error: 0.2270\n",
      "Epoch 34/200\n",
      "\u001b[1m74/74\u001b[0m \u001b[32m━━━━━━━━━━━━━━━━━━━━\u001b[0m\u001b[37m\u001b[0m \u001b[1m1s\u001b[0m 18ms/step - loss: 0.0757 - mean_absolute_error: 0.1850 - root_mean_squared_error: 0.2737 - val_loss: 0.0516 - val_mean_absolute_error: 0.1712 - val_root_mean_squared_error: 0.2269\n",
      "Epoch 35/200\n",
      "\u001b[1m74/74\u001b[0m \u001b[32m━━━━━━━━━━━━━━━━━━━━\u001b[0m\u001b[37m\u001b[0m \u001b[1m1s\u001b[0m 17ms/step - loss: 0.0750 - mean_absolute_error: 0.1841 - root_mean_squared_error: 0.2725 - val_loss: 0.0516 - val_mean_absolute_error: 0.1712 - val_root_mean_squared_error: 0.2268\n",
      "Epoch 36/200\n",
      "\u001b[1m74/74\u001b[0m \u001b[32m━━━━━━━━━━━━━━━━━━━━\u001b[0m\u001b[37m\u001b[0m \u001b[1m1s\u001b[0m 15ms/step - loss: 0.0744 - mean_absolute_error: 0.1831 - root_mean_squared_error: 0.2714 - val_loss: 0.0515 - val_mean_absolute_error: 0.1712 - val_root_mean_squared_error: 0.2268\n",
      "Epoch 37/200\n",
      "\u001b[1m74/74\u001b[0m \u001b[32m━━━━━━━━━━━━━━━━━━━━\u001b[0m\u001b[37m\u001b[0m \u001b[1m1s\u001b[0m 15ms/step - loss: 0.0738 - mean_absolute_error: 0.1823 - root_mean_squared_error: 0.2704 - val_loss: 0.0515 - val_mean_absolute_error: 0.1711 - val_root_mean_squared_error: 0.2267\n",
      "Epoch 38/200\n",
      "\u001b[1m74/74\u001b[0m \u001b[32m━━━━━━━━━━━━━━━━━━━━\u001b[0m\u001b[37m\u001b[0m \u001b[1m1s\u001b[0m 15ms/step - loss: 0.0733 - mean_absolute_error: 0.1815 - root_mean_squared_error: 0.2694 - val_loss: 0.0515 - val_mean_absolute_error: 0.1711 - val_root_mean_squared_error: 0.2266\n",
      "Epoch 39/200\n",
      "\u001b[1m74/74\u001b[0m \u001b[32m━━━━━━━━━━━━━━━━━━━━\u001b[0m\u001b[37m\u001b[0m \u001b[1m1s\u001b[0m 14ms/step - loss: 0.0728 - mean_absolute_error: 0.1808 - root_mean_squared_error: 0.2685 - val_loss: 0.0514 - val_mean_absolute_error: 0.1711 - val_root_mean_squared_error: 0.2265\n",
      "Epoch 40/200\n",
      "\u001b[1m74/74\u001b[0m \u001b[32m━━━━━━━━━━━━━━━━━━━━\u001b[0m\u001b[37m\u001b[0m \u001b[1m1s\u001b[0m 16ms/step - loss: 0.0724 - mean_absolute_error: 0.1801 - root_mean_squared_error: 0.2676 - val_loss: 0.0513 - val_mean_absolute_error: 0.1710 - val_root_mean_squared_error: 0.2263\n",
      "Epoch 41/200\n",
      "\u001b[1m74/74\u001b[0m \u001b[32m━━━━━━━━━━━━━━━━━━━━\u001b[0m\u001b[37m\u001b[0m \u001b[1m1s\u001b[0m 16ms/step - loss: 0.0719 - mean_absolute_error: 0.1794 - root_mean_squared_error: 0.2668 - val_loss: 0.0513 - val_mean_absolute_error: 0.1710 - val_root_mean_squared_error: 0.2261\n",
      "Epoch 42/200\n",
      "\u001b[1m74/74\u001b[0m \u001b[32m━━━━━━━━━━━━━━━━━━━━\u001b[0m\u001b[37m\u001b[0m \u001b[1m1s\u001b[0m 16ms/step - loss: 0.0715 - mean_absolute_error: 0.1789 - root_mean_squared_error: 0.2659 - val_loss: 0.0512 - val_mean_absolute_error: 0.1709 - val_root_mean_squared_error: 0.2259\n",
      "Epoch 43/200\n",
      "\u001b[1m74/74\u001b[0m \u001b[32m━━━━━━━━━━━━━━━━━━━━\u001b[0m\u001b[37m\u001b[0m \u001b[1m1s\u001b[0m 14ms/step - loss: 0.0710 - mean_absolute_error: 0.1783 - root_mean_squared_error: 0.2651 - val_loss: 0.0510 - val_mean_absolute_error: 0.1709 - val_root_mean_squared_error: 0.2256\n",
      "Epoch 44/200\n",
      "\u001b[1m74/74\u001b[0m \u001b[32m━━━━━━━━━━━━━━━━━━━━\u001b[0m\u001b[37m\u001b[0m \u001b[1m1s\u001b[0m 14ms/step - loss: 0.0706 - mean_absolute_error: 0.1778 - root_mean_squared_error: 0.2643 - val_loss: 0.0509 - val_mean_absolute_error: 0.1708 - val_root_mean_squared_error: 0.2254\n",
      "Epoch 45/200\n",
      "\u001b[1m74/74\u001b[0m \u001b[32m━━━━━━━━━━━━━━━━━━━━\u001b[0m\u001b[37m\u001b[0m \u001b[1m1s\u001b[0m 16ms/step - loss: 0.0702 - mean_absolute_error: 0.1773 - root_mean_squared_error: 0.2635 - val_loss: 0.0508 - val_mean_absolute_error: 0.1707 - val_root_mean_squared_error: 0.2251\n",
      "Epoch 46/200\n",
      "\u001b[1m74/74\u001b[0m \u001b[32m━━━━━━━━━━━━━━━━━━━━\u001b[0m\u001b[37m\u001b[0m \u001b[1m1s\u001b[0m 14ms/step - loss: 0.0698 - mean_absolute_error: 0.1768 - root_mean_squared_error: 0.2627 - val_loss: 0.0507 - val_mean_absolute_error: 0.1706 - val_root_mean_squared_error: 0.2248\n",
      "Epoch 47/200\n",
      "\u001b[1m74/74\u001b[0m \u001b[32m━━━━━━━━━━━━━━━━━━━━\u001b[0m\u001b[37m\u001b[0m \u001b[1m1s\u001b[0m 18ms/step - loss: 0.0694 - mean_absolute_error: 0.1763 - root_mean_squared_error: 0.2620 - val_loss: 0.0505 - val_mean_absolute_error: 0.1705 - val_root_mean_squared_error: 0.2245\n",
      "Epoch 48/200\n",
      "\u001b[1m74/74\u001b[0m \u001b[32m━━━━━━━━━━━━━━━━━━━━\u001b[0m\u001b[37m\u001b[0m \u001b[1m1s\u001b[0m 17ms/step - loss: 0.0690 - mean_absolute_error: 0.1759 - root_mean_squared_error: 0.2612 - val_loss: 0.0504 - val_mean_absolute_error: 0.1704 - val_root_mean_squared_error: 0.2242\n",
      "Epoch 49/200\n",
      "\u001b[1m74/74\u001b[0m \u001b[32m━━━━━━━━━━━━━━━━━━━━\u001b[0m\u001b[37m\u001b[0m \u001b[1m1s\u001b[0m 15ms/step - loss: 0.0686 - mean_absolute_error: 0.1754 - root_mean_squared_error: 0.2605 - val_loss: 0.0503 - val_mean_absolute_error: 0.1703 - val_root_mean_squared_error: 0.2239\n",
      "Epoch 50/200\n",
      "\u001b[1m74/74\u001b[0m \u001b[32m━━━━━━━━━━━━━━━━━━━━\u001b[0m\u001b[37m\u001b[0m \u001b[1m1s\u001b[0m 15ms/step - loss: 0.0682 - mean_absolute_error: 0.1749 - root_mean_squared_error: 0.2597 - val_loss: 0.0502 - val_mean_absolute_error: 0.1702 - val_root_mean_squared_error: 0.2237\n",
      "Epoch 51/200\n",
      "\u001b[1m74/74\u001b[0m \u001b[32m━━━━━━━━━━━━━━━━━━━━\u001b[0m\u001b[37m\u001b[0m \u001b[1m1s\u001b[0m 15ms/step - loss: 0.0678 - mean_absolute_error: 0.1744 - root_mean_squared_error: 0.2590 - val_loss: 0.0502 - val_mean_absolute_error: 0.1702 - val_root_mean_squared_error: 0.2236\n",
      "Epoch 52/200\n",
      "\u001b[1m74/74\u001b[0m \u001b[32m━━━━━━━━━━━━━━━━━━━━\u001b[0m\u001b[37m\u001b[0m \u001b[1m1s\u001b[0m 14ms/step - loss: 0.0674 - mean_absolute_error: 0.1739 - root_mean_squared_error: 0.2582 - val_loss: 0.0501 - val_mean_absolute_error: 0.1702 - val_root_mean_squared_error: 0.2234\n",
      "Epoch 53/200\n",
      "\u001b[1m74/74\u001b[0m \u001b[32m━━━━━━━━━━━━━━━━━━━━\u001b[0m\u001b[37m\u001b[0m \u001b[1m1s\u001b[0m 15ms/step - loss: 0.0670 - mean_absolute_error: 0.1734 - root_mean_squared_error: 0.2574 - val_loss: 0.0501 - val_mean_absolute_error: 0.1703 - val_root_mean_squared_error: 0.2234\n",
      "Epoch 54/200\n",
      "\u001b[1m74/74\u001b[0m \u001b[32m━━━━━━━━━━━━━━━━━━━━\u001b[0m\u001b[37m\u001b[0m \u001b[1m1s\u001b[0m 14ms/step - loss: 0.0665 - mean_absolute_error: 0.1728 - root_mean_squared_error: 0.2566 - val_loss: 0.0501 - val_mean_absolute_error: 0.1703 - val_root_mean_squared_error: 0.2234\n",
      "Epoch 55/200\n",
      "\u001b[1m74/74\u001b[0m \u001b[32m━━━━━━━━━━━━━━━━━━━━\u001b[0m\u001b[37m\u001b[0m \u001b[1m1s\u001b[0m 19ms/step - loss: 0.0661 - mean_absolute_error: 0.1723 - root_mean_squared_error: 0.2557 - val_loss: 0.0501 - val_mean_absolute_error: 0.1704 - val_root_mean_squared_error: 0.2234\n",
      "Epoch 56/200\n",
      "\u001b[1m74/74\u001b[0m \u001b[32m━━━━━━━━━━━━━━━━━━━━\u001b[0m\u001b[37m\u001b[0m \u001b[1m1s\u001b[0m 18ms/step - loss: 0.0656 - mean_absolute_error: 0.1717 - root_mean_squared_error: 0.2548 - val_loss: 0.0502 - val_mean_absolute_error: 0.1705 - val_root_mean_squared_error: 0.2235\n",
      "Epoch 57/200\n",
      "\u001b[1m74/74\u001b[0m \u001b[32m━━━━━━━━━━━━━━━━━━━━\u001b[0m\u001b[37m\u001b[0m \u001b[1m1s\u001b[0m 18ms/step - loss: 0.0651 - mean_absolute_error: 0.1711 - root_mean_squared_error: 0.2538 - val_loss: 0.0502 - val_mean_absolute_error: 0.1707 - val_root_mean_squared_error: 0.2237\n",
      "Epoch 58/200\n",
      "\u001b[1m74/74\u001b[0m \u001b[32m━━━━━━━━━━━━━━━━━━━━\u001b[0m\u001b[37m\u001b[0m \u001b[1m1s\u001b[0m 15ms/step - loss: 0.0646 - mean_absolute_error: 0.1705 - root_mean_squared_error: 0.2528 - val_loss: 0.0503 - val_mean_absolute_error: 0.1709 - val_root_mean_squared_error: 0.2239\n",
      "Epoch 59/200\n",
      "\u001b[1m74/74\u001b[0m \u001b[32m━━━━━━━━━━━━━━━━━━━━\u001b[0m\u001b[37m\u001b[0m \u001b[1m1s\u001b[0m 14ms/step - loss: 0.0641 - mean_absolute_error: 0.1699 - root_mean_squared_error: 0.2518 - val_loss: 0.0505 - val_mean_absolute_error: 0.1711 - val_root_mean_squared_error: 0.2242\n",
      "Epoch 60/200\n",
      "\u001b[1m74/74\u001b[0m \u001b[32m━━━━━━━━━━━━━━━━━━━━\u001b[0m\u001b[37m\u001b[0m \u001b[1m1s\u001b[0m 15ms/step - loss: 0.0636 - mean_absolute_error: 0.1694 - root_mean_squared_error: 0.2508 - val_loss: 0.0506 - val_mean_absolute_error: 0.1713 - val_root_mean_squared_error: 0.2244\n",
      "Epoch 61/200\n",
      "\u001b[1m74/74\u001b[0m \u001b[32m━━━━━━━━━━━━━━━━━━━━\u001b[0m\u001b[37m\u001b[0m \u001b[1m1s\u001b[0m 14ms/step - loss: 0.0631 - mean_absolute_error: 0.1690 - root_mean_squared_error: 0.2498 - val_loss: 0.0507 - val_mean_absolute_error: 0.1714 - val_root_mean_squared_error: 0.2246\n",
      "Epoch 62/200\n",
      "\u001b[1m74/74\u001b[0m \u001b[32m━━━━━━━━━━━━━━━━━━━━\u001b[0m\u001b[37m\u001b[0m \u001b[1m1s\u001b[0m 14ms/step - loss: 0.0626 - mean_absolute_error: 0.1686 - root_mean_squared_error: 0.2489 - val_loss: 0.0507 - val_mean_absolute_error: 0.1715 - val_root_mean_squared_error: 0.2247\n",
      "Epoch 63/200\n",
      "\u001b[1m74/74\u001b[0m \u001b[32m━━━━━━━━━━━━━━━━━━━━\u001b[0m\u001b[37m\u001b[0m \u001b[1m1s\u001b[0m 15ms/step - loss: 0.0622 - mean_absolute_error: 0.1682 - root_mean_squared_error: 0.2480 - val_loss: 0.0507 - val_mean_absolute_error: 0.1715 - val_root_mean_squared_error: 0.2247\n",
      "Epoch 64/200\n",
      "\u001b[1m74/74\u001b[0m \u001b[32m━━━━━━━━━━━━━━━━━━━━\u001b[0m\u001b[37m\u001b[0m \u001b[1m1s\u001b[0m 15ms/step - loss: 0.0617 - mean_absolute_error: 0.1678 - root_mean_squared_error: 0.2472 - val_loss: 0.0506 - val_mean_absolute_error: 0.1714 - val_root_mean_squared_error: 0.2246\n"
     ]
    }
   ],
   "source": [
    "model.compile(optimizer='adam', loss='mean_squared_error', metrics=[RMSE(), MAE()])\n",
    "es = callbacks.EarlyStopping(monitor='val_loss', patience=10, restore_best_weights=True)\n",
    "history = model.fit([train_people, train_temperature], y_train, epochs=200, batch_size=32, shuffle=False, validation_data=([val_people, val_temperature], y_val), callbacks=[es])"
   ]
  },
  {
   "cell_type": "code",
   "execution_count": 224,
   "metadata": {},
   "outputs": [
    {
     "name": "stdout",
     "output_type": "stream",
     "text": [
      "\u001b[1m16/16\u001b[0m \u001b[32m━━━━━━━━━━━━━━━━━━━━\u001b[0m\u001b[37m\u001b[0m \u001b[1m0s\u001b[0m 29ms/step - loss: 0.0596 - mean_absolute_error: 0.1775 - root_mean_squared_error: 0.2371\n",
      "[0.10611027479171753, 0.20269210636615753, 0.2862265408039093]\n"
     ]
    }
   ],
   "source": [
    "eval_result = model.evaluate([test_people, test_temperature], y_test)\n",
    "print(eval_result)"
   ]
  },
  {
   "cell_type": "code",
   "execution_count": 225,
   "metadata": {},
   "outputs": [
    {
     "data": {
      "text/plain": [
       "<matplotlib.legend.Legend at 0x37e5c88d0>"
      ]
     },
     "execution_count": 225,
     "metadata": {},
     "output_type": "execute_result"
    },
    {
     "data": {
      "image/png": "[encoded data removed]",
      "text/plain": [
       "<Figure size 640x480 with 1 Axes>"
      ]
     },
     "metadata": {},
     "output_type": "display_data"
    }
   ],
   "source": [
    "pd.Series(history.history['loss']).plot(style='k')\n",
    "pd.Series(history.history['val_loss']).plot(style='r')\n",
    "plt.legend(['Train', 'Validation'])"
   ]
  },
  {
   "cell_type": "code",
   "execution_count": 226,
   "metadata": {},
   "outputs": [
    {
     "name": "stdout",
     "output_type": "stream",
     "text": [
      "\u001b[1m16/16\u001b[0m \u001b[32m━━━━━━━━━━━━━━━━━━━━\u001b[0m\u001b[37m\u001b[0m \u001b[1m0s\u001b[0m 13ms/step\n"
     ]
    }
   ],
   "source": [
    "result = model.predict([test_people, test_temperature])[-1]"
   ]
  },
  {
   "cell_type": "code",
   "execution_count": 227,
   "metadata": {},
   "outputs": [
    {
     "name": "stdout",
     "output_type": "stream",
     "text": [
      "[0.96821946]\n"
     ]
    }
   ],
   "source": [
    "print(result)"
   ]
  },
  {
   "cell_type": "code",
   "execution_count": 228,
   "metadata": {},
   "outputs": [],
   "source": [
    "result = [result[-1], result[-1]]"
   ]
  },
  {
   "cell_type": "code",
   "execution_count": 229,
   "metadata": {},
   "outputs": [],
   "source": [
    "result = np.array(result)"
   ]
  },
  {
   "cell_type": "code",
   "execution_count": 230,
   "metadata": {},
   "outputs": [],
   "source": [
    "result = scaler.inverse_transform(result.reshape(1, -1))"
   ]
  },
  {
   "cell_type": "code",
   "execution_count": 231,
   "metadata": {},
   "outputs": [
    {
     "name": "stdout",
     "output_type": "stream",
     "text": [
      "18345.578\n"
     ]
    }
   ],
   "source": [
    "print(result[0][0])"
   ]
  },
  {
   "cell_type": "code",
   "execution_count": 232,
   "metadata": {},
   "outputs": [
    {
     "name": "stdout",
     "output_type": "stream",
     "text": [
      "12751.0\n"
     ]
    }
   ],
   "source": [
    "res = np.array([test_y.iloc[-1], test_y.iloc[-1]])\n",
    "res = scaler.inverse_transform(res.reshape(1, -1))\n",
    "print(res[0][0])"
   ]
  },
  {
   "cell_type": "code",
   "execution_count": 233,
   "metadata": {},
   "outputs": [
    {
     "name": "stdout",
     "output_type": "stream",
     "text": [
      "\u001b[1m 1/16\u001b[0m \u001b[32m━\u001b[0m\u001b[37m━━━━━━━━━━━━━━━━━━━\u001b[0m \u001b[1m0s\u001b[0m 14ms/step"
     ]
    },
    {
     "name": "stdout",
     "output_type": "stream",
     "text": [
      "\u001b[1m16/16\u001b[0m \u001b[32m━━━━━━━━━━━━━━━━━━━━\u001b[0m\u001b[37m\u001b[0m \u001b[1m0s\u001b[0m 3ms/step\n"
     ]
    }
   ],
   "source": [
    "result = model.predict([test_people, test_temperature])"
   ]
  },
  {
   "cell_type": "code",
   "execution_count": 234,
   "metadata": {},
   "outputs": [],
   "source": [
    "def plot_forecast(test_y, result, index=index):\n",
    "    plt.plot(index, test_y, label='actual')\n",
    "    plt.plot(index, result, label='forecast')\n",
    "    plt.legend()\n",
    "    plt.show()"
   ]
  },
  {
   "cell_type": "code",
   "execution_count": 235,
   "metadata": {},
   "outputs": [],
   "source": [
    "test_y_ex = np.array([test_y, test_y])"
   ]
  },
  {
   "cell_type": "code",
   "execution_count": 236,
   "metadata": {},
   "outputs": [],
   "source": [
    "test_y_ex = np.array(test_y_ex.T)"
   ]
  },
  {
   "cell_type": "code",
   "execution_count": 237,
   "metadata": {},
   "outputs": [
    {
     "name": "stdout",
     "output_type": "stream",
     "text": [
      "(486, 2)\n"
     ]
    }
   ],
   "source": [
    "print(test_y_ex.shape)"
   ]
  },
  {
   "cell_type": "code",
   "execution_count": 238,
   "metadata": {},
   "outputs": [],
   "source": [
    "test_y = scaler.inverse_transform(test_y_ex)"
   ]
  },
  {
   "cell_type": "code",
   "execution_count": 239,
   "metadata": {},
   "outputs": [
    {
     "name": "stdout",
     "output_type": "stream",
     "text": [
      "[ 3669.  3910.  4031.  5807.  7202.  9444. 12798. 13134. 14116. 12800.\n",
      " 11388. 12411. 12229.  7530.  5348.  6680.  6431.  4717.  4047.  4305.\n",
      "  3997.  3988.  2295.  2416.  3753.  4170.  5492.  6024.  9016. 11629.\n",
      " 14193. 10913.  8191.  8577.  8610. 10059.  8373.  7772.  6518.  5768.\n",
      "  4958.  4763.  4491.  4530.  4496.  4118.  2921.  3301.  3335.  4942.\n",
      "  9130. 10375. 11173. 14430. 16136. 16037. 17111. 16096. 14379. 14793.\n",
      " 14239. 11939.  9600.  7850.  6463.  5443.  5165.  4924.  4764.  4872.\n",
      "  3292.  3673.  3958.  5875.  9780. 11876. 12144. 13215. 14322. 18572.\n",
      " 19070. 18182. 17352. 17554. 16795. 13224. 10401.  7993.  6648.  5902.\n",
      "  5706.  5297.  5378.  5059.  4250.  4915.  5103.  6708. 12076. 15013.\n",
      " 15057. 17617. 20683. 23015. 22104. 23203. 23976. 24702. 21751. 22529.\n",
      " 15821.  9768.  7091.  6484.  7109.  7739.  7487.  7342.  6571.  7518.\n",
      "  7702.  9944. 13593. 16188. 20538. 22418. 26811. 27704. 23078. 22956.\n",
      " 23848. 21624. 18722. 16849. 14199. 10909.  8326.  7096.  6627.  6548.\n",
      "  6438.  6044.  4296.  4638.  4560.  5864.  6886. 10323. 12462. 16076.\n",
      " 18854. 17311. 16196. 16296. 16597. 18142. 17766. 15676. 11665.  8493.\n",
      "  7984.  7304.  6701.  6745.  6238.  5963.  4212.  4550.  4661.  4601.\n",
      "  6206.  9410. 13112. 17699. 17743. 17885. 17470. 18756. 16321. 15497.\n",
      " 13803. 11247.  9662.  8552.  8119.  8218.  6014.  6277.  5966.  5693.\n",
      "  5242.  5884.  5787.  8020. 14081. 14385. 18816. 18268. 22090. 20378.\n",
      " 18784. 18925. 18699. 19742. 13343. 11110.  9264.  9308.  8310.  7563.\n",
      "  5927.  5913.  6004.  5835.  3809.  4348.  4633.  6328. 10521. 12988.\n",
      " 12500. 14802. 20724. 21150. 18956. 19092. 18137. 15995. 16019. 15144.\n",
      " 14201. 10086.  8337.  7083.  6576.  6290.  5938.  5927.  4151.  4128.\n",
      "  4999. 10088. 15109. 15702. 16437. 21238. 25683. 24193. 24863. 25169.\n",
      " 26106. 25228. 19654. 17478. 14321. 11902.  8033.  7674.  6183.  6141.\n",
      "  5558.  5643.  3973.  3828.  3928.  6036. 10219. 16490. 17605. 20794.\n",
      " 24753. 24848. 25494. 27685. 24845. 23325. 21925. 20176. 15854.  9545.\n",
      "  8559.  8110.  7344.  7504.  7072.  6278.  4873.  5017.  4833.  6180.\n",
      " 10114. 12119. 14402. 18213. 20104. 18135. 15882. 18438. 19679. 20172.\n",
      " 16909. 13194.  9948.  8804.  7229.  6318.  5812.  5635.  5625.  5549.\n",
      "  4701.  5404.  5353.  5936.  6923.  9640. 14970. 21094. 23720. 25079.\n",
      " 22345. 20943. 21818. 19617. 18893. 15225. 13474. 10125.  9095.  9614.\n",
      "  8365.  7852.  7742.  7705.  6379.  7510.  7578.  7266.  9024. 12165.\n",
      " 15993. 18481. 19469. 20973. 20665. 18924. 20773. 20686. 19284. 14433.\n",
      " 10957. 10142.  9724.  8092.  7797.  7675.  7411.  7024.  4624.  5234.\n",
      "  5208.  7218. 13893. 15768. 20065. 19345. 22742. 20035. 17836. 18020.\n",
      " 20494. 18615. 17256. 14244. 10929.  8903.  8760.  7919.  8046.  7756.\n",
      "  7438.  7279.  6393.  7514.  7600.  9498. 15210. 17035. 17313. 19108.\n",
      " 22815. 22401. 23029. 22558. 23153. 22104. 17432. 15434. 11121.  9918.\n",
      " 10501. 10112.  8291.  7557.  7563.  7493.  6627.  7788.  8094.  9756.\n",
      " 14581. 15009. 16406. 17258. 27038. 25612. 25178. 24940. 24741. 21595.\n",
      " 18327. 13765. 13629.  9625.  7965.  6356.  5355.  6382.  4054.  4489.\n",
      "  4995.  3464.  5461. 10989. 10481. 15237. 16723. 18902. 15577. 23534.\n",
      " 21646. 15897. 20677. 23465. 13014. 14639. 10698.  5309.  7881.  8301.\n",
      "  4908.  6767.  6974.  3977.  6769.  7669.  5718. 13761. 18947. 14088.\n",
      " 22470. 25956. 17133. 23430. 21378. 16173. 21175. 19527. 11431. 10863.\n",
      "  8257.  7177.  6254.  7442.  5548.  4811.  6270.  6512.  4442.  6819.\n",
      "  9020.  9741. 19613. 22055. 14644. 12751.]\n"
     ]
    }
   ],
   "source": [
    "print(test_y[:, 0])"
   ]
  },
  {
   "cell_type": "code",
   "execution_count": 240,
   "metadata": {},
   "outputs": [],
   "source": [
    "result = np.array([result[:, 0], result[:, 0]])"
   ]
  },
  {
   "cell_type": "code",
   "execution_count": 241,
   "metadata": {},
   "outputs": [
    {
     "name": "stdout",
     "output_type": "stream",
     "text": [
      "(486, 2)\n"
     ]
    }
   ],
   "source": [
    "result = result.T\n",
    "print(result.shape)"
   ]
  },
  {
   "cell_type": "code",
   "execution_count": 242,
   "metadata": {},
   "outputs": [],
   "source": [
    "result = scaler.inverse_transform(result)"
   ]
  },
  {
   "cell_type": "code",
   "execution_count": 243,
   "metadata": {},
   "outputs": [
    {
     "data": {
      "image/png": "[encoded data removed]",
      "text/plain": [
       "<Figure size 640x480 with 1 Axes>"
      ]
     },
     "metadata": {},
     "output_type": "display_data"
    }
   ],
   "source": [
    "plot_forecast(test_y[:, 0], result[:, 0])"
   ]
  },
  {
   "cell_type": "code",
   "execution_count": 244,
   "metadata": {},
   "outputs": [],
   "source": [
    "def plot_error(test_y, result):\n",
    "    error = test_y - result\n",
    "    plt.plot(index, error, label='error')\n",
    "    plt.title(f'Error MAE: {np.mean(np.abs(error)):.2f} RMSE: {np.sqrt(np.mean(error**2)):.2f}')\n",
    "    plt.legend()\n",
    "    plt.show()"
   ]
  },
  {
   "cell_type": "code",
   "execution_count": 245,
   "metadata": {},
   "outputs": [
    {
     "data": {
      "image/png": "[encoded data removed]",
      "text/plain": [
       "<Figure size 640x480 with 1 Axes>"
      ]
     },
     "metadata": {},
     "output_type": "display_data"
    }
   ],
   "source": [
    "plot_error(test_y[:, 0], result[:, 0])"
   ]
  },
  {
   "cell_type": "code",
   "execution_count": null,
   "metadata": {},
   "outputs": [],
   "source": []
  }
 ],
 "metadata": {
  "kernelspec": {
   "display_name": "tensorflow",
   "language": "python",
   "name": "python3"
  },
  "language_info": {
   "codemirror_mode": {
    "name": "ipython",
    "version": 3
   },
   "file_extension": ".py",
   "mimetype": "text/x-python",
   "name": "python",
   "nbconvert_exporter": "python",
   "pygments_lexer": "ipython3",
   "version": "3.11.8"
  }
 },
 "nbformat": 4,
 "nbformat_minor": 2
}
