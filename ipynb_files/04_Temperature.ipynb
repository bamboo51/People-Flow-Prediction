{
 "cells": [
  {
   "cell_type": "markdown",
   "metadata": {},
   "source": [
    "# Predict People with multivariances"
   ]
  },
  {
   "cell_type": "code",
   "execution_count": 1,
   "metadata": {},
   "outputs": [],
   "source": [
    "import numpy as np\n",
    "import matplotlib.pyplot as plt"
   ]
  },
  {
   "cell_type": "markdown",
   "metadata": {},
   "source": [
    "## Import data"
   ]
  },
  {
   "cell_type": "code",
   "execution_count": 2,
   "metadata": {},
   "outputs": [],
   "source": [
    "import pandas as pd\n",
    "\n",
    "path = '../data/num_file/hrs_1/p040.csv'\n",
    "people = pd.read_csv(path, encoding='utf-8')"
   ]
  },
  {
   "cell_type": "markdown",
   "metadata": {},
   "source": [
    "Merge \"date\" and \"hour\" columns to be datetime"
   ]
  },
  {
   "cell_type": "code",
   "execution_count": 3,
   "metadata": {},
   "outputs": [
    {
     "name": "stdout",
     "output_type": "stream",
     "text": [
      "                      amount\n",
      "datetime                    \n",
      "2022-04-21 01:00:00   1033.0\n",
      "2022-04-21 02:00:00     65.0\n",
      "2022-04-21 12:00:00   1604.0\n",
      "2022-04-25 15:00:00   4458.0\n",
      "2022-04-25 16:00:00  18501.0\n",
      "...                      ...\n",
      "2022-09-03 07:00:00   9741.0\n",
      "2022-09-03 08:00:00  19613.0\n",
      "2022-09-03 09:00:00  22055.0\n",
      "2022-09-03 10:00:00  14644.0\n",
      "2022-09-03 11:00:00  12751.0\n",
      "\n",
      "[3144 rows x 1 columns]\n"
     ]
    }
   ],
   "source": [
    "people['datetime'] = pd.to_datetime(people['date'])+pd.to_timedelta(people['hour'], unit='h')\n",
    "people = people.drop(['date', 'hour'], axis=1)\n",
    "people.set_index('datetime', inplace=True)\n",
    "people.columns = ['amount']\n",
    "people['amount'] = people['amount'].astype(float)\n",
    "print(people)"
   ]
  },
  {
   "cell_type": "markdown",
   "metadata": {},
   "source": [
    "Resample the data that are not existed"
   ]
  },
  {
   "cell_type": "code",
   "execution_count": 4,
   "metadata": {},
   "outputs": [
    {
     "name": "stdout",
     "output_type": "stream",
     "text": [
      "                      amount\n",
      "2022-04-21 01:00:00   1033.0\n",
      "2022-04-21 02:00:00     65.0\n",
      "2022-04-21 03:00:00   1604.0\n",
      "2022-04-21 04:00:00   1604.0\n",
      "2022-04-21 05:00:00   1604.0\n",
      "...                      ...\n",
      "2022-09-03 07:00:00   9741.0\n",
      "2022-09-03 08:00:00  19613.0\n",
      "2022-09-03 09:00:00  22055.0\n",
      "2022-09-03 10:00:00  14644.0\n",
      "2022-09-03 11:00:00  12751.0\n",
      "\n",
      "[3251 rows x 1 columns]\n"
     ]
    }
   ],
   "source": [
    "full_index = pd.date_range(start=people.index.min(), end=people.index.max(), freq='h')\n",
    "people = people.reindex(full_index)\n",
    "people['amount'] = people['amount'].bfill()\n",
    "print(people)"
   ]
  },
  {
   "cell_type": "code",
   "execution_count": 5,
   "metadata": {},
   "outputs": [
    {
     "name": "stdout",
     "output_type": "stream",
     "text": [
      "                datetime\n",
      "0    2022-04-21 01:00:00\n",
      "1    2022-04-21 02:00:00\n",
      "2    2022-04-21 03:00:00\n",
      "3    2022-04-21 04:00:00\n",
      "4    2022-04-21 05:00:00\n",
      "...                  ...\n",
      "3246 2022-09-03 07:00:00\n",
      "3247 2022-09-03 08:00:00\n",
      "3248 2022-09-03 09:00:00\n",
      "3249 2022-09-03 10:00:00\n",
      "3250 2022-09-03 11:00:00\n",
      "\n",
      "[3251 rows x 1 columns]\n"
     ]
    }
   ],
   "source": [
    "import calendar\n",
    "from datetime import date\n",
    "day = pd.DataFrame(people.index)\n",
    "day = day.rename(columns={0: 'datetime'})\n",
    "day['datetime'] = pd.to_datetime(day['datetime'])\n",
    "print(day)"
   ]
  },
  {
   "cell_type": "markdown",
   "metadata": {},
   "source": [
    "Import temperature data."
   ]
  },
  {
   "cell_type": "code",
   "execution_count": 6,
   "metadata": {},
   "outputs": [],
   "source": [
    "import os\n",
    "import pandas as pd\n",
    "\n",
    "folder_path = '../data/temperature_file/'\n",
    "\n",
    "csv_files = [file for file in os.listdir(folder_path) if file.endswith('.csv')]\n",
    "\n",
    "temperature = []\n",
    "\n",
    "for file in csv_files:\n",
    "    file_path = folder_path + file\n",
    "    df = pd.read_csv(file_path, encoding='utf-8')\n",
    "    temperature.append(df)\n",
    "\n",
    "temperature = pd.concat(temperature, ignore_index=True)\n",
    "    "
   ]
  },
  {
   "cell_type": "code",
   "execution_count": 7,
   "metadata": {},
   "outputs": [
    {
     "name": "stdout",
     "output_type": "stream",
     "text": [
      "                     temperature  precipitation  weather\n",
      "datetime                                                \n",
      "2022-07-01 01:00:00         26.1            0.0      NaN\n",
      "2022-07-01 02:00:00         25.1            0.0      NaN\n",
      "2022-07-01 03:00:00         24.4            0.0      2.0\n",
      "2022-07-01 04:00:00         24.0            0.0      NaN\n",
      "2022-07-01 05:00:00         23.9            0.0      NaN\n",
      "...                          ...            ...      ...\n",
      "2022-09-30 20:00:00         20.2            0.0      NaN\n",
      "2022-09-30 21:00:00         20.3            0.0      1.0\n",
      "2022-09-30 22:00:00         19.6            0.0      NaN\n",
      "2022-09-30 23:00:00         18.8            0.0      NaN\n",
      "2022-10-01 00:00:00         18.8            0.0      NaN\n",
      "\n",
      "[8760 rows x 3 columns]\n"
     ]
    }
   ],
   "source": [
    "temperature['datetime'] = pd.to_datetime(temperature['datetime'])\n",
    "temperature.set_index('datetime', inplace=True)\n",
    "print(temperature)"
   ]
  },
  {
   "cell_type": "markdown",
   "metadata": {},
   "source": [
    "Merge the amount of people and temperature data as one dataframe."
   ]
  },
  {
   "cell_type": "code",
   "execution_count": 8,
   "metadata": {},
   "outputs": [
    {
     "name": "stdout",
     "output_type": "stream",
     "text": [
      "                      amount  temperature  precipitation  weather\n",
      "2022-04-21 01:00:00   1033.0          9.2            0.0      NaN\n",
      "2022-04-21 02:00:00     65.0          9.1            0.0      NaN\n",
      "2022-04-21 03:00:00   1604.0          9.1            0.0      1.0\n",
      "2022-04-21 04:00:00   1604.0          7.9            0.0      NaN\n",
      "2022-04-21 05:00:00   1604.0          7.4            0.0      NaN\n",
      "...                      ...          ...            ...      ...\n",
      "2022-09-03 07:00:00   9741.0         22.4            0.0      NaN\n",
      "2022-09-03 08:00:00  19613.0         22.8            0.0      NaN\n",
      "2022-09-03 09:00:00  22055.0         23.2            0.0      4.0\n",
      "2022-09-03 10:00:00  14644.0         23.4            0.0      NaN\n",
      "2022-09-03 11:00:00  12751.0         23.7            0.0      NaN\n",
      "\n",
      "[3251 rows x 4 columns]\n"
     ]
    }
   ],
   "source": [
    "data = pd.merge(people, temperature, left_index=True, right_index=True, how='inner')\n",
    "print(data)"
   ]
  },
  {
   "cell_type": "markdown",
   "metadata": {},
   "source": [
    "## Data Preprocessing"
   ]
  },
  {
   "cell_type": "code",
   "execution_count": 9,
   "metadata": {},
   "outputs": [],
   "source": [
    "from sklearn.preprocessing import StandardScaler"
   ]
  },
  {
   "cell_type": "code",
   "execution_count": 10,
   "metadata": {},
   "outputs": [],
   "source": [
    "scaler = StandardScaler()\n",
    "data[['amount', 'temperature']] = scaler.fit_transform(data[['amount', 'temperature']])"
   ]
  },
  {
   "cell_type": "code",
   "execution_count": 11,
   "metadata": {},
   "outputs": [
    {
     "name": "stdout",
     "output_type": "stream",
     "text": [
      "                       amount  temperature  precipitation  weather\n",
      "2022-04-21 01:00:00 -1.608170    -2.122485            0.0      NaN\n",
      "2022-04-21 02:00:00 -1.752224    -2.140183            0.0      NaN\n",
      "2022-04-21 03:00:00 -1.523196    -2.140183            0.0      1.0\n",
      "2022-04-21 04:00:00 -1.523196    -2.352552            0.0      NaN\n",
      "2022-04-21 05:00:00 -1.523196    -2.441039            0.0      NaN\n"
     ]
    }
   ],
   "source": [
    "print(data.head())"
   ]
  },
  {
   "cell_type": "code",
   "execution_count": 12,
   "metadata": {},
   "outputs": [
    {
     "name": "stdout",
     "output_type": "stream",
     "text": [
      "                       amount  temperature\n",
      "2022-04-21 01:00:00 -1.608170    -2.122485\n",
      "2022-04-21 02:00:00 -1.752224    -2.140183\n",
      "2022-04-21 03:00:00 -1.523196    -2.140183\n",
      "2022-04-21 04:00:00 -1.523196    -2.352552\n",
      "2022-04-21 05:00:00 -1.523196    -2.441039\n",
      "...                       ...          ...\n",
      "2022-09-03 07:00:00 -0.312280     0.213572\n",
      "2022-09-03 08:00:00  1.156832     0.284362\n",
      "2022-09-03 09:00:00  1.520241     0.355151\n",
      "2022-09-03 10:00:00  0.417365     0.390546\n",
      "2022-09-03 11:00:00  0.135656     0.443638\n",
      "\n",
      "[3251 rows x 2 columns]\n"
     ]
    }
   ],
   "source": [
    "data = data[['amount', 'temperature']]\n",
    "print(data)"
   ]
  },
  {
   "cell_type": "markdown",
   "metadata": {},
   "source": [
    "Slice into dataframe"
   ]
  },
  {
   "cell_type": "code",
   "execution_count": 13,
   "metadata": {},
   "outputs": [],
   "source": [
    "window_size = 24\n",
    "def one_step_forecast(df, window=6):\n",
    "    d = df.values\n",
    "    x = []\n",
    "    n = len(df)\n",
    "    idx = df.index[:-window]\n",
    "    for start in range(n-window):\n",
    "        end = start + window\n",
    "        x.append(d[start:end])\n",
    "    cols = [f'x_{i}' for i in range(1, window+1)]\n",
    "    x = np.array(x).reshape(n-window, -1)\n",
    "    y = df.iloc[window:].values\n",
    "    df_xs = pd.DataFrame(x, columns=cols, index=idx)\n",
    "    df_y = pd.DataFrame(y.reshape(-1), columns=['y'], index=idx)\n",
    "    return pd.concat([df_xs, df_y], axis=1).dropna()"
   ]
  },
  {
   "cell_type": "code",
   "execution_count": 14,
   "metadata": {},
   "outputs": [],
   "source": [
    "test = one_step_forecast(data['amount'], window_size)"
   ]
  },
  {
   "cell_type": "code",
   "execution_count": 15,
   "metadata": {},
   "outputs": [
    {
     "name": "stdout",
     "output_type": "stream",
     "text": [
      "                          x_1       x_2       x_3       x_4       x_5  \\\n",
      "2022-04-21 01:00:00 -1.608170 -1.752224 -1.523196 -1.523196 -1.523196   \n",
      "2022-04-21 02:00:00 -1.752224 -1.523196 -1.523196 -1.523196 -1.523196   \n",
      "2022-04-21 03:00:00 -1.523196 -1.523196 -1.523196 -1.523196 -1.523196   \n",
      "2022-04-21 04:00:00 -1.523196 -1.523196 -1.523196 -1.523196 -1.523196   \n",
      "2022-04-21 05:00:00 -1.523196 -1.523196 -1.523196 -1.523196 -1.523196   \n",
      "...                       ...       ...       ...       ...       ...   \n",
      "2022-09-02 07:00:00  0.285961  1.057721  0.334623  1.582000  2.100772   \n",
      "2022-09-02 08:00:00  1.057721  0.334623  1.582000  2.100772  0.787768   \n",
      "2022-09-02 09:00:00  0.334623  1.582000  2.100772  0.787768  1.724863   \n",
      "2022-09-02 10:00:00  1.582000  2.100772  0.787768  1.724863  1.419492   \n",
      "2022-09-02 11:00:00  2.100772  0.787768  1.724863  1.419492  0.644905   \n",
      "\n",
      "                          x_6       x_7       x_8       x_9      x_10  ...  \\\n",
      "2022-04-21 01:00:00 -1.523196 -1.523196 -1.523196 -1.523196 -1.523196  ...   \n",
      "2022-04-21 02:00:00 -1.523196 -1.523196 -1.523196 -1.523196 -1.523196  ...   \n",
      "2022-04-21 03:00:00 -1.523196 -1.523196 -1.523196 -1.523196 -1.523196  ...   \n",
      "2022-04-21 04:00:00 -1.523196 -1.523196 -1.523196 -1.523196 -1.098475  ...   \n",
      "2022-04-21 05:00:00 -1.523196 -1.523196 -1.523196 -1.098475 -1.098475  ...   \n",
      "...                       ...       ...       ...       ...       ...  ...   \n",
      "2022-09-02 07:00:00  0.787768  1.724863  1.419492  0.644905  1.389283  ...   \n",
      "2022-09-02 08:00:00  1.724863  1.419492  0.644905  1.389283  1.144034  ...   \n",
      "2022-09-02 09:00:00  1.419492  0.644905  1.389283  1.144034 -0.060781  ...   \n",
      "2022-09-02 10:00:00  0.644905  1.389283  1.144034 -0.060781 -0.145308  ...   \n",
      "2022-09-02 11:00:00  1.389283  1.144034 -0.060781 -0.145308 -0.533123  ...   \n",
      "\n",
      "                         x_15      x_16      x_17      x_18      x_19  \\\n",
      "2022-04-21 01:00:00 -1.098475 -1.098475 -1.098475 -1.098475 -1.098475   \n",
      "2022-04-21 02:00:00 -1.098475 -1.098475 -1.098475 -1.098475 -1.098475   \n",
      "2022-04-21 03:00:00 -1.098475 -1.098475 -1.098475 -1.098475 -1.098475   \n",
      "2022-04-21 04:00:00 -1.098475 -1.098475 -1.098475 -1.098475 -1.098475   \n",
      "2022-04-21 05:00:00 -1.098475 -1.098475 -1.098475 -1.098475 -1.098475   \n",
      "...                       ...       ...       ...       ...       ...   \n",
      "2022-09-02 07:00:00 -0.693844 -0.831201 -0.654408 -0.936266 -1.045943   \n",
      "2022-09-02 08:00:00 -0.831201 -0.654408 -0.936266 -1.045943 -0.828820   \n",
      "2022-09-02 09:00:00 -0.654408 -0.936266 -1.045943 -0.828820 -0.792807   \n",
      "2022-09-02 10:00:00 -0.936266 -1.045943 -0.828820 -0.792807 -1.100856   \n",
      "2022-09-02 11:00:00 -1.045943 -0.828820 -0.792807 -1.100856 -0.747120   \n",
      "\n",
      "                         x_20      x_21      x_22      x_23      x_24  \n",
      "2022-04-21 01:00:00 -1.098475 -1.098475 -1.098475 -1.098475 -1.098475  \n",
      "2022-04-21 02:00:00 -1.098475 -1.098475 -1.098475 -1.098475 -1.098475  \n",
      "2022-04-21 03:00:00 -1.098475 -1.098475 -1.098475 -1.098475 -1.098475  \n",
      "2022-04-21 04:00:00 -1.098475 -1.098475 -1.098475 -1.098475 -1.098475  \n",
      "2022-04-21 05:00:00 -1.098475 -1.098475 -1.098475 -1.098475 -1.098475  \n",
      "...                       ...       ...       ...       ...       ...  \n",
      "2022-09-02 07:00:00 -0.828820 -0.792807 -1.100856 -0.747120 -0.419576  \n",
      "2022-09-02 08:00:00 -0.792807 -1.100856 -0.747120 -0.419576 -0.312280  \n",
      "2022-09-02 09:00:00 -1.100856 -0.747120 -0.419576 -0.312280  1.156832  \n",
      "2022-09-02 10:00:00 -0.747120 -0.419576 -0.312280  1.156832  1.520241  \n",
      "2022-09-02 11:00:00 -0.419576 -0.312280  1.156832  1.520241  0.417365  \n",
      "\n",
      "[3227 rows x 24 columns]\n"
     ]
    }
   ],
   "source": [
    "y = test['y']\n",
    "test = test.drop('y', axis=1)\n",
    "print(test)"
   ]
  },
  {
   "cell_type": "code",
   "execution_count": 16,
   "metadata": {},
   "outputs": [],
   "source": [
    "test_2 = one_step_forecast(data['temperature'], window_size)"
   ]
  },
  {
   "cell_type": "code",
   "execution_count": 17,
   "metadata": {},
   "outputs": [
    {
     "name": "stdout",
     "output_type": "stream",
     "text": [
      "                          x_1       x_2       x_3       x_4       x_5  \\\n",
      "2022-04-21 01:00:00 -2.122485 -2.140183 -2.140183 -2.352552 -2.441039   \n",
      "2022-04-21 02:00:00 -2.140183 -2.140183 -2.352552 -2.441039 -2.246367   \n",
      "2022-04-21 03:00:00 -2.140183 -2.352552 -2.441039 -2.246367 -1.821630   \n",
      "2022-04-21 04:00:00 -2.352552 -2.441039 -2.246367 -1.821630 -1.308405   \n",
      "2022-04-21 05:00:00 -2.441039 -2.246367 -1.821630 -1.308405 -0.972154   \n",
      "...                       ...       ...       ...       ...       ...   \n",
      "2022-09-02 07:00:00  0.425941  0.585217  0.850678  1.063047  0.903771   \n",
      "2022-09-02 08:00:00  0.585217  0.850678  1.063047  0.903771  1.063047   \n",
      "2022-09-02 09:00:00  0.850678  1.063047  0.903771  1.063047  0.956863   \n",
      "2022-09-02 10:00:00  1.063047  0.903771  1.063047  0.956863  1.027652   \n",
      "2022-09-02 11:00:00  0.903771  1.063047  0.956863  1.027652  0.939165   \n",
      "\n",
      "                          x_6       x_7       x_8       x_9      x_10  ...  \\\n",
      "2022-04-21 01:00:00 -2.246367 -1.821630 -1.308405 -0.972154 -0.653601  ...   \n",
      "2022-04-21 02:00:00 -1.821630 -1.308405 -0.972154 -0.653601 -0.671298  ...   \n",
      "2022-04-21 03:00:00 -1.308405 -0.972154 -0.653601 -0.671298 -0.423535  ...   \n",
      "2022-04-21 04:00:00 -0.972154 -0.653601 -0.671298 -0.423535 -0.458929  ...   \n",
      "2022-04-21 05:00:00 -0.653601 -0.671298 -0.423535 -0.458929 -0.565114  ...   \n",
      "...                       ...       ...       ...       ...       ...  ...   \n",
      "2022-09-02 07:00:00  1.063047  0.956863  1.027652  0.939165  0.886073  ...   \n",
      "2022-09-02 08:00:00  0.956863  1.027652  0.939165  0.886073  0.886073  ...   \n",
      "2022-09-02 09:00:00  1.027652  0.939165  0.886073  0.886073  0.602915  ...   \n",
      "2022-09-02 10:00:00  0.939165  0.886073  0.886073  0.602915  0.496730  ...   \n",
      "2022-09-02 11:00:00  0.886073  0.886073  0.602915  0.496730  0.461336  ...   \n",
      "\n",
      "                         x_15      x_16      x_17      x_18      x_19  \\\n",
      "2022-04-21 01:00:00 -0.476627 -0.582811 -0.936759 -0.989852 -0.989852   \n",
      "2022-04-21 02:00:00 -0.582811 -0.936759 -0.989852 -0.989852 -1.096036   \n",
      "2022-04-21 03:00:00 -0.936759 -0.989852 -0.989852 -1.096036 -1.060641   \n",
      "2022-04-21 04:00:00 -0.989852 -0.989852 -1.096036 -1.060641 -1.060641   \n",
      "2022-04-21 05:00:00 -0.989852 -1.096036 -1.060641 -1.060641 -1.149128   \n",
      "...                       ...       ...       ...       ...       ...   \n",
      "2022-09-02 07:00:00  0.408243  0.408243  0.390546  0.319756  0.337454   \n",
      "2022-09-02 08:00:00  0.408243  0.390546  0.319756  0.337454  0.319756   \n",
      "2022-09-02 09:00:00  0.390546  0.319756  0.337454  0.319756  0.284362   \n",
      "2022-09-02 10:00:00  0.319756  0.337454  0.319756  0.284362  0.266664   \n",
      "2022-09-02 11:00:00  0.337454  0.319756  0.284362  0.266664  0.231269   \n",
      "\n",
      "                         x_20      x_21      x_22      x_23      x_24  \n",
      "2022-04-21 01:00:00 -1.096036 -1.060641 -1.060641 -1.149128 -1.131431  \n",
      "2022-04-21 02:00:00 -1.060641 -1.060641 -1.149128 -1.131431 -1.131431  \n",
      "2022-04-21 03:00:00 -1.060641 -1.149128 -1.131431 -1.131431 -1.184523  \n",
      "2022-04-21 04:00:00 -1.149128 -1.131431 -1.131431 -1.184523 -1.255313  \n",
      "2022-04-21 05:00:00 -1.131431 -1.131431 -1.184523 -1.255313 -1.361497  \n",
      "...                       ...       ...       ...       ...       ...  \n",
      "2022-09-02 07:00:00  0.319756  0.284362  0.266664  0.231269  0.319756  \n",
      "2022-09-02 08:00:00  0.284362  0.266664  0.231269  0.319756  0.213572  \n",
      "2022-09-02 09:00:00  0.266664  0.231269  0.319756  0.213572  0.284362  \n",
      "2022-09-02 10:00:00  0.231269  0.319756  0.213572  0.284362  0.355151  \n",
      "2022-09-02 11:00:00  0.319756  0.213572  0.284362  0.355151  0.390546  \n",
      "\n",
      "[3227 rows x 24 columns]\n"
     ]
    }
   ],
   "source": [
    "test_2.drop('y', axis=1, inplace=True)\n",
    "print(test_2)"
   ]
  },
  {
   "cell_type": "code",
   "execution_count": 18,
   "metadata": {},
   "outputs": [
    {
     "name": "stdout",
     "output_type": "stream",
     "text": [
      "2022-04-21 01:00:00   -1.098475\n",
      "2022-04-21 02:00:00   -1.098475\n",
      "2022-04-21 03:00:00   -1.098475\n",
      "2022-04-21 04:00:00   -1.098475\n",
      "2022-04-21 05:00:00   -1.098475\n",
      "                         ...   \n",
      "2022-09-02 07:00:00   -0.312280\n",
      "2022-09-02 08:00:00    1.156832\n",
      "2022-09-02 09:00:00    1.520241\n",
      "2022-09-02 10:00:00    0.417365\n",
      "2022-09-02 11:00:00    0.135656\n",
      "Freq: h, Name: y, Length: 3227, dtype: float64\n"
     ]
    }
   ],
   "source": [
    "print(y)"
   ]
  },
  {
   "cell_type": "code",
   "execution_count": 19,
   "metadata": {},
   "outputs": [],
   "source": [
    "day = np.array(y.index.dayofweek)"
   ]
  },
  {
   "cell_type": "code",
   "execution_count": 20,
   "metadata": {},
   "outputs": [],
   "source": [
    "one_hot = pd.get_dummies(day)"
   ]
  },
  {
   "cell_type": "code",
   "execution_count": 21,
   "metadata": {},
   "outputs": [
    {
     "name": "stdout",
     "output_type": "stream",
     "text": [
      "          0      1      2      3      4      5      6\n",
      "0     False  False  False   True  False  False  False\n",
      "1     False  False  False   True  False  False  False\n",
      "2     False  False  False   True  False  False  False\n",
      "3     False  False  False   True  False  False  False\n",
      "4     False  False  False   True  False  False  False\n",
      "...     ...    ...    ...    ...    ...    ...    ...\n",
      "3222  False  False  False  False   True  False  False\n",
      "3223  False  False  False  False   True  False  False\n",
      "3224  False  False  False  False   True  False  False\n",
      "3225  False  False  False  False   True  False  False\n",
      "3226  False  False  False  False   True  False  False\n",
      "\n",
      "[3227 rows x 7 columns]\n"
     ]
    }
   ],
   "source": [
    "print(one_hot)"
   ]
  },
  {
   "cell_type": "markdown",
   "metadata": {},
   "source": [
    "Divide to train and test and val"
   ]
  },
  {
   "cell_type": "code",
   "execution_count": 22,
   "metadata": {},
   "outputs": [],
   "source": [
    "from sklearn.model_selection import train_test_split"
   ]
  },
  {
   "cell_type": "code",
   "execution_count": 23,
   "metadata": {},
   "outputs": [],
   "source": [
    "train_people, test_people, train_temperature, test_temperature, train_y, test_y = train_test_split(test, test_2, y, test_size=0.15, shuffle=False)\n",
    "train_people, val_people, train_temperature, val_temperature, train_y, val_y = train_test_split(train_people, train_temperature, train_y, test_size=0.15, shuffle=False)\n",
    "index = test_y.index\n",
    "train_people = np.expand_dims(train_people, axis=-1)\n",
    "val_people = np.expand_dims(val_people, axis=-1)\n",
    "test_people = np.expand_dims(test_people, axis=-1)\n",
    "train_temperature = np.expand_dims(train_temperature, axis=-1)\n",
    "val_temperature = np.expand_dims(val_temperature, axis=-1)\n",
    "test_temperature = np.expand_dims(test_temperature, axis=-1)\n",
    "y_train = np.expand_dims(train_y, axis=-1)\n",
    "y_val = np.expand_dims(val_y, axis=-1)\n",
    "y_test = np.expand_dims(test_y, axis=-1)"
   ]
  },
  {
   "cell_type": "code",
   "execution_count": 24,
   "metadata": {},
   "outputs": [
    {
     "name": "stdout",
     "output_type": "stream",
     "text": [
      "(2330, 1)\n"
     ]
    }
   ],
   "source": [
    "print(y_train.shape)"
   ]
  },
  {
   "cell_type": "code",
   "execution_count": 25,
   "metadata": {},
   "outputs": [
    {
     "name": "stdout",
     "output_type": "stream",
     "text": [
      "(485, 1)\n"
     ]
    }
   ],
   "source": [
    "print(y_test.shape)"
   ]
  },
  {
   "cell_type": "code",
   "execution_count": 26,
   "metadata": {},
   "outputs": [
    {
     "name": "stdout",
     "output_type": "stream",
     "text": [
      "          0      1      2      3      4      5      6\n",
      "0     False  False  False   True  False  False  False\n",
      "1     False  False  False   True  False  False  False\n",
      "2     False  False  False   True  False  False  False\n",
      "3     False  False  False   True  False  False  False\n",
      "4     False  False  False   True  False  False  False\n",
      "...     ...    ...    ...    ...    ...    ...    ...\n",
      "2335  False  False   True  False  False  False  False\n",
      "2336  False  False   True  False  False  False  False\n",
      "2337  False  False   True  False  False  False  False\n",
      "2338  False  False   True  False  False  False  False\n",
      "2339  False  False   True  False  False  False  False\n",
      "\n",
      "[2340 rows x 7 columns]\n"
     ]
    }
   ],
   "source": [
    "print(one_hot[:2340])"
   ]
  },
  {
   "cell_type": "code",
   "execution_count": 27,
   "metadata": {},
   "outputs": [
    {
     "name": "stdout",
     "output_type": "stream",
     "text": [
      "(412, 1)\n"
     ]
    }
   ],
   "source": [
    "print(y_val.shape)"
   ]
  },
  {
   "cell_type": "markdown",
   "metadata": {},
   "source": [
    "## Create model"
   ]
  },
  {
   "cell_type": "code",
   "execution_count": 28,
   "metadata": {},
   "outputs": [],
   "source": [
    "from keras.models import Model\n",
    "from keras import layers\n",
    "from keras import Input\n",
    "from keras.metrics import RootMeanSquaredError as RMSE, MeanAbsoluteError as MAE\n",
    "from keras import callbacks"
   ]
  },
  {
   "cell_type": "code",
   "execution_count": 29,
   "metadata": {},
   "outputs": [],
   "source": [
    "people_input = Input(shape=(train_people.shape[1], train_people.shape[2]), name='people')\n",
    "temperature_input = Input(shape=(train_temperature.shape[1], train_temperature.shape[2]), name='temperature')\n",
    "day_input = Input(shape=(one_hot.shape[1],), name='day')"
   ]
  },
  {
   "cell_type": "code",
   "execution_count": 30,
   "metadata": {},
   "outputs": [
    {
     "name": "stdout",
     "output_type": "stream",
     "text": [
      "(None, 24, 1)\n"
     ]
    }
   ],
   "source": [
    "print(people_input.shape)"
   ]
  },
  {
   "cell_type": "code",
   "execution_count": 31,
   "metadata": {},
   "outputs": [
    {
     "name": "stderr",
     "output_type": "stream",
     "text": [
      "2024-03-18 18:32:56.983767: I metal_plugin/src/device/metal_device.cc:1154] Metal device set to: Apple M1\n",
      "2024-03-18 18:32:56.983788: I metal_plugin/src/device/metal_device.cc:296] systemMemory: 16.00 GB\n",
      "2024-03-18 18:32:56.983953: I metal_plugin/src/device/metal_device.cc:313] maxCacheSize: 5.33 GB\n",
      "2024-03-18 18:32:56.983996: I tensorflow/core/common_runtime/pluggable_device/pluggable_device_factory.cc:305] Could not identify NUMA node of platform GPU ID 0, defaulting to 0. Your kernel may not have been built with NUMA support.\n",
      "2024-03-18 18:32:56.984009: I tensorflow/core/common_runtime/pluggable_device/pluggable_device_factory.cc:271] Created TensorFlow device (/job:localhost/replica:0/task:0/device:GPU:0 with 0 MB memory) -> physical PluggableDevice (device: 0, name: METAL, pci bus id: <undefined>)\n"
     ]
    }
   ],
   "source": [
    "units = 32\n",
    "people_lstm = layers.LSTM(units, name='people_lstm')(people_input)\n",
    "temperature_lstm = layers.LSTM(units, name='temperature_lstm')(temperature_input)\n",
    "day_dense = layers.Dense(7, activation='sigmoid', name='day_dense')(day_input)"
   ]
  },
  {
   "cell_type": "code",
   "execution_count": 32,
   "metadata": {},
   "outputs": [],
   "source": [
    "concat= layers.concatenate([people_lstm, temperature_lstm, day_dense], name='concat')\n",
    "# lstm_dense = layers.Dense(71, activation='relu', name='lstm_dense')(concat)\n",
    "# concat_dense = layers.concatenate([lstm_dense, day_dense], name='concat_dense')\n",
    "output = layers.Dense(1, name='output')(concat)"
   ]
  },
  {
   "cell_type": "code",
   "execution_count": 33,
   "metadata": {},
   "outputs": [],
   "source": [
    "model = Model([people_input, temperature_input, day_input], output)"
   ]
  },
  {
   "cell_type": "code",
   "execution_count": 34,
   "metadata": {},
   "outputs": [
    {
     "data": {
      "text/html": [
       "<pre style=\"white-space:pre;overflow-x:auto;line-height:normal;font-family:Menlo,'DejaVu Sans Mono',consolas,'Courier New',monospace\"><span style=\"font-weight: bold\">Model: \"functional_1\"</span>\n",
       "</pre>\n"
      ],
      "text/plain": [
       "\u001b[1mModel: \"functional_1\"\u001b[0m\n"
      ]
     },
     "metadata": {},
     "output_type": "display_data"
    },
    {
     "data": {
      "text/html": [
       "<pre style=\"white-space:pre;overflow-x:auto;line-height:normal;font-family:Menlo,'DejaVu Sans Mono',consolas,'Courier New',monospace\">┏━━━━━━━━━━━━━━━━━━━━━┳━━━━━━━━━━━━━━━━━━━┳━━━━━━━━━━━━┳━━━━━━━━━━━━━━━━━━━┓\n",
       "┃<span style=\"font-weight: bold\"> Layer (type)        </span>┃<span style=\"font-weight: bold\"> Output Shape      </span>┃<span style=\"font-weight: bold\">    Param # </span>┃<span style=\"font-weight: bold\"> Connected to      </span>┃\n",
       "┡━━━━━━━━━━━━━━━━━━━━━╇━━━━━━━━━━━━━━━━━━━╇━━━━━━━━━━━━╇━━━━━━━━━━━━━━━━━━━┩\n",
       "│ people (<span style=\"color: #0087ff; text-decoration-color: #0087ff\">InputLayer</span>) │ (<span style=\"color: #00d7ff; text-decoration-color: #00d7ff\">None</span>, <span style=\"color: #00af00; text-decoration-color: #00af00\">24</span>, <span style=\"color: #00af00; text-decoration-color: #00af00\">1</span>)     │          <span style=\"color: #00af00; text-decoration-color: #00af00\">0</span> │ -                 │\n",
       "├─────────────────────┼───────────────────┼────────────┼───────────────────┤\n",
       "│ temperature         │ (<span style=\"color: #00d7ff; text-decoration-color: #00d7ff\">None</span>, <span style=\"color: #00af00; text-decoration-color: #00af00\">24</span>, <span style=\"color: #00af00; text-decoration-color: #00af00\">1</span>)     │          <span style=\"color: #00af00; text-decoration-color: #00af00\">0</span> │ -                 │\n",
       "│ (<span style=\"color: #0087ff; text-decoration-color: #0087ff\">InputLayer</span>)        │                   │            │                   │\n",
       "├─────────────────────┼───────────────────┼────────────┼───────────────────┤\n",
       "│ day (<span style=\"color: #0087ff; text-decoration-color: #0087ff\">InputLayer</span>)    │ (<span style=\"color: #00d7ff; text-decoration-color: #00d7ff\">None</span>, <span style=\"color: #00af00; text-decoration-color: #00af00\">7</span>)         │          <span style=\"color: #00af00; text-decoration-color: #00af00\">0</span> │ -                 │\n",
       "├─────────────────────┼───────────────────┼────────────┼───────────────────┤\n",
       "│ people_lstm (<span style=\"color: #0087ff; text-decoration-color: #0087ff\">LSTM</span>)  │ (<span style=\"color: #00d7ff; text-decoration-color: #00d7ff\">None</span>, <span style=\"color: #00af00; text-decoration-color: #00af00\">32</span>)        │      <span style=\"color: #00af00; text-decoration-color: #00af00\">4,352</span> │ people[<span style=\"color: #00af00; text-decoration-color: #00af00\">0</span>][<span style=\"color: #00af00; text-decoration-color: #00af00\">0</span>]      │\n",
       "├─────────────────────┼───────────────────┼────────────┼───────────────────┤\n",
       "│ temperature_lstm    │ (<span style=\"color: #00d7ff; text-decoration-color: #00d7ff\">None</span>, <span style=\"color: #00af00; text-decoration-color: #00af00\">32</span>)        │      <span style=\"color: #00af00; text-decoration-color: #00af00\">4,352</span> │ temperature[<span style=\"color: #00af00; text-decoration-color: #00af00\">0</span>][<span style=\"color: #00af00; text-decoration-color: #00af00\">0</span>] │\n",
       "│ (<span style=\"color: #0087ff; text-decoration-color: #0087ff\">LSTM</span>)              │                   │            │                   │\n",
       "├─────────────────────┼───────────────────┼────────────┼───────────────────┤\n",
       "│ day_dense (<span style=\"color: #0087ff; text-decoration-color: #0087ff\">Dense</span>)   │ (<span style=\"color: #00d7ff; text-decoration-color: #00d7ff\">None</span>, <span style=\"color: #00af00; text-decoration-color: #00af00\">7</span>)         │         <span style=\"color: #00af00; text-decoration-color: #00af00\">56</span> │ day[<span style=\"color: #00af00; text-decoration-color: #00af00\">0</span>][<span style=\"color: #00af00; text-decoration-color: #00af00\">0</span>]         │\n",
       "├─────────────────────┼───────────────────┼────────────┼───────────────────┤\n",
       "│ concat              │ (<span style=\"color: #00d7ff; text-decoration-color: #00d7ff\">None</span>, <span style=\"color: #00af00; text-decoration-color: #00af00\">71</span>)        │          <span style=\"color: #00af00; text-decoration-color: #00af00\">0</span> │ people_lstm[<span style=\"color: #00af00; text-decoration-color: #00af00\">0</span>][<span style=\"color: #00af00; text-decoration-color: #00af00\">0</span>… │\n",
       "│ (<span style=\"color: #0087ff; text-decoration-color: #0087ff\">Concatenate</span>)       │                   │            │ temperature_lstm… │\n",
       "│                     │                   │            │ day_dense[<span style=\"color: #00af00; text-decoration-color: #00af00\">0</span>][<span style=\"color: #00af00; text-decoration-color: #00af00\">0</span>]   │\n",
       "├─────────────────────┼───────────────────┼────────────┼───────────────────┤\n",
       "│ output (<span style=\"color: #0087ff; text-decoration-color: #0087ff\">Dense</span>)      │ (<span style=\"color: #00d7ff; text-decoration-color: #00d7ff\">None</span>, <span style=\"color: #00af00; text-decoration-color: #00af00\">1</span>)         │         <span style=\"color: #00af00; text-decoration-color: #00af00\">72</span> │ concat[<span style=\"color: #00af00; text-decoration-color: #00af00\">0</span>][<span style=\"color: #00af00; text-decoration-color: #00af00\">0</span>]      │\n",
       "└─────────────────────┴───────────────────┴────────────┴───────────────────┘\n",
       "</pre>\n"
      ],
      "text/plain": [
       "┏━━━━━━━━━━━━━━━━━━━━━┳━━━━━━━━━━━━━━━━━━━┳━━━━━━━━━━━━┳━━━━━━━━━━━━━━━━━━━┓\n",
       "┃\u001b[1m \u001b[0m\u001b[1mLayer (type)       \u001b[0m\u001b[1m \u001b[0m┃\u001b[1m \u001b[0m\u001b[1mOutput Shape     \u001b[0m\u001b[1m \u001b[0m┃\u001b[1m \u001b[0m\u001b[1m   Param #\u001b[0m\u001b[1m \u001b[0m┃\u001b[1m \u001b[0m\u001b[1mConnected to     \u001b[0m\u001b[1m \u001b[0m┃\n",
       "┡━━━━━━━━━━━━━━━━━━━━━╇━━━━━━━━━━━━━━━━━━━╇━━━━━━━━━━━━╇━━━━━━━━━━━━━━━━━━━┩\n",
       "│ people (\u001b[38;5;33mInputLayer\u001b[0m) │ (\u001b[38;5;45mNone\u001b[0m, \u001b[38;5;34m24\u001b[0m, \u001b[38;5;34m1\u001b[0m)     │          \u001b[38;5;34m0\u001b[0m │ -                 │\n",
       "├─────────────────────┼───────────────────┼────────────┼───────────────────┤\n",
       "│ temperature         │ (\u001b[38;5;45mNone\u001b[0m, \u001b[38;5;34m24\u001b[0m, \u001b[38;5;34m1\u001b[0m)     │          \u001b[38;5;34m0\u001b[0m │ -                 │\n",
       "│ (\u001b[38;5;33mInputLayer\u001b[0m)        │                   │            │                   │\n",
       "├─────────────────────┼───────────────────┼────────────┼───────────────────┤\n",
       "│ day (\u001b[38;5;33mInputLayer\u001b[0m)    │ (\u001b[38;5;45mNone\u001b[0m, \u001b[38;5;34m7\u001b[0m)         │          \u001b[38;5;34m0\u001b[0m │ -                 │\n",
       "├─────────────────────┼───────────────────┼────────────┼───────────────────┤\n",
       "│ people_lstm (\u001b[38;5;33mLSTM\u001b[0m)  │ (\u001b[38;5;45mNone\u001b[0m, \u001b[38;5;34m32\u001b[0m)        │      \u001b[38;5;34m4,352\u001b[0m │ people[\u001b[38;5;34m0\u001b[0m][\u001b[38;5;34m0\u001b[0m]      │\n",
       "├─────────────────────┼───────────────────┼────────────┼───────────────────┤\n",
       "│ temperature_lstm    │ (\u001b[38;5;45mNone\u001b[0m, \u001b[38;5;34m32\u001b[0m)        │      \u001b[38;5;34m4,352\u001b[0m │ temperature[\u001b[38;5;34m0\u001b[0m][\u001b[38;5;34m0\u001b[0m] │\n",
       "│ (\u001b[38;5;33mLSTM\u001b[0m)              │                   │            │                   │\n",
       "├─────────────────────┼───────────────────┼────────────┼───────────────────┤\n",
       "│ day_dense (\u001b[38;5;33mDense\u001b[0m)   │ (\u001b[38;5;45mNone\u001b[0m, \u001b[38;5;34m7\u001b[0m)         │         \u001b[38;5;34m56\u001b[0m │ day[\u001b[38;5;34m0\u001b[0m][\u001b[38;5;34m0\u001b[0m]         │\n",
       "├─────────────────────┼───────────────────┼────────────┼───────────────────┤\n",
       "│ concat              │ (\u001b[38;5;45mNone\u001b[0m, \u001b[38;5;34m71\u001b[0m)        │          \u001b[38;5;34m0\u001b[0m │ people_lstm[\u001b[38;5;34m0\u001b[0m][\u001b[38;5;34m0\u001b[0m… │\n",
       "│ (\u001b[38;5;33mConcatenate\u001b[0m)       │                   │            │ temperature_lstm… │\n",
       "│                     │                   │            │ day_dense[\u001b[38;5;34m0\u001b[0m][\u001b[38;5;34m0\u001b[0m]   │\n",
       "├─────────────────────┼───────────────────┼────────────┼───────────────────┤\n",
       "│ output (\u001b[38;5;33mDense\u001b[0m)      │ (\u001b[38;5;45mNone\u001b[0m, \u001b[38;5;34m1\u001b[0m)         │         \u001b[38;5;34m72\u001b[0m │ concat[\u001b[38;5;34m0\u001b[0m][\u001b[38;5;34m0\u001b[0m]      │\n",
       "└─────────────────────┴───────────────────┴────────────┴───────────────────┘\n"
      ]
     },
     "metadata": {},
     "output_type": "display_data"
    },
    {
     "data": {
      "text/html": [
       "<pre style=\"white-space:pre;overflow-x:auto;line-height:normal;font-family:Menlo,'DejaVu Sans Mono',consolas,'Courier New',monospace\"><span style=\"font-weight: bold\"> Total params: </span><span style=\"color: #00af00; text-decoration-color: #00af00\">8,832</span> (34.50 KB)\n",
       "</pre>\n"
      ],
      "text/plain": [
       "\u001b[1m Total params: \u001b[0m\u001b[38;5;34m8,832\u001b[0m (34.50 KB)\n"
      ]
     },
     "metadata": {},
     "output_type": "display_data"
    },
    {
     "data": {
      "text/html": [
       "<pre style=\"white-space:pre;overflow-x:auto;line-height:normal;font-family:Menlo,'DejaVu Sans Mono',consolas,'Courier New',monospace\"><span style=\"font-weight: bold\"> Trainable params: </span><span style=\"color: #00af00; text-decoration-color: #00af00\">8,832</span> (34.50 KB)\n",
       "</pre>\n"
      ],
      "text/plain": [
       "\u001b[1m Trainable params: \u001b[0m\u001b[38;5;34m8,832\u001b[0m (34.50 KB)\n"
      ]
     },
     "metadata": {},
     "output_type": "display_data"
    },
    {
     "data": {
      "text/html": [
       "<pre style=\"white-space:pre;overflow-x:auto;line-height:normal;font-family:Menlo,'DejaVu Sans Mono',consolas,'Courier New',monospace\"><span style=\"font-weight: bold\"> Non-trainable params: </span><span style=\"color: #00af00; text-decoration-color: #00af00\">0</span> (0.00 B)\n",
       "</pre>\n"
      ],
      "text/plain": [
       "\u001b[1m Non-trainable params: \u001b[0m\u001b[38;5;34m0\u001b[0m (0.00 B)\n"
      ]
     },
     "metadata": {},
     "output_type": "display_data"
    },
    {
     "name": "stdout",
     "output_type": "stream",
     "text": [
      "None\n"
     ]
    }
   ],
   "source": [
    "print(model.summary())"
   ]
  },
  {
   "cell_type": "code",
   "execution_count": 35,
   "metadata": {},
   "outputs": [
    {
     "name": "stdout",
     "output_type": "stream",
     "text": [
      "(2330, 24, 1)\n"
     ]
    }
   ],
   "source": [
    "print(train_people.shape)"
   ]
  },
  {
   "cell_type": "code",
   "execution_count": 36,
   "metadata": {},
   "outputs": [
    {
     "name": "stdout",
     "output_type": "stream",
     "text": [
      "Epoch 1/200\n"
     ]
    },
    {
     "name": "stderr",
     "output_type": "stream",
     "text": [
      "2024-03-18 18:32:57.619240: I tensorflow/core/grappler/optimizers/custom_graph_optimizer_registry.cc:117] Plugin optimizer for device_type GPU is enabled.\n"
     ]
    },
    {
     "name": "stdout",
     "output_type": "stream",
     "text": [
      "\u001b[1m73/73\u001b[0m \u001b[32m━━━━━━━━━━━━━━━━━━━━\u001b[0m\u001b[37m\u001b[0m \u001b[1m3s\u001b[0m 23ms/step - loss: 0.9211 - mean_absolute_error: 0.8375 - root_mean_squared_error: 0.9577 - val_loss: 0.2578 - val_mean_absolute_error: 0.4132 - val_root_mean_squared_error: 0.5078\n",
      "Epoch 2/200\n",
      "\u001b[1m73/73\u001b[0m \u001b[32m━━━━━━━━━━━━━━━━━━━━\u001b[0m\u001b[37m\u001b[0m \u001b[1m1s\u001b[0m 18ms/step - loss: 0.3760 - mean_absolute_error: 0.4741 - root_mean_squared_error: 0.5984 - val_loss: 0.0949 - val_mean_absolute_error: 0.2371 - val_root_mean_squared_error: 0.3075\n",
      "Epoch 3/200\n",
      "\u001b[1m73/73\u001b[0m \u001b[32m━━━━━━━━━━━━━━━━━━━━\u001b[0m\u001b[37m\u001b[0m \u001b[1m1s\u001b[0m 19ms/step - loss: 0.1909 - mean_absolute_error: 0.3345 - root_mean_squared_error: 0.4291 - val_loss: 0.0810 - val_mean_absolute_error: 0.2193 - val_root_mean_squared_error: 0.2842\n",
      "Epoch 4/200\n",
      "\u001b[1m73/73\u001b[0m \u001b[32m━━━━━━━━━━━━━━━━━━━━\u001b[0m\u001b[37m\u001b[0m \u001b[1m1s\u001b[0m 17ms/step - loss: 0.1085 - mean_absolute_error: 0.2377 - root_mean_squared_error: 0.3281 - val_loss: 0.0754 - val_mean_absolute_error: 0.2108 - val_root_mean_squared_error: 0.2742\n",
      "Epoch 5/200\n",
      "\u001b[1m73/73\u001b[0m \u001b[32m━━━━━━━━━━━━━━━━━━━━\u001b[0m\u001b[37m\u001b[0m \u001b[1m1s\u001b[0m 17ms/step - loss: 0.0989 - mean_absolute_error: 0.2152 - root_mean_squared_error: 0.3117 - val_loss: 0.0707 - val_mean_absolute_error: 0.2039 - val_root_mean_squared_error: 0.2656\n",
      "Epoch 6/200\n",
      "\u001b[1m73/73\u001b[0m \u001b[32m━━━━━━━━━━━━━━━━━━━━\u001b[0m\u001b[37m\u001b[0m \u001b[1m1s\u001b[0m 19ms/step - loss: 0.0948 - mean_absolute_error: 0.2090 - root_mean_squared_error: 0.3052 - val_loss: 0.0663 - val_mean_absolute_error: 0.1972 - val_root_mean_squared_error: 0.2571\n",
      "Epoch 7/200\n",
      "\u001b[1m73/73\u001b[0m \u001b[32m━━━━━━━━━━━━━━━━━━━━\u001b[0m\u001b[37m\u001b[0m \u001b[1m1s\u001b[0m 19ms/step - loss: 0.0910 - mean_absolute_error: 0.2023 - root_mean_squared_error: 0.2988 - val_loss: 0.0626 - val_mean_absolute_error: 0.1914 - val_root_mean_squared_error: 0.2498\n",
      "Epoch 8/200\n",
      "\u001b[1m73/73\u001b[0m \u001b[32m━━━━━━━━━━━━━━━━━━━━\u001b[0m\u001b[37m\u001b[0m \u001b[1m1s\u001b[0m 17ms/step - loss: 0.0876 - mean_absolute_error: 0.1962 - root_mean_squared_error: 0.2932 - val_loss: 0.0599 - val_mean_absolute_error: 0.1873 - val_root_mean_squared_error: 0.2443\n",
      "Epoch 9/200\n",
      "\u001b[1m73/73\u001b[0m \u001b[32m━━━━━━━━━━━━━━━━━━━━\u001b[0m\u001b[37m\u001b[0m \u001b[1m1s\u001b[0m 16ms/step - loss: 0.0847 - mean_absolute_error: 0.1908 - root_mean_squared_error: 0.2883 - val_loss: 0.0580 - val_mean_absolute_error: 0.1842 - val_root_mean_squared_error: 0.2405\n",
      "Epoch 10/200\n",
      "\u001b[1m73/73\u001b[0m \u001b[32m━━━━━━━━━━━━━━━━━━━━\u001b[0m\u001b[37m\u001b[0m \u001b[1m1s\u001b[0m 16ms/step - loss: 0.0824 - mean_absolute_error: 0.1865 - root_mean_squared_error: 0.2842 - val_loss: 0.0566 - val_mean_absolute_error: 0.1818 - val_root_mean_squared_error: 0.2375\n",
      "Epoch 11/200\n",
      "\u001b[1m73/73\u001b[0m \u001b[32m━━━━━━━━━━━━━━━━━━━━\u001b[0m\u001b[37m\u001b[0m \u001b[1m1s\u001b[0m 16ms/step - loss: 0.0804 - mean_absolute_error: 0.1832 - root_mean_squared_error: 0.2808 - val_loss: 0.0553 - val_mean_absolute_error: 0.1798 - val_root_mean_squared_error: 0.2348\n",
      "Epoch 12/200\n",
      "\u001b[1m73/73\u001b[0m \u001b[32m━━━━━━━━━━━━━━━━━━━━\u001b[0m\u001b[37m\u001b[0m \u001b[1m1s\u001b[0m 18ms/step - loss: 0.0788 - mean_absolute_error: 0.1805 - root_mean_squared_error: 0.2779 - val_loss: 0.0542 - val_mean_absolute_error: 0.1781 - val_root_mean_squared_error: 0.2325\n",
      "Epoch 13/200\n",
      "\u001b[1m73/73\u001b[0m \u001b[32m━━━━━━━━━━━━━━━━━━━━\u001b[0m\u001b[37m\u001b[0m \u001b[1m1s\u001b[0m 19ms/step - loss: 0.0774 - mean_absolute_error: 0.1783 - root_mean_squared_error: 0.2754 - val_loss: 0.0532 - val_mean_absolute_error: 0.1766 - val_root_mean_squared_error: 0.2303\n",
      "Epoch 14/200\n",
      "\u001b[1m73/73\u001b[0m \u001b[32m━━━━━━━━━━━━━━━━━━━━\u001b[0m\u001b[37m\u001b[0m \u001b[1m1s\u001b[0m 17ms/step - loss: 0.0762 - mean_absolute_error: 0.1762 - root_mean_squared_error: 0.2732 - val_loss: 0.0523 - val_mean_absolute_error: 0.1751 - val_root_mean_squared_error: 0.2284\n",
      "Epoch 15/200\n",
      "\u001b[1m73/73\u001b[0m \u001b[32m━━━━━━━━━━━━━━━━━━━━\u001b[0m\u001b[37m\u001b[0m \u001b[1m1s\u001b[0m 17ms/step - loss: 0.0752 - mean_absolute_error: 0.1744 - root_mean_squared_error: 0.2713 - val_loss: 0.0515 - val_mean_absolute_error: 0.1738 - val_root_mean_squared_error: 0.2266\n",
      "Epoch 16/200\n",
      "\u001b[1m73/73\u001b[0m \u001b[32m━━━━━━━━━━━━━━━━━━━━\u001b[0m\u001b[37m\u001b[0m \u001b[1m1s\u001b[0m 17ms/step - loss: 0.0743 - mean_absolute_error: 0.1727 - root_mean_squared_error: 0.2697 - val_loss: 0.0507 - val_mean_absolute_error: 0.1726 - val_root_mean_squared_error: 0.2250\n",
      "Epoch 17/200\n",
      "\u001b[1m73/73\u001b[0m \u001b[32m━━━━━━━━━━━━━━━━━━━━\u001b[0m\u001b[37m\u001b[0m \u001b[1m1s\u001b[0m 18ms/step - loss: 0.0735 - mean_absolute_error: 0.1713 - root_mean_squared_error: 0.2682 - val_loss: 0.0501 - val_mean_absolute_error: 0.1715 - val_root_mean_squared_error: 0.2236\n",
      "Epoch 18/200\n",
      "\u001b[1m73/73\u001b[0m \u001b[32m━━━━━━━━━━━━━━━━━━━━\u001b[0m\u001b[37m\u001b[0m \u001b[1m1s\u001b[0m 19ms/step - loss: 0.0729 - mean_absolute_error: 0.1699 - root_mean_squared_error: 0.2670 - val_loss: 0.0495 - val_mean_absolute_error: 0.1706 - val_root_mean_squared_error: 0.2223\n",
      "Epoch 19/200\n",
      "\u001b[1m73/73\u001b[0m \u001b[32m━━━━━━━━━━━━━━━━━━━━\u001b[0m\u001b[37m\u001b[0m \u001b[1m1s\u001b[0m 17ms/step - loss: 0.0723 - mean_absolute_error: 0.1686 - root_mean_squared_error: 0.2659 - val_loss: 0.0490 - val_mean_absolute_error: 0.1697 - val_root_mean_squared_error: 0.2211\n",
      "Epoch 20/200\n",
      "\u001b[1m73/73\u001b[0m \u001b[32m━━━━━━━━━━━━━━━━━━━━\u001b[0m\u001b[37m\u001b[0m \u001b[1m1s\u001b[0m 19ms/step - loss: 0.0717 - mean_absolute_error: 0.1675 - root_mean_squared_error: 0.2649 - val_loss: 0.0486 - val_mean_absolute_error: 0.1691 - val_root_mean_squared_error: 0.2201\n",
      "Epoch 21/200\n",
      "\u001b[1m73/73\u001b[0m \u001b[32m━━━━━━━━━━━━━━━━━━━━\u001b[0m\u001b[37m\u001b[0m \u001b[1m1s\u001b[0m 20ms/step - loss: 0.0713 - mean_absolute_error: 0.1664 - root_mean_squared_error: 0.2639 - val_loss: 0.0482 - val_mean_absolute_error: 0.1685 - val_root_mean_squared_error: 0.2193\n",
      "Epoch 22/200\n",
      "\u001b[1m73/73\u001b[0m \u001b[32m━━━━━━━━━━━━━━━━━━━━\u001b[0m\u001b[37m\u001b[0m \u001b[1m1s\u001b[0m 17ms/step - loss: 0.0708 - mean_absolute_error: 0.1655 - root_mean_squared_error: 0.2631 - val_loss: 0.0479 - val_mean_absolute_error: 0.1680 - val_root_mean_squared_error: 0.2185\n",
      "Epoch 23/200\n",
      "\u001b[1m73/73\u001b[0m \u001b[32m━━━━━━━━━━━━━━━━━━━━\u001b[0m\u001b[37m\u001b[0m \u001b[1m1s\u001b[0m 19ms/step - loss: 0.0704 - mean_absolute_error: 0.1646 - root_mean_squared_error: 0.2623 - val_loss: 0.0476 - val_mean_absolute_error: 0.1676 - val_root_mean_squared_error: 0.2179\n",
      "Epoch 24/200\n",
      "\u001b[1m73/73\u001b[0m \u001b[32m━━━━━━━━━━━━━━━━━━━━\u001b[0m\u001b[37m\u001b[0m \u001b[1m1s\u001b[0m 20ms/step - loss: 0.0700 - mean_absolute_error: 0.1638 - root_mean_squared_error: 0.2615 - val_loss: 0.0474 - val_mean_absolute_error: 0.1673 - val_root_mean_squared_error: 0.2174\n",
      "Epoch 25/200\n",
      "\u001b[1m73/73\u001b[0m \u001b[32m━━━━━━━━━━━━━━━━━━━━\u001b[0m\u001b[37m\u001b[0m \u001b[1m1s\u001b[0m 17ms/step - loss: 0.0696 - mean_absolute_error: 0.1630 - root_mean_squared_error: 0.2608 - val_loss: 0.0472 - val_mean_absolute_error: 0.1670 - val_root_mean_squared_error: 0.2170\n",
      "Epoch 26/200\n",
      "\u001b[1m73/73\u001b[0m \u001b[32m━━━━━━━━━━━━━━━━━━━━\u001b[0m\u001b[37m\u001b[0m \u001b[1m1s\u001b[0m 18ms/step - loss: 0.0692 - mean_absolute_error: 0.1623 - root_mean_squared_error: 0.2600 - val_loss: 0.0471 - val_mean_absolute_error: 0.1668 - val_root_mean_squared_error: 0.2167\n",
      "Epoch 27/200\n",
      "\u001b[1m73/73\u001b[0m \u001b[32m━━━━━━━━━━━━━━━━━━━━\u001b[0m\u001b[37m\u001b[0m \u001b[1m1s\u001b[0m 19ms/step - loss: 0.0688 - mean_absolute_error: 0.1616 - root_mean_squared_error: 0.2593 - val_loss: 0.0470 - val_mean_absolute_error: 0.1667 - val_root_mean_squared_error: 0.2165\n",
      "Epoch 28/200\n",
      "\u001b[1m73/73\u001b[0m \u001b[32m━━━━━━━━━━━━━━━━━━━━\u001b[0m\u001b[37m\u001b[0m \u001b[1m1s\u001b[0m 19ms/step - loss: 0.0684 - mean_absolute_error: 0.1610 - root_mean_squared_error: 0.2586 - val_loss: 0.0469 - val_mean_absolute_error: 0.1666 - val_root_mean_squared_error: 0.2164\n",
      "Epoch 29/200\n",
      "\u001b[1m73/73\u001b[0m \u001b[32m━━━━━━━━━━━━━━━━━━━━\u001b[0m\u001b[37m\u001b[0m \u001b[1m1s\u001b[0m 17ms/step - loss: 0.0680 - mean_absolute_error: 0.1604 - root_mean_squared_error: 0.2579 - val_loss: 0.0469 - val_mean_absolute_error: 0.1666 - val_root_mean_squared_error: 0.2164\n",
      "Epoch 30/200\n",
      "\u001b[1m73/73\u001b[0m \u001b[32m━━━━━━━━━━━━━━━━━━━━\u001b[0m\u001b[37m\u001b[0m \u001b[1m1s\u001b[0m 20ms/step - loss: 0.0677 - mean_absolute_error: 0.1600 - root_mean_squared_error: 0.2572 - val_loss: 0.0470 - val_mean_absolute_error: 0.1667 - val_root_mean_squared_error: 0.2165\n",
      "Epoch 31/200\n",
      "\u001b[1m73/73\u001b[0m \u001b[32m━━━━━━━━━━━━━━━━━━━━\u001b[0m\u001b[37m\u001b[0m \u001b[1m1s\u001b[0m 18ms/step - loss: 0.0673 - mean_absolute_error: 0.1595 - root_mean_squared_error: 0.2565 - val_loss: 0.0470 - val_mean_absolute_error: 0.1668 - val_root_mean_squared_error: 0.2166\n",
      "Epoch 32/200\n",
      "\u001b[1m73/73\u001b[0m \u001b[32m━━━━━━━━━━━━━━━━━━━━\u001b[0m\u001b[37m\u001b[0m \u001b[1m1s\u001b[0m 17ms/step - loss: 0.0669 - mean_absolute_error: 0.1591 - root_mean_squared_error: 0.2559 - val_loss: 0.0471 - val_mean_absolute_error: 0.1669 - val_root_mean_squared_error: 0.2168\n",
      "Epoch 33/200\n",
      "\u001b[1m73/73\u001b[0m \u001b[32m━━━━━━━━━━━━━━━━━━━━\u001b[0m\u001b[37m\u001b[0m \u001b[1m1s\u001b[0m 17ms/step - loss: 0.0666 - mean_absolute_error: 0.1588 - root_mean_squared_error: 0.2552 - val_loss: 0.0472 - val_mean_absolute_error: 0.1671 - val_root_mean_squared_error: 0.2170\n",
      "Epoch 34/200\n",
      "\u001b[1m73/73\u001b[0m \u001b[32m━━━━━━━━━━━━━━━━━━━━\u001b[0m\u001b[37m\u001b[0m \u001b[1m1s\u001b[0m 17ms/step - loss: 0.0663 - mean_absolute_error: 0.1584 - root_mean_squared_error: 0.2546 - val_loss: 0.0473 - val_mean_absolute_error: 0.1673 - val_root_mean_squared_error: 0.2173\n",
      "Epoch 35/200\n",
      "\u001b[1m73/73\u001b[0m \u001b[32m━━━━━━━━━━━━━━━━━━━━\u001b[0m\u001b[37m\u001b[0m \u001b[1m1s\u001b[0m 16ms/step - loss: 0.0659 - mean_absolute_error: 0.1581 - root_mean_squared_error: 0.2540 - val_loss: 0.0474 - val_mean_absolute_error: 0.1674 - val_root_mean_squared_error: 0.2176\n",
      "Epoch 36/200\n",
      "\u001b[1m73/73\u001b[0m \u001b[32m━━━━━━━━━━━━━━━━━━━━\u001b[0m\u001b[37m\u001b[0m \u001b[1m1s\u001b[0m 17ms/step - loss: 0.0656 - mean_absolute_error: 0.1578 - root_mean_squared_error: 0.2534 - val_loss: 0.0476 - val_mean_absolute_error: 0.1676 - val_root_mean_squared_error: 0.2178\n",
      "Epoch 37/200\n",
      "\u001b[1m73/73\u001b[0m \u001b[32m━━━━━━━━━━━━━━━━━━━━\u001b[0m\u001b[37m\u001b[0m \u001b[1m1s\u001b[0m 17ms/step - loss: 0.0653 - mean_absolute_error: 0.1575 - root_mean_squared_error: 0.2527 - val_loss: 0.0477 - val_mean_absolute_error: 0.1678 - val_root_mean_squared_error: 0.2181\n",
      "Epoch 38/200\n",
      "\u001b[1m73/73\u001b[0m \u001b[32m━━━━━━━━━━━━━━━━━━━━\u001b[0m\u001b[37m\u001b[0m \u001b[1m1s\u001b[0m 18ms/step - loss: 0.0650 - mean_absolute_error: 0.1572 - root_mean_squared_error: 0.2521 - val_loss: 0.0478 - val_mean_absolute_error: 0.1680 - val_root_mean_squared_error: 0.2184\n",
      "Epoch 39/200\n",
      "\u001b[1m73/73\u001b[0m \u001b[32m━━━━━━━━━━━━━━━━━━━━\u001b[0m\u001b[37m\u001b[0m \u001b[1m1s\u001b[0m 18ms/step - loss: 0.0647 - mean_absolute_error: 0.1569 - root_mean_squared_error: 0.2516 - val_loss: 0.0479 - val_mean_absolute_error: 0.1682 - val_root_mean_squared_error: 0.2186\n"
     ]
    }
   ],
   "source": [
    "model.compile(optimizer='adam', loss='mean_squared_error', metrics=[RMSE(), MAE()])\n",
    "es = callbacks.EarlyStopping(monitor='val_loss', patience=10, restore_best_weights=True)\n",
    "history = model.fit([train_people, train_temperature, one_hot[:len(train_people)]], y_train, epochs=200, batch_size=32, shuffle=False, validation_data=([val_people, val_temperature, one_hot[len(train_people):len(train_people)+len(val_people)]], y_val), callbacks=[es])"
   ]
  },
  {
   "cell_type": "code",
   "execution_count": 37,
   "metadata": {},
   "outputs": [
    {
     "name": "stdout",
     "output_type": "stream",
     "text": [
      "\u001b[1m16/16\u001b[0m \u001b[32m━━━━━━━━━━━━━━━━━━━━\u001b[0m\u001b[37m\u001b[0m \u001b[1m0s\u001b[0m 9ms/step - loss: 0.0506 - mean_absolute_error: 0.1624 - root_mean_squared_error: 0.2158\n",
      "[0.09952878952026367, 0.19339148700237274, 0.2674641013145447]\n"
     ]
    }
   ],
   "source": [
    "eval_result = model.evaluate([test_people, test_temperature, one_hot[-len(test_people):]], y_test)\n",
    "print(eval_result)"
   ]
  },
  {
   "cell_type": "code",
   "execution_count": 38,
   "metadata": {},
   "outputs": [],
   "source": [
    "model.save(f'model_{window_size}.keras')"
   ]
  },
  {
   "cell_type": "code",
   "execution_count": 39,
   "metadata": {},
   "outputs": [
    {
     "data": {
      "text/plain": [
       "<matplotlib.legend.Legend at 0x35681ef50>"
      ]
     },
     "execution_count": 39,
     "metadata": {},
     "output_type": "execute_result"
    },
    {
     "data": {
      "image/png": "[encoded data removed]",
      "text/plain": [
       "<Figure size 640x480 with 1 Axes>"
      ]
     },
     "metadata": {},
     "output_type": "display_data"
    }
   ],
   "source": [
    "pd.Series(history.history['loss']).plot(style='k')\n",
    "pd.Series(history.history['val_loss']).plot(style='r')\n",
    "plt.legend(['Train', 'Validation'])"
   ]
  },
  {
   "cell_type": "code",
   "execution_count": 40,
   "metadata": {},
   "outputs": [
    {
     "name": "stdout",
     "output_type": "stream",
     "text": [
      "\u001b[1m16/16\u001b[0m \u001b[32m━━━━━━━━━━━━━━━━━━━━\u001b[0m\u001b[37m\u001b[0m \u001b[1m0s\u001b[0m 11ms/step\n"
     ]
    }
   ],
   "source": [
    "result = model.predict([test_people, test_temperature, one_hot[-len(test_people):]])[-1]"
   ]
  },
  {
   "cell_type": "code",
   "execution_count": 41,
   "metadata": {},
   "outputs": [
    {
     "name": "stdout",
     "output_type": "stream",
     "text": [
      "[0.7398846]\n"
     ]
    }
   ],
   "source": [
    "print(result)"
   ]
  },
  {
   "cell_type": "code",
   "execution_count": 42,
   "metadata": {},
   "outputs": [],
   "source": [
    "result = [result[-1], result[-1]]"
   ]
  },
  {
   "cell_type": "code",
   "execution_count": 43,
   "metadata": {},
   "outputs": [],
   "source": [
    "result = np.array(result)"
   ]
  },
  {
   "cell_type": "code",
   "execution_count": 44,
   "metadata": {},
   "outputs": [],
   "source": [
    "result = scaler.inverse_transform(result.reshape(1, -1))"
   ]
  },
  {
   "cell_type": "code",
   "execution_count": 45,
   "metadata": {},
   "outputs": [
    {
     "name": "stdout",
     "output_type": "stream",
     "text": [
      "16811.236\n"
     ]
    }
   ],
   "source": [
    "print(result[0][0])"
   ]
  },
  {
   "cell_type": "code",
   "execution_count": 46,
   "metadata": {},
   "outputs": [
    {
     "name": "stdout",
     "output_type": "stream",
     "text": [
      "12751.0\n"
     ]
    }
   ],
   "source": [
    "res = np.array([test_y.iloc[-1], test_y.iloc[-1]])\n",
    "res = scaler.inverse_transform(res.reshape(1, -1))\n",
    "print(res[0][0])"
   ]
  },
  {
   "cell_type": "code",
   "execution_count": 47,
   "metadata": {},
   "outputs": [
    {
     "name": "stdout",
     "output_type": "stream",
     "text": [
      "\u001b[1m 1/16\u001b[0m \u001b[32m━\u001b[0m\u001b[37m━━━━━━━━━━━━━━━━━━━\u001b[0m \u001b[1m0s\u001b[0m 14ms/step"
     ]
    },
    {
     "name": "stdout",
     "output_type": "stream",
     "text": [
      "\u001b[1m16/16\u001b[0m \u001b[32m━━━━━━━━━━━━━━━━━━━━\u001b[0m\u001b[37m\u001b[0m \u001b[1m0s\u001b[0m 4ms/step\n"
     ]
    }
   ],
   "source": [
    "result = model.predict([test_people, test_temperature, one_hot[-len(test_people):]])"
   ]
  },
  {
   "cell_type": "code",
   "execution_count": 48,
   "metadata": {},
   "outputs": [],
   "source": [
    "def plot_forecast(test_y, result, index=index):\n",
    "    plt.plot(index, test_y, label='actual')\n",
    "    plt.plot(index, result, label='forecast')\n",
    "    plt.legend()\n",
    "    plt.show()"
   ]
  },
  {
   "cell_type": "code",
   "execution_count": 49,
   "metadata": {},
   "outputs": [],
   "source": [
    "test_y_ex = np.array([test_y, test_y])"
   ]
  },
  {
   "cell_type": "code",
   "execution_count": 50,
   "metadata": {},
   "outputs": [],
   "source": [
    "test_y_ex = np.array(test_y_ex.T)"
   ]
  },
  {
   "cell_type": "code",
   "execution_count": 51,
   "metadata": {},
   "outputs": [
    {
     "name": "stdout",
     "output_type": "stream",
     "text": [
      "(485, 2)\n"
     ]
    }
   ],
   "source": [
    "print(test_y_ex.shape)"
   ]
  },
  {
   "cell_type": "code",
   "execution_count": 52,
   "metadata": {},
   "outputs": [],
   "source": [
    "test_y = scaler.inverse_transform(test_y_ex)"
   ]
  },
  {
   "cell_type": "code",
   "execution_count": 53,
   "metadata": {},
   "outputs": [
    {
     "name": "stdout",
     "output_type": "stream",
     "text": [
      "[ 3910.  4031.  5807.  7202.  9444. 12798. 13134. 14116. 12800. 11388.\n",
      " 12411. 12229.  7530.  5348.  6680.  6431.  4717.  4047.  4305.  3997.\n",
      "  3988.  2295.  2416.  3753.  4170.  5492.  6024.  9016. 11629. 14193.\n",
      " 10913.  8191.  8577.  8610. 10059.  8373.  7772.  6518.  5768.  4958.\n",
      "  4763.  4491.  4530.  4496.  4118.  2921.  3301.  3335.  4942.  9130.\n",
      " 10375. 11173. 14430. 16136. 16037. 17111. 16096. 14379. 14793. 14239.\n",
      " 11939.  9600.  7850.  6463.  5443.  5165.  4924.  4764.  4872.  3292.\n",
      "  3673.  3958.  5875.  9780. 11876. 12144. 13215. 14322. 18572. 19070.\n",
      " 18182. 17352. 17554. 16795. 13224. 10401.  7993.  6648.  5902.  5706.\n",
      "  5297.  5378.  5059.  4250.  4915.  5103.  6708. 12076. 15013. 15057.\n",
      " 17617. 20683. 23015. 22104. 23203. 23976. 24702. 21751. 22529. 15821.\n",
      "  9768.  7091.  6484.  7109.  7739.  7487.  7342.  6571.  7518.  7702.\n",
      "  9944. 13593. 16188. 20538. 22418. 26811. 27704. 23078. 22956. 23848.\n",
      " 21624. 18722. 16849. 14199. 10909.  8326.  7096.  6627.  6548.  6438.\n",
      "  6044.  4296.  4638.  4560.  5864.  6886. 10323. 12462. 16076. 18854.\n",
      " 17311. 16196. 16296. 16597. 18142. 17766. 15676. 11665.  8493.  7984.\n",
      "  7304.  6701.  6745.  6238.  5963.  4212.  4550.  4661.  4601.  6206.\n",
      "  9410. 13112. 17699. 17743. 17885. 17470. 18756. 16321. 15497. 13803.\n",
      " 11247.  9662.  8552.  8119.  8218.  6014.  6277.  5966.  5693.  5242.\n",
      "  5884.  5787.  8020. 14081. 14385. 18816. 18268. 22090. 20378. 18784.\n",
      " 18925. 18699. 19742. 13343. 11110.  9264.  9308.  8310.  7563.  5927.\n",
      "  5913.  6004.  5835.  3809.  4348.  4633.  6328. 10521. 12988. 12500.\n",
      " 14802. 20724. 21150. 18956. 19092. 18137. 15995. 16019. 15144. 14201.\n",
      " 10086.  8337.  7083.  6576.  6290.  5938.  5927.  4151.  4128.  4999.\n",
      " 10088. 15109. 15702. 16437. 21238. 25683. 24193. 24863. 25169. 26106.\n",
      " 25228. 19654. 17478. 14321. 11902.  8033.  7674.  6183.  6141.  5558.\n",
      "  5643.  3973.  3828.  3928.  6036. 10219. 16490. 17605. 20794. 24753.\n",
      " 24848. 25494. 27685. 24845. 23325. 21925. 20176. 15854.  9545.  8559.\n",
      "  8110.  7344.  7504.  7072.  6278.  4873.  5017.  4833.  6180. 10114.\n",
      " 12119. 14402. 18213. 20104. 18135. 15882. 18438. 19679. 20172. 16909.\n",
      " 13194.  9948.  8804.  7229.  6318.  5812.  5635.  5625.  5549.  4701.\n",
      "  5404.  5353.  5936.  6923.  9640. 14970. 21094. 23720. 25079. 22345.\n",
      " 20943. 21818. 19617. 18893. 15225. 13474. 10125.  9095.  9614.  8365.\n",
      "  7852.  7742.  7705.  6379.  7510.  7578.  7266.  9024. 12165. 15993.\n",
      " 18481. 19469. 20973. 20665. 18924. 20773. 20686. 19284. 14433. 10957.\n",
      " 10142.  9724.  8092.  7797.  7675.  7411.  7024.  4624.  5234.  5208.\n",
      "  7218. 13893. 15768. 20065. 19345. 22742. 20035. 17836. 18020. 20494.\n",
      " 18615. 17256. 14244. 10929.  8903.  8760.  7919.  8046.  7756.  7438.\n",
      "  7279.  6393.  7514.  7600.  9498. 15210. 17035. 17313. 19108. 22815.\n",
      " 22401. 23029. 22558. 23153. 22104. 17432. 15434. 11121.  9918. 10501.\n",
      " 10112.  8291.  7557.  7563.  7493.  6627.  7788.  8094.  9756. 14581.\n",
      " 15009. 16406. 17258. 27038. 25612. 25178. 24940. 24741. 21595. 18327.\n",
      " 13765. 13629.  9625.  7965.  6356.  5355.  6382.  4054.  4489.  4995.\n",
      "  3464.  5461. 10989. 10481. 15237. 16723. 18902. 15577. 23534. 21646.\n",
      " 15897. 20677. 23465. 13014. 14639. 10698.  5309.  7881.  8301.  4908.\n",
      "  6767.  6974.  3977.  6769.  7669.  5718. 13761. 18947. 14088. 22470.\n",
      " 25956. 17133. 23430. 21378. 16173. 21175. 19527. 11431. 10863.  8257.\n",
      "  7177.  6254.  7442.  5548.  4811.  6270.  6512.  4442.  6819.  9020.\n",
      "  9741. 19613. 22055. 14644. 12751.]\n"
     ]
    }
   ],
   "source": [
    "print(test_y[:, 0])"
   ]
  },
  {
   "cell_type": "code",
   "execution_count": 54,
   "metadata": {},
   "outputs": [],
   "source": [
    "result = np.array([result[:, 0], result[:, 0]])"
   ]
  },
  {
   "cell_type": "code",
   "execution_count": 55,
   "metadata": {},
   "outputs": [
    {
     "name": "stdout",
     "output_type": "stream",
     "text": [
      "(485, 2)\n"
     ]
    }
   ],
   "source": [
    "result = result.T\n",
    "print(result.shape)"
   ]
  },
  {
   "cell_type": "code",
   "execution_count": 56,
   "metadata": {},
   "outputs": [],
   "source": [
    "result = scaler.inverse_transform(result)"
   ]
  },
  {
   "cell_type": "code",
   "execution_count": 57,
   "metadata": {},
   "outputs": [
    {
     "data": {
      "image/png": "[encoded data removed]",
      "text/plain": [
       "<Figure size 640x480 with 1 Axes>"
      ]
     },
     "metadata": {},
     "output_type": "display_data"
    }
   ],
   "source": [
    "plot_forecast(test_y[:, 0], result[:, 0])"
   ]
  },
  {
   "cell_type": "code",
   "execution_count": 58,
   "metadata": {},
   "outputs": [],
   "source": [
    "def plot_error(test_y, result):\n",
    "    error = test_y - result\n",
    "    plt.plot(index, error, label='error')\n",
    "    plt.title(f'Error MAE: {np.mean(np.abs(error)):.2f} RMSE: {np.sqrt(np.mean(error**2)):.2f}')\n",
    "    plt.legend()\n",
    "    plt.show()"
   ]
  },
  {
   "cell_type": "code",
   "execution_count": 59,
   "metadata": {},
   "outputs": [
    {
     "data": {
      "image/png": "[encoded data removed]",
      "text/plain": [
       "<Figure size 640x480 with 1 Axes>"
      ]
     },
     "metadata": {},
     "output_type": "display_data"
    }
   ],
   "source": [
    "plot_error(test_y[:, 0], result[:, 0])"
   ]
  },
  {
   "cell_type": "code",
   "execution_count": null,
   "metadata": {},
   "outputs": [],
   "source": []
  }
 ],
 "metadata": {
  "kernelspec": {
   "display_name": "tensorflow",
   "language": "python",
   "name": "python3"
  },
  "language_info": {
   "codemirror_mode": {
    "name": "ipython",
    "version": 3
   },
   "file_extension": ".py",
   "mimetype": "text/x-python",
   "name": "python",
   "nbconvert_exporter": "python",
   "pygments_lexer": "ipython3",
   "version": "3.11.8"
  }
 },
 "nbformat": 4,
 "nbformat_minor": 2
}
