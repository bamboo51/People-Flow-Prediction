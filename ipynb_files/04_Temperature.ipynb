{
 "cells": [
  {
   "cell_type": "markdown",
   "metadata": {},
   "source": [
    "# Predict People with multivariances"
   ]
  },
  {
   "cell_type": "code",
   "execution_count": 1,
   "metadata": {},
   "outputs": [],
   "source": [
    "import numpy as np\n",
    "import matplotlib.pyplot as plt"
   ]
  },
  {
   "cell_type": "markdown",
   "metadata": {},
   "source": [
    "## Import data"
   ]
  },
  {
   "cell_type": "code",
   "execution_count": 2,
   "metadata": {},
   "outputs": [],
   "source": [
    "import pandas as pd\n",
    "\n",
    "path = '../data/num_file/hrs_1/p040.csv'\n",
    "people = pd.read_csv(path, encoding='utf-8')"
   ]
  },
  {
   "cell_type": "markdown",
   "metadata": {},
   "source": [
    "Merge \"date\" and \"hour\" columns to be datetime"
   ]
  },
  {
   "cell_type": "code",
   "execution_count": 3,
   "metadata": {},
   "outputs": [
    {
     "name": "stdout",
     "output_type": "stream",
     "text": [
      "                      amount\n",
      "datetime                    \n",
      "2022-04-21 01:00:00   1033.0\n",
      "2022-04-21 02:00:00     65.0\n",
      "2022-04-21 12:00:00   1604.0\n",
      "2022-04-25 15:00:00   4458.0\n",
      "2022-04-25 16:00:00  18501.0\n",
      "...                      ...\n",
      "2022-09-03 07:00:00   9741.0\n",
      "2022-09-03 08:00:00  19613.0\n",
      "2022-09-03 09:00:00  22055.0\n",
      "2022-09-03 10:00:00  14644.0\n",
      "2022-09-03 11:00:00  12751.0\n",
      "\n",
      "[3144 rows x 1 columns]\n"
     ]
    }
   ],
   "source": [
    "people['datetime'] = pd.to_datetime(people['date'])+pd.to_timedelta(people['hour'], unit='h')\n",
    "people = people.drop(['date', 'hour'], axis=1)\n",
    "people.set_index('datetime', inplace=True)\n",
    "people.columns = ['amount']\n",
    "people['amount'] = people['amount'].astype(float)\n",
    "print(people)"
   ]
  },
  {
   "cell_type": "markdown",
   "metadata": {},
   "source": [
    "Resample the data that are not existed"
   ]
  },
  {
   "cell_type": "code",
   "execution_count": 4,
   "metadata": {},
   "outputs": [
    {
     "name": "stdout",
     "output_type": "stream",
     "text": [
      "                      amount\n",
      "2022-04-21 01:00:00   1033.0\n",
      "2022-04-21 02:00:00     65.0\n",
      "2022-04-21 03:00:00   1604.0\n",
      "2022-04-21 04:00:00   1604.0\n",
      "2022-04-21 05:00:00   1604.0\n",
      "...                      ...\n",
      "2022-09-03 07:00:00   9741.0\n",
      "2022-09-03 08:00:00  19613.0\n",
      "2022-09-03 09:00:00  22055.0\n",
      "2022-09-03 10:00:00  14644.0\n",
      "2022-09-03 11:00:00  12751.0\n",
      "\n",
      "[3251 rows x 1 columns]\n"
     ]
    }
   ],
   "source": [
    "full_index = pd.date_range(start=people.index.min(), end=people.index.max(), freq='h')\n",
    "people = people.reindex(full_index)\n",
    "people['amount'] = people['amount'].bfill()\n",
    "print(people)"
   ]
  },
  {
   "cell_type": "code",
   "execution_count": 5,
   "metadata": {},
   "outputs": [
    {
     "name": "stdout",
     "output_type": "stream",
     "text": [
      "                datetime\n",
      "0    2022-04-21 01:00:00\n",
      "1    2022-04-21 02:00:00\n",
      "2    2022-04-21 03:00:00\n",
      "3    2022-04-21 04:00:00\n",
      "4    2022-04-21 05:00:00\n",
      "...                  ...\n",
      "3246 2022-09-03 07:00:00\n",
      "3247 2022-09-03 08:00:00\n",
      "3248 2022-09-03 09:00:00\n",
      "3249 2022-09-03 10:00:00\n",
      "3250 2022-09-03 11:00:00\n",
      "\n",
      "[3251 rows x 1 columns]\n"
     ]
    }
   ],
   "source": [
    "import calendar\n",
    "from datetime import date\n",
    "day = pd.DataFrame(people.index)\n",
    "day = day.rename(columns={0: 'datetime'})\n",
    "day['datetime'] = pd.to_datetime(day['datetime'])\n",
    "print(day)"
   ]
  },
  {
   "cell_type": "markdown",
   "metadata": {},
   "source": [
    "Import temperature data."
   ]
  },
  {
   "cell_type": "code",
   "execution_count": 6,
   "metadata": {},
   "outputs": [],
   "source": [
    "import os\n",
    "import pandas as pd\n",
    "\n",
    "folder_path = '../data/temperature_file/'\n",
    "\n",
    "csv_files = [file for file in os.listdir(folder_path) if file.endswith('.csv')]\n",
    "\n",
    "temperature = []\n",
    "\n",
    "for file in csv_files:\n",
    "    file_path = folder_path + file\n",
    "    df = pd.read_csv(file_path, encoding='utf-8')\n",
    "    temperature.append(df)\n",
    "\n",
    "temperature = pd.concat(temperature, ignore_index=True)\n",
    "    "
   ]
  },
  {
   "cell_type": "code",
   "execution_count": 7,
   "metadata": {},
   "outputs": [
    {
     "name": "stdout",
     "output_type": "stream",
     "text": [
      "                     temperature  precipitation  weather\n",
      "datetime                                                \n",
      "2022-01-01 01:00:00         -3.6            0.5      NaN\n",
      "2022-01-01 02:00:00         -3.6            0.0      NaN\n",
      "2022-01-01 03:00:00         -3.4            0.0     12.0\n",
      "2022-01-01 04:00:00         -3.7            0.0      NaN\n",
      "2022-01-01 05:00:00         -4.1            1.0      NaN\n",
      "...                          ...            ...      ...\n",
      "2022-12-31 20:00:00          2.9            0.0      NaN\n",
      "2022-12-31 21:00:00          1.8            0.0      1.0\n",
      "2022-12-31 22:00:00          2.6            0.0      NaN\n",
      "2022-12-31 23:00:00          1.9            0.0      NaN\n",
      "2023-01-01 00:00:00          1.7            0.0      NaN\n",
      "\n",
      "[8760 rows x 3 columns]\n"
     ]
    }
   ],
   "source": [
    "temperature['datetime'] = pd.to_datetime(temperature['datetime'])\n",
    "temperature.set_index('datetime', inplace=True)\n",
    "print(temperature)"
   ]
  },
  {
   "cell_type": "markdown",
   "metadata": {},
   "source": [
    "Merge the amount of people and temperature data as one dataframe."
   ]
  },
  {
   "cell_type": "code",
   "execution_count": 8,
   "metadata": {},
   "outputs": [
    {
     "name": "stdout",
     "output_type": "stream",
     "text": [
      "                      amount  temperature  precipitation  weather\n",
      "2022-04-21 01:00:00   1033.0          9.2            0.0      NaN\n",
      "2022-04-21 02:00:00     65.0          9.1            0.0      NaN\n",
      "2022-04-21 03:00:00   1604.0          9.1            0.0      1.0\n",
      "2022-04-21 04:00:00   1604.0          7.9            0.0      NaN\n",
      "2022-04-21 05:00:00   1604.0          7.4            0.0      NaN\n",
      "...                      ...          ...            ...      ...\n",
      "2022-09-03 07:00:00   9741.0         22.4            0.0      NaN\n",
      "2022-09-03 08:00:00  19613.0         22.8            0.0      NaN\n",
      "2022-09-03 09:00:00  22055.0         23.2            0.0      4.0\n",
      "2022-09-03 10:00:00  14644.0         23.4            0.0      NaN\n",
      "2022-09-03 11:00:00  12751.0         23.7            0.0      NaN\n",
      "\n",
      "[3251 rows x 4 columns]\n"
     ]
    }
   ],
   "source": [
    "data = pd.merge(people, temperature, left_index=True, right_index=True, how='inner')\n",
    "print(data)"
   ]
  },
  {
   "cell_type": "markdown",
   "metadata": {},
   "source": [
    "## Data Preprocessing"
   ]
  },
  {
   "cell_type": "code",
   "execution_count": 9,
   "metadata": {},
   "outputs": [],
   "source": [
    "from sklearn.preprocessing import StandardScaler"
   ]
  },
  {
   "cell_type": "code",
   "execution_count": 10,
   "metadata": {},
   "outputs": [],
   "source": [
    "scaler = StandardScaler()\n",
    "data[['amount', 'temperature']] = scaler.fit_transform(data[['amount', 'temperature']])"
   ]
  },
  {
   "cell_type": "code",
   "execution_count": 11,
   "metadata": {},
   "outputs": [
    {
     "name": "stdout",
     "output_type": "stream",
     "text": [
      "                       amount  temperature  precipitation  weather\n",
      "2022-04-21 01:00:00 -1.608170    -2.122485            0.0      NaN\n",
      "2022-04-21 02:00:00 -1.752224    -2.140183            0.0      NaN\n",
      "2022-04-21 03:00:00 -1.523196    -2.140183            0.0      1.0\n",
      "2022-04-21 04:00:00 -1.523196    -2.352552            0.0      NaN\n",
      "2022-04-21 05:00:00 -1.523196    -2.441039            0.0      NaN\n"
     ]
    }
   ],
   "source": [
    "print(data.head())"
   ]
  },
  {
   "cell_type": "code",
   "execution_count": 12,
   "metadata": {},
   "outputs": [
    {
     "name": "stdout",
     "output_type": "stream",
     "text": [
      "                       amount  temperature\n",
      "2022-04-21 01:00:00 -1.608170    -2.122485\n",
      "2022-04-21 02:00:00 -1.752224    -2.140183\n",
      "2022-04-21 03:00:00 -1.523196    -2.140183\n",
      "2022-04-21 04:00:00 -1.523196    -2.352552\n",
      "2022-04-21 05:00:00 -1.523196    -2.441039\n",
      "...                       ...          ...\n",
      "2022-09-03 07:00:00 -0.312280     0.213572\n",
      "2022-09-03 08:00:00  1.156832     0.284362\n",
      "2022-09-03 09:00:00  1.520241     0.355151\n",
      "2022-09-03 10:00:00  0.417365     0.390546\n",
      "2022-09-03 11:00:00  0.135656     0.443638\n",
      "\n",
      "[3251 rows x 2 columns]\n"
     ]
    }
   ],
   "source": [
    "data = data[['amount', 'temperature']]\n",
    "print(data)"
   ]
  },
  {
   "cell_type": "markdown",
   "metadata": {},
   "source": [
    "Slice into dataframe"
   ]
  },
  {
   "cell_type": "code",
   "execution_count": 13,
   "metadata": {},
   "outputs": [],
   "source": [
    "window_size = 24\n",
    "def one_step_forecast(df, window=6):\n",
    "    d = df.values\n",
    "    x = []\n",
    "    n = len(df)\n",
    "    idx = df.index[:-window]\n",
    "    for start in range(n-window):\n",
    "        end = start + window\n",
    "        x.append(d[start:end])\n",
    "    cols = [f'x_{i}' for i in range(1, window+1)]\n",
    "    x = np.array(x).reshape(n-window, -1)\n",
    "    y = df.iloc[window:].values\n",
    "    df_xs = pd.DataFrame(x, columns=cols, index=idx)\n",
    "    df_y = pd.DataFrame(y.reshape(-1), columns=['y'], index=idx)\n",
    "    return pd.concat([df_xs, df_y], axis=1).dropna()"
   ]
  },
  {
   "cell_type": "code",
   "execution_count": 14,
   "metadata": {},
   "outputs": [],
   "source": [
    "test = one_step_forecast(data['amount'], window_size)"
   ]
  },
  {
   "cell_type": "code",
   "execution_count": 15,
   "metadata": {},
   "outputs": [
    {
     "name": "stdout",
     "output_type": "stream",
     "text": [
      "                          x_1       x_2       x_3       x_4       x_5  \\\n",
      "2022-04-21 01:00:00 -1.608170 -1.752224 -1.523196 -1.523196 -1.523196   \n",
      "2022-04-21 02:00:00 -1.752224 -1.523196 -1.523196 -1.523196 -1.523196   \n",
      "2022-04-21 03:00:00 -1.523196 -1.523196 -1.523196 -1.523196 -1.523196   \n",
      "2022-04-21 04:00:00 -1.523196 -1.523196 -1.523196 -1.523196 -1.523196   \n",
      "2022-04-21 05:00:00 -1.523196 -1.523196 -1.523196 -1.523196 -1.523196   \n",
      "...                       ...       ...       ...       ...       ...   \n",
      "2022-09-02 07:00:00  0.285961  1.057721  0.334623  1.582000  2.100772   \n",
      "2022-09-02 08:00:00  1.057721  0.334623  1.582000  2.100772  0.787768   \n",
      "2022-09-02 09:00:00  0.334623  1.582000  2.100772  0.787768  1.724863   \n",
      "2022-09-02 10:00:00  1.582000  2.100772  0.787768  1.724863  1.419492   \n",
      "2022-09-02 11:00:00  2.100772  0.787768  1.724863  1.419492  0.644905   \n",
      "\n",
      "                          x_6       x_7       x_8       x_9      x_10  ...  \\\n",
      "2022-04-21 01:00:00 -1.523196 -1.523196 -1.523196 -1.523196 -1.523196  ...   \n",
      "2022-04-21 02:00:00 -1.523196 -1.523196 -1.523196 -1.523196 -1.523196  ...   \n",
      "2022-04-21 03:00:00 -1.523196 -1.523196 -1.523196 -1.523196 -1.523196  ...   \n",
      "2022-04-21 04:00:00 -1.523196 -1.523196 -1.523196 -1.523196 -1.098475  ...   \n",
      "2022-04-21 05:00:00 -1.523196 -1.523196 -1.523196 -1.098475 -1.098475  ...   \n",
      "...                       ...       ...       ...       ...       ...  ...   \n",
      "2022-09-02 07:00:00  0.787768  1.724863  1.419492  0.644905  1.389283  ...   \n",
      "2022-09-02 08:00:00  1.724863  1.419492  0.644905  1.389283  1.144034  ...   \n",
      "2022-09-02 09:00:00  1.419492  0.644905  1.389283  1.144034 -0.060781  ...   \n",
      "2022-09-02 10:00:00  0.644905  1.389283  1.144034 -0.060781 -0.145308  ...   \n",
      "2022-09-02 11:00:00  1.389283  1.144034 -0.060781 -0.145308 -0.533123  ...   \n",
      "\n",
      "                         x_15      x_16      x_17      x_18      x_19  \\\n",
      "2022-04-21 01:00:00 -1.098475 -1.098475 -1.098475 -1.098475 -1.098475   \n",
      "2022-04-21 02:00:00 -1.098475 -1.098475 -1.098475 -1.098475 -1.098475   \n",
      "2022-04-21 03:00:00 -1.098475 -1.098475 -1.098475 -1.098475 -1.098475   \n",
      "2022-04-21 04:00:00 -1.098475 -1.098475 -1.098475 -1.098475 -1.098475   \n",
      "2022-04-21 05:00:00 -1.098475 -1.098475 -1.098475 -1.098475 -1.098475   \n",
      "...                       ...       ...       ...       ...       ...   \n",
      "2022-09-02 07:00:00 -0.693844 -0.831201 -0.654408 -0.936266 -1.045943   \n",
      "2022-09-02 08:00:00 -0.831201 -0.654408 -0.936266 -1.045943 -0.828820   \n",
      "2022-09-02 09:00:00 -0.654408 -0.936266 -1.045943 -0.828820 -0.792807   \n",
      "2022-09-02 10:00:00 -0.936266 -1.045943 -0.828820 -0.792807 -1.100856   \n",
      "2022-09-02 11:00:00 -1.045943 -0.828820 -0.792807 -1.100856 -0.747120   \n",
      "\n",
      "                         x_20      x_21      x_22      x_23      x_24  \n",
      "2022-04-21 01:00:00 -1.098475 -1.098475 -1.098475 -1.098475 -1.098475  \n",
      "2022-04-21 02:00:00 -1.098475 -1.098475 -1.098475 -1.098475 -1.098475  \n",
      "2022-04-21 03:00:00 -1.098475 -1.098475 -1.098475 -1.098475 -1.098475  \n",
      "2022-04-21 04:00:00 -1.098475 -1.098475 -1.098475 -1.098475 -1.098475  \n",
      "2022-04-21 05:00:00 -1.098475 -1.098475 -1.098475 -1.098475 -1.098475  \n",
      "...                       ...       ...       ...       ...       ...  \n",
      "2022-09-02 07:00:00 -0.828820 -0.792807 -1.100856 -0.747120 -0.419576  \n",
      "2022-09-02 08:00:00 -0.792807 -1.100856 -0.747120 -0.419576 -0.312280  \n",
      "2022-09-02 09:00:00 -1.100856 -0.747120 -0.419576 -0.312280  1.156832  \n",
      "2022-09-02 10:00:00 -0.747120 -0.419576 -0.312280  1.156832  1.520241  \n",
      "2022-09-02 11:00:00 -0.419576 -0.312280  1.156832  1.520241  0.417365  \n",
      "\n",
      "[3227 rows x 24 columns]\n"
     ]
    }
   ],
   "source": [
    "y = test['y']\n",
    "test = test.drop('y', axis=1)\n",
    "print(test)"
   ]
  },
  {
   "cell_type": "code",
   "execution_count": 16,
   "metadata": {},
   "outputs": [],
   "source": [
    "test_2 = one_step_forecast(data['temperature'], window_size)"
   ]
  },
  {
   "cell_type": "code",
   "execution_count": 17,
   "metadata": {},
   "outputs": [
    {
     "name": "stdout",
     "output_type": "stream",
     "text": [
      "                          x_1       x_2       x_3       x_4       x_5  \\\n",
      "2022-04-21 01:00:00 -2.122485 -2.140183 -2.140183 -2.352552 -2.441039   \n",
      "2022-04-21 02:00:00 -2.140183 -2.140183 -2.352552 -2.441039 -2.246367   \n",
      "2022-04-21 03:00:00 -2.140183 -2.352552 -2.441039 -2.246367 -1.821630   \n",
      "2022-04-21 04:00:00 -2.352552 -2.441039 -2.246367 -1.821630 -1.308405   \n",
      "2022-04-21 05:00:00 -2.441039 -2.246367 -1.821630 -1.308405 -0.972154   \n",
      "...                       ...       ...       ...       ...       ...   \n",
      "2022-09-02 07:00:00  0.425941  0.585217  0.850678  1.063047  0.903771   \n",
      "2022-09-02 08:00:00  0.585217  0.850678  1.063047  0.903771  1.063047   \n",
      "2022-09-02 09:00:00  0.850678  1.063047  0.903771  1.063047  0.956863   \n",
      "2022-09-02 10:00:00  1.063047  0.903771  1.063047  0.956863  1.027652   \n",
      "2022-09-02 11:00:00  0.903771  1.063047  0.956863  1.027652  0.939165   \n",
      "\n",
      "                          x_6       x_7       x_8       x_9      x_10  ...  \\\n",
      "2022-04-21 01:00:00 -2.246367 -1.821630 -1.308405 -0.972154 -0.653601  ...   \n",
      "2022-04-21 02:00:00 -1.821630 -1.308405 -0.972154 -0.653601 -0.671298  ...   \n",
      "2022-04-21 03:00:00 -1.308405 -0.972154 -0.653601 -0.671298 -0.423535  ...   \n",
      "2022-04-21 04:00:00 -0.972154 -0.653601 -0.671298 -0.423535 -0.458929  ...   \n",
      "2022-04-21 05:00:00 -0.653601 -0.671298 -0.423535 -0.458929 -0.565114  ...   \n",
      "...                       ...       ...       ...       ...       ...  ...   \n",
      "2022-09-02 07:00:00  1.063047  0.956863  1.027652  0.939165  0.886073  ...   \n",
      "2022-09-02 08:00:00  0.956863  1.027652  0.939165  0.886073  0.886073  ...   \n",
      "2022-09-02 09:00:00  1.027652  0.939165  0.886073  0.886073  0.602915  ...   \n",
      "2022-09-02 10:00:00  0.939165  0.886073  0.886073  0.602915  0.496730  ...   \n",
      "2022-09-02 11:00:00  0.886073  0.886073  0.602915  0.496730  0.461336  ...   \n",
      "\n",
      "                         x_15      x_16      x_17      x_18      x_19  \\\n",
      "2022-04-21 01:00:00 -0.476627 -0.582811 -0.936759 -0.989852 -0.989852   \n",
      "2022-04-21 02:00:00 -0.582811 -0.936759 -0.989852 -0.989852 -1.096036   \n",
      "2022-04-21 03:00:00 -0.936759 -0.989852 -0.989852 -1.096036 -1.060641   \n",
      "2022-04-21 04:00:00 -0.989852 -0.989852 -1.096036 -1.060641 -1.060641   \n",
      "2022-04-21 05:00:00 -0.989852 -1.096036 -1.060641 -1.060641 -1.149128   \n",
      "...                       ...       ...       ...       ...       ...   \n",
      "2022-09-02 07:00:00  0.408243  0.408243  0.390546  0.319756  0.337454   \n",
      "2022-09-02 08:00:00  0.408243  0.390546  0.319756  0.337454  0.319756   \n",
      "2022-09-02 09:00:00  0.390546  0.319756  0.337454  0.319756  0.284362   \n",
      "2022-09-02 10:00:00  0.319756  0.337454  0.319756  0.284362  0.266664   \n",
      "2022-09-02 11:00:00  0.337454  0.319756  0.284362  0.266664  0.231269   \n",
      "\n",
      "                         x_20      x_21      x_22      x_23      x_24  \n",
      "2022-04-21 01:00:00 -1.096036 -1.060641 -1.060641 -1.149128 -1.131431  \n",
      "2022-04-21 02:00:00 -1.060641 -1.060641 -1.149128 -1.131431 -1.131431  \n",
      "2022-04-21 03:00:00 -1.060641 -1.149128 -1.131431 -1.131431 -1.184523  \n",
      "2022-04-21 04:00:00 -1.149128 -1.131431 -1.131431 -1.184523 -1.255313  \n",
      "2022-04-21 05:00:00 -1.131431 -1.131431 -1.184523 -1.255313 -1.361497  \n",
      "...                       ...       ...       ...       ...       ...  \n",
      "2022-09-02 07:00:00  0.319756  0.284362  0.266664  0.231269  0.319756  \n",
      "2022-09-02 08:00:00  0.284362  0.266664  0.231269  0.319756  0.213572  \n",
      "2022-09-02 09:00:00  0.266664  0.231269  0.319756  0.213572  0.284362  \n",
      "2022-09-02 10:00:00  0.231269  0.319756  0.213572  0.284362  0.355151  \n",
      "2022-09-02 11:00:00  0.319756  0.213572  0.284362  0.355151  0.390546  \n",
      "\n",
      "[3227 rows x 24 columns]\n"
     ]
    }
   ],
   "source": [
    "test_2.drop('y', axis=1, inplace=True)\n",
    "print(test_2)"
   ]
  },
  {
   "cell_type": "code",
   "execution_count": 18,
   "metadata": {},
   "outputs": [
    {
     "name": "stdout",
     "output_type": "stream",
     "text": [
      "2022-04-21 01:00:00   -1.098475\n",
      "2022-04-21 02:00:00   -1.098475\n",
      "2022-04-21 03:00:00   -1.098475\n",
      "2022-04-21 04:00:00   -1.098475\n",
      "2022-04-21 05:00:00   -1.098475\n",
      "                         ...   \n",
      "2022-09-02 07:00:00   -0.312280\n",
      "2022-09-02 08:00:00    1.156832\n",
      "2022-09-02 09:00:00    1.520241\n",
      "2022-09-02 10:00:00    0.417365\n",
      "2022-09-02 11:00:00    0.135656\n",
      "Name: y, Length: 3227, dtype: float64\n"
     ]
    }
   ],
   "source": [
    "print(y)"
   ]
  },
  {
   "cell_type": "code",
   "execution_count": 19,
   "metadata": {},
   "outputs": [],
   "source": [
    "day = np.array(y.index.dayofweek)"
   ]
  },
  {
   "cell_type": "code",
   "execution_count": 20,
   "metadata": {},
   "outputs": [],
   "source": [
    "one_hot = pd.get_dummies(day)"
   ]
  },
  {
   "cell_type": "code",
   "execution_count": 21,
   "metadata": {},
   "outputs": [
    {
     "name": "stdout",
     "output_type": "stream",
     "text": [
      "          0      1      2      3      4      5      6\n",
      "0     False  False  False   True  False  False  False\n",
      "1     False  False  False   True  False  False  False\n",
      "2     False  False  False   True  False  False  False\n",
      "3     False  False  False   True  False  False  False\n",
      "4     False  False  False   True  False  False  False\n",
      "...     ...    ...    ...    ...    ...    ...    ...\n",
      "3222  False  False  False  False   True  False  False\n",
      "3223  False  False  False  False   True  False  False\n",
      "3224  False  False  False  False   True  False  False\n",
      "3225  False  False  False  False   True  False  False\n",
      "3226  False  False  False  False   True  False  False\n",
      "\n",
      "[3227 rows x 7 columns]\n"
     ]
    }
   ],
   "source": [
    "print(one_hot)"
   ]
  },
  {
   "cell_type": "markdown",
   "metadata": {},
   "source": [
    "Divide to train and test and val"
   ]
  },
  {
   "cell_type": "code",
   "execution_count": 22,
   "metadata": {},
   "outputs": [],
   "source": [
    "from sklearn.model_selection import train_test_split"
   ]
  },
  {
   "cell_type": "code",
   "execution_count": 23,
   "metadata": {},
   "outputs": [],
   "source": [
    "train_people, test_people, train_temperature, test_temperature, train_y, test_y = train_test_split(test, test_2, y, test_size=0.15, shuffle=False)\n",
    "train_people, val_people, train_temperature, val_temperature, train_y, val_y = train_test_split(train_people, train_temperature, train_y, test_size=0.15, shuffle=False)\n",
    "index = test_y.index\n",
    "train_people = np.expand_dims(train_people, axis=-1)\n",
    "val_people = np.expand_dims(val_people, axis=-1)\n",
    "test_people = np.expand_dims(test_people, axis=-1)\n",
    "train_temperature = np.expand_dims(train_temperature, axis=-1)\n",
    "val_temperature = np.expand_dims(val_temperature, axis=-1)\n",
    "test_temperature = np.expand_dims(test_temperature, axis=-1)\n",
    "y_train = np.expand_dims(train_y, axis=-1)\n",
    "y_val = np.expand_dims(val_y, axis=-1)\n",
    "y_test = np.expand_dims(test_y, axis=-1)"
   ]
  },
  {
   "cell_type": "code",
   "execution_count": 24,
   "metadata": {},
   "outputs": [
    {
     "name": "stdout",
     "output_type": "stream",
     "text": [
      "(2330, 1)\n"
     ]
    }
   ],
   "source": [
    "print(y_train.shape)"
   ]
  },
  {
   "cell_type": "code",
   "execution_count": 25,
   "metadata": {},
   "outputs": [
    {
     "name": "stdout",
     "output_type": "stream",
     "text": [
      "(485, 1)\n"
     ]
    }
   ],
   "source": [
    "print(y_test.shape)"
   ]
  },
  {
   "cell_type": "code",
   "execution_count": 26,
   "metadata": {},
   "outputs": [
    {
     "name": "stdout",
     "output_type": "stream",
     "text": [
      "          0      1      2      3      4      5      6\n",
      "0     False  False  False   True  False  False  False\n",
      "1     False  False  False   True  False  False  False\n",
      "2     False  False  False   True  False  False  False\n",
      "3     False  False  False   True  False  False  False\n",
      "4     False  False  False   True  False  False  False\n",
      "...     ...    ...    ...    ...    ...    ...    ...\n",
      "2335  False  False   True  False  False  False  False\n",
      "2336  False  False   True  False  False  False  False\n",
      "2337  False  False   True  False  False  False  False\n",
      "2338  False  False   True  False  False  False  False\n",
      "2339  False  False   True  False  False  False  False\n",
      "\n",
      "[2340 rows x 7 columns]\n"
     ]
    }
   ],
   "source": [
    "print(one_hot[:2340])"
   ]
  },
  {
   "cell_type": "code",
   "execution_count": 27,
   "metadata": {},
   "outputs": [
    {
     "name": "stdout",
     "output_type": "stream",
     "text": [
      "(412, 1)\n"
     ]
    }
   ],
   "source": [
    "print(y_val.shape)"
   ]
  },
  {
   "cell_type": "markdown",
   "metadata": {},
   "source": [
    "## Create model"
   ]
  },
  {
   "cell_type": "code",
   "execution_count": 28,
   "metadata": {},
   "outputs": [],
   "source": [
    "from keras.models import Model\n",
    "from keras import layers\n",
    "from keras import Input\n",
    "from keras.metrics import RootMeanSquaredError as RMSE, MeanAbsoluteError as MAE\n",
    "from keras import callbacks"
   ]
  },
  {
   "cell_type": "code",
   "execution_count": 29,
   "metadata": {},
   "outputs": [],
   "source": [
    "people_input = Input(shape=(train_people.shape[1], train_people.shape[2]), name='people')\n",
    "temperature_input = Input(shape=(train_temperature.shape[1], train_temperature.shape[2]), name='temperature')\n",
    "day_input = Input(shape=(one_hot.shape[1],), name='day')"
   ]
  },
  {
   "cell_type": "code",
   "execution_count": 30,
   "metadata": {},
   "outputs": [
    {
     "name": "stdout",
     "output_type": "stream",
     "text": [
      "(None, 24, 1)\n"
     ]
    }
   ],
   "source": [
    "print(people_input.shape)"
   ]
  },
  {
   "cell_type": "code",
   "execution_count": 31,
   "metadata": {},
   "outputs": [],
   "source": [
    "units = 32\n",
    "people_lstm = layers.LSTM(units, name='people_lstm')(people_input)\n",
    "temperature_lstm = layers.LSTM(units, name='temperature_lstm')(temperature_input)\n",
    "day_dense = layers.Dense(7, activation='sigmoid', name='day_dense')(day_input)"
   ]
  },
  {
   "cell_type": "code",
   "execution_count": 32,
   "metadata": {},
   "outputs": [],
   "source": [
    "concat= layers.concatenate([people_lstm, temperature_lstm, day_dense], name='concat')\n",
    "# lstm_dense = layers.Dense(71, activation='relu', name='lstm_dense')(concat)\n",
    "# concat_dense = layers.concatenate([lstm_dense, day_dense], name='concat_dense')\n",
    "output = layers.Dense(1, name='output')(concat)"
   ]
  },
  {
   "cell_type": "code",
   "execution_count": 33,
   "metadata": {},
   "outputs": [],
   "source": [
    "model = Model([people_input, temperature_input, day_input], output)"
   ]
  },
  {
   "cell_type": "code",
   "execution_count": 34,
   "metadata": {},
   "outputs": [
    {
     "name": "stdout",
     "output_type": "stream",
     "text": [
      "Model: \"model\"\n",
      "__________________________________________________________________________________________________\n",
      " Layer (type)                   Output Shape         Param #     Connected to                     \n",
      "==================================================================================================\n",
      " people (InputLayer)            [(None, 24, 1)]      0           []                               \n",
      "                                                                                                  \n",
      " temperature (InputLayer)       [(None, 24, 1)]      0           []                               \n",
      "                                                                                                  \n",
      " day (InputLayer)               [(None, 7)]          0           []                               \n",
      "                                                                                                  \n",
      " people_lstm (LSTM)             (None, 32)           4352        ['people[0][0]']                 \n",
      "                                                                                                  \n",
      " temperature_lstm (LSTM)        (None, 32)           4352        ['temperature[0][0]']            \n",
      "                                                                                                  \n",
      " day_dense (Dense)              (None, 7)            56          ['day[0][0]']                    \n",
      "                                                                                                  \n",
      " concat (Concatenate)           (None, 71)           0           ['people_lstm[0][0]',            \n",
      "                                                                  'temperature_lstm[0][0]',       \n",
      "                                                                  'day_dense[0][0]']              \n",
      "                                                                                                  \n",
      " output (Dense)                 (None, 1)            72          ['concat[0][0]']                 \n",
      "                                                                                                  \n",
      "==================================================================================================\n",
      "Total params: 8,832\n",
      "Trainable params: 8,832\n",
      "Non-trainable params: 0\n",
      "__________________________________________________________________________________________________\n",
      "None\n"
     ]
    }
   ],
   "source": [
    "print(model.summary())"
   ]
  },
  {
   "cell_type": "code",
   "execution_count": 35,
   "metadata": {},
   "outputs": [
    {
     "name": "stdout",
     "output_type": "stream",
     "text": [
      "(2330, 24, 1)\n"
     ]
    }
   ],
   "source": [
    "print(train_people.shape)"
   ]
  },
  {
   "cell_type": "code",
   "execution_count": 36,
   "metadata": {},
   "outputs": [
    {
     "name": "stdout",
     "output_type": "stream",
     "text": [
      "Epoch 1/200\n",
      "73/73 [==============================] - 2s 10ms/step - loss: 0.8182 - root_mean_squared_error: 0.9046 - mean_absolute_error: 0.7764 - val_loss: 0.2814 - val_root_mean_squared_error: 0.5305 - val_mean_absolute_error: 0.3975\n",
      "Epoch 2/200\n",
      "73/73 [==============================] - 0s 5ms/step - loss: 0.2550 - root_mean_squared_error: 0.5050 - mean_absolute_error: 0.3670 - val_loss: 0.1031 - val_root_mean_squared_error: 0.3210 - val_mean_absolute_error: 0.2422\n",
      "Epoch 3/200\n",
      "73/73 [==============================] - 0s 5ms/step - loss: 0.1467 - root_mean_squared_error: 0.3831 - mean_absolute_error: 0.2803 - val_loss: 0.0893 - val_root_mean_squared_error: 0.2988 - val_mean_absolute_error: 0.2286\n",
      "Epoch 4/200\n",
      "73/73 [==============================] - 0s 5ms/step - loss: 0.1151 - root_mean_squared_error: 0.3393 - mean_absolute_error: 0.2522 - val_loss: 0.0821 - val_root_mean_squared_error: 0.2866 - val_mean_absolute_error: 0.2223\n",
      "Epoch 5/200\n",
      "73/73 [==============================] - 0s 5ms/step - loss: 0.1031 - root_mean_squared_error: 0.3212 - mean_absolute_error: 0.2350 - val_loss: 0.0771 - val_root_mean_squared_error: 0.2777 - val_mean_absolute_error: 0.2156\n",
      "Epoch 6/200\n",
      "73/73 [==============================] - 0s 5ms/step - loss: 0.0978 - root_mean_squared_error: 0.3127 - mean_absolute_error: 0.2259 - val_loss: 0.0730 - val_root_mean_squared_error: 0.2702 - val_mean_absolute_error: 0.2097\n",
      "Epoch 7/200\n",
      "73/73 [==============================] - 0s 5ms/step - loss: 0.0939 - root_mean_squared_error: 0.3064 - mean_absolute_error: 0.2197 - val_loss: 0.0697 - val_root_mean_squared_error: 0.2640 - val_mean_absolute_error: 0.2043\n",
      "Epoch 8/200\n",
      "73/73 [==============================] - 0s 5ms/step - loss: 0.0904 - root_mean_squared_error: 0.3006 - mean_absolute_error: 0.2139 - val_loss: 0.0670 - val_root_mean_squared_error: 0.2587 - val_mean_absolute_error: 0.1997\n",
      "Epoch 9/200\n",
      "73/73 [==============================] - 0s 5ms/step - loss: 0.0873 - root_mean_squared_error: 0.2954 - mean_absolute_error: 0.2086 - val_loss: 0.0648 - val_root_mean_squared_error: 0.2545 - val_mean_absolute_error: 0.1962\n",
      "Epoch 10/200\n",
      "73/73 [==============================] - 0s 5ms/step - loss: 0.0845 - root_mean_squared_error: 0.2907 - mean_absolute_error: 0.2040 - val_loss: 0.0630 - val_root_mean_squared_error: 0.2510 - val_mean_absolute_error: 0.1935\n",
      "Epoch 11/200\n",
      "73/73 [==============================] - 0s 5ms/step - loss: 0.0821 - root_mean_squared_error: 0.2865 - mean_absolute_error: 0.2000 - val_loss: 0.0615 - val_root_mean_squared_error: 0.2480 - val_mean_absolute_error: 0.1915\n",
      "Epoch 12/200\n",
      "73/73 [==============================] - 0s 5ms/step - loss: 0.0800 - root_mean_squared_error: 0.2828 - mean_absolute_error: 0.1965 - val_loss: 0.0601 - val_root_mean_squared_error: 0.2452 - val_mean_absolute_error: 0.1895\n",
      "Epoch 13/200\n",
      "73/73 [==============================] - 0s 5ms/step - loss: 0.0781 - root_mean_squared_error: 0.2794 - mean_absolute_error: 0.1936 - val_loss: 0.0588 - val_root_mean_squared_error: 0.2425 - val_mean_absolute_error: 0.1875\n",
      "Epoch 14/200\n",
      "73/73 [==============================] - 0s 5ms/step - loss: 0.0764 - root_mean_squared_error: 0.2765 - mean_absolute_error: 0.1910 - val_loss: 0.0576 - val_root_mean_squared_error: 0.2400 - val_mean_absolute_error: 0.1855\n",
      "Epoch 15/200\n",
      "73/73 [==============================] - 0s 5ms/step - loss: 0.0750 - root_mean_squared_error: 0.2738 - mean_absolute_error: 0.1888 - val_loss: 0.0564 - val_root_mean_squared_error: 0.2376 - val_mean_absolute_error: 0.1837\n",
      "Epoch 16/200\n",
      "73/73 [==============================] - 0s 5ms/step - loss: 0.0736 - root_mean_squared_error: 0.2714 - mean_absolute_error: 0.1868 - val_loss: 0.0554 - val_root_mean_squared_error: 0.2353 - val_mean_absolute_error: 0.1820\n",
      "Epoch 17/200\n",
      "73/73 [==============================] - 0s 5ms/step - loss: 0.0725 - root_mean_squared_error: 0.2692 - mean_absolute_error: 0.1850 - val_loss: 0.0544 - val_root_mean_squared_error: 0.2332 - val_mean_absolute_error: 0.1804\n",
      "Epoch 18/200\n",
      "73/73 [==============================] - 0s 5ms/step - loss: 0.0714 - root_mean_squared_error: 0.2673 - mean_absolute_error: 0.1833 - val_loss: 0.0535 - val_root_mean_squared_error: 0.2312 - val_mean_absolute_error: 0.1789\n",
      "Epoch 19/200\n",
      "73/73 [==============================] - 0s 5ms/step - loss: 0.0705 - root_mean_squared_error: 0.2655 - mean_absolute_error: 0.1817 - val_loss: 0.0526 - val_root_mean_squared_error: 0.2294 - val_mean_absolute_error: 0.1774\n",
      "Epoch 20/200\n",
      "73/73 [==============================] - 0s 6ms/step - loss: 0.0696 - root_mean_squared_error: 0.2639 - mean_absolute_error: 0.1802 - val_loss: 0.0519 - val_root_mean_squared_error: 0.2277 - val_mean_absolute_error: 0.1760\n",
      "Epoch 21/200\n",
      "73/73 [==============================] - 0s 5ms/step - loss: 0.0689 - root_mean_squared_error: 0.2624 - mean_absolute_error: 0.1788 - val_loss: 0.0512 - val_root_mean_squared_error: 0.2262 - val_mean_absolute_error: 0.1748\n",
      "Epoch 22/200\n",
      "73/73 [==============================] - 0s 5ms/step - loss: 0.0681 - root_mean_squared_error: 0.2610 - mean_absolute_error: 0.1774 - val_loss: 0.0505 - val_root_mean_squared_error: 0.2248 - val_mean_absolute_error: 0.1737\n",
      "Epoch 23/200\n",
      "73/73 [==============================] - 0s 5ms/step - loss: 0.0675 - root_mean_squared_error: 0.2598 - mean_absolute_error: 0.1762 - val_loss: 0.0500 - val_root_mean_squared_error: 0.2235 - val_mean_absolute_error: 0.1727\n",
      "Epoch 24/200\n",
      "73/73 [==============================] - 0s 5ms/step - loss: 0.0669 - root_mean_squared_error: 0.2586 - mean_absolute_error: 0.1751 - val_loss: 0.0495 - val_root_mean_squared_error: 0.2224 - val_mean_absolute_error: 0.1718\n",
      "Epoch 25/200\n",
      "73/73 [==============================] - 0s 5ms/step - loss: 0.0663 - root_mean_squared_error: 0.2575 - mean_absolute_error: 0.1741 - val_loss: 0.0490 - val_root_mean_squared_error: 0.2215 - val_mean_absolute_error: 0.1711\n",
      "Epoch 26/200\n",
      "73/73 [==============================] - 0s 5ms/step - loss: 0.0658 - root_mean_squared_error: 0.2565 - mean_absolute_error: 0.1731 - val_loss: 0.0487 - val_root_mean_squared_error: 0.2206 - val_mean_absolute_error: 0.1703\n",
      "Epoch 27/200\n",
      "73/73 [==============================] - 0s 5ms/step - loss: 0.0653 - root_mean_squared_error: 0.2556 - mean_absolute_error: 0.1722 - val_loss: 0.0484 - val_root_mean_squared_error: 0.2199 - val_mean_absolute_error: 0.1697\n",
      "Epoch 28/200\n",
      "73/73 [==============================] - 0s 5ms/step - loss: 0.0649 - root_mean_squared_error: 0.2547 - mean_absolute_error: 0.1714 - val_loss: 0.0481 - val_root_mean_squared_error: 0.2193 - val_mean_absolute_error: 0.1691\n",
      "Epoch 29/200\n",
      "73/73 [==============================] - 0s 5ms/step - loss: 0.0645 - root_mean_squared_error: 0.2539 - mean_absolute_error: 0.1706 - val_loss: 0.0479 - val_root_mean_squared_error: 0.2188 - val_mean_absolute_error: 0.1686\n",
      "Epoch 30/200\n",
      "73/73 [==============================] - 0s 5ms/step - loss: 0.0641 - root_mean_squared_error: 0.2531 - mean_absolute_error: 0.1699 - val_loss: 0.0477 - val_root_mean_squared_error: 0.2185 - val_mean_absolute_error: 0.1681\n",
      "Epoch 31/200\n",
      "73/73 [==============================] - 0s 5ms/step - loss: 0.0637 - root_mean_squared_error: 0.2524 - mean_absolute_error: 0.1693 - val_loss: 0.0476 - val_root_mean_squared_error: 0.2182 - val_mean_absolute_error: 0.1678\n",
      "Epoch 32/200\n",
      "73/73 [==============================] - 0s 5ms/step - loss: 0.0633 - root_mean_squared_error: 0.2517 - mean_absolute_error: 0.1687 - val_loss: 0.0475 - val_root_mean_squared_error: 0.2179 - val_mean_absolute_error: 0.1675\n",
      "Epoch 33/200\n",
      "73/73 [==============================] - 0s 5ms/step - loss: 0.0630 - root_mean_squared_error: 0.2510 - mean_absolute_error: 0.1682 - val_loss: 0.0474 - val_root_mean_squared_error: 0.2177 - val_mean_absolute_error: 0.1673\n",
      "Epoch 34/200\n",
      "73/73 [==============================] - 0s 5ms/step - loss: 0.0627 - root_mean_squared_error: 0.2504 - mean_absolute_error: 0.1677 - val_loss: 0.0474 - val_root_mean_squared_error: 0.2176 - val_mean_absolute_error: 0.1672\n",
      "Epoch 35/200\n",
      "73/73 [==============================] - 0s 5ms/step - loss: 0.0624 - root_mean_squared_error: 0.2498 - mean_absolute_error: 0.1672 - val_loss: 0.0473 - val_root_mean_squared_error: 0.2176 - val_mean_absolute_error: 0.1671\n",
      "Epoch 36/200\n",
      "73/73 [==============================] - 0s 5ms/step - loss: 0.0621 - root_mean_squared_error: 0.2493 - mean_absolute_error: 0.1668 - val_loss: 0.0473 - val_root_mean_squared_error: 0.2175 - val_mean_absolute_error: 0.1671\n",
      "Epoch 37/200\n",
      "73/73 [==============================] - 0s 5ms/step - loss: 0.0619 - root_mean_squared_error: 0.2488 - mean_absolute_error: 0.1665 - val_loss: 0.0473 - val_root_mean_squared_error: 0.2175 - val_mean_absolute_error: 0.1672\n",
      "Epoch 38/200\n",
      "73/73 [==============================] - 0s 5ms/step - loss: 0.0616 - root_mean_squared_error: 0.2483 - mean_absolute_error: 0.1662 - val_loss: 0.0473 - val_root_mean_squared_error: 0.2176 - val_mean_absolute_error: 0.1672\n",
      "Epoch 39/200\n",
      "73/73 [==============================] - 0s 5ms/step - loss: 0.0614 - root_mean_squared_error: 0.2478 - mean_absolute_error: 0.1658 - val_loss: 0.0474 - val_root_mean_squared_error: 0.2176 - val_mean_absolute_error: 0.1673\n",
      "Epoch 40/200\n",
      "73/73 [==============================] - 0s 5ms/step - loss: 0.0612 - root_mean_squared_error: 0.2473 - mean_absolute_error: 0.1656 - val_loss: 0.0474 - val_root_mean_squared_error: 0.2177 - val_mean_absolute_error: 0.1674\n",
      "Epoch 41/200\n",
      "73/73 [==============================] - 0s 5ms/step - loss: 0.0610 - root_mean_squared_error: 0.2469 - mean_absolute_error: 0.1653 - val_loss: 0.0474 - val_root_mean_squared_error: 0.2178 - val_mean_absolute_error: 0.1675\n",
      "Epoch 42/200\n",
      "73/73 [==============================] - 0s 5ms/step - loss: 0.0608 - root_mean_squared_error: 0.2465 - mean_absolute_error: 0.1651 - val_loss: 0.0475 - val_root_mean_squared_error: 0.2179 - val_mean_absolute_error: 0.1676\n",
      "Epoch 43/200\n",
      "73/73 [==============================] - 0s 5ms/step - loss: 0.0606 - root_mean_squared_error: 0.2461 - mean_absolute_error: 0.1649 - val_loss: 0.0475 - val_root_mean_squared_error: 0.2180 - val_mean_absolute_error: 0.1678\n",
      "Epoch 44/200\n",
      "73/73 [==============================] - 0s 5ms/step - loss: 0.0604 - root_mean_squared_error: 0.2457 - mean_absolute_error: 0.1647 - val_loss: 0.0476 - val_root_mean_squared_error: 0.2181 - val_mean_absolute_error: 0.1679\n",
      "Epoch 45/200\n",
      "73/73 [==============================] - 0s 5ms/step - loss: 0.0602 - root_mean_squared_error: 0.2453 - mean_absolute_error: 0.1645 - val_loss: 0.0476 - val_root_mean_squared_error: 0.2181 - val_mean_absolute_error: 0.1680\n",
      "Epoch 46/200\n",
      "73/73 [==============================] - 0s 5ms/step - loss: 0.0600 - root_mean_squared_error: 0.2450 - mean_absolute_error: 0.1644 - val_loss: 0.0476 - val_root_mean_squared_error: 0.2182 - val_mean_absolute_error: 0.1681\n"
     ]
    }
   ],
   "source": [
    "model.compile(optimizer='adam', loss='mean_squared_error', metrics=[RMSE(), MAE()])\n",
    "es = callbacks.EarlyStopping(monitor='val_loss', patience=10, restore_best_weights=True)\n",
    "history = model.fit([train_people, train_temperature, one_hot[:len(train_people)]], y_train, epochs=200, batch_size=32, shuffle=False, validation_data=([val_people, val_temperature, one_hot[len(train_people):len(train_people)+len(val_people)]], y_val), callbacks=[es])"
   ]
  },
  {
   "cell_type": "code",
   "execution_count": 37,
   "metadata": {},
   "outputs": [
    {
     "name": "stdout",
     "output_type": "stream",
     "text": [
      "16/16 [==============================] - 0s 3ms/step - loss: 0.0723 - root_mean_squared_error: 0.2688 - mean_absolute_error: 0.1929\n",
      "[0.07225672155618668, 0.2688060998916626, 0.1929333209991455]\n"
     ]
    }
   ],
   "source": [
    "eval_result = model.evaluate([test_people, test_temperature, one_hot[-len(test_people):]], y_test)\n",
    "print(eval_result)"
   ]
  },
  {
   "cell_type": "code",
   "execution_count": 38,
   "metadata": {},
   "outputs": [
    {
     "ename": "OSError",
     "evalue": "Unable to synchronously create file (file signature not found)",
     "output_type": "error",
     "traceback": [
      "\u001b[1;31m---------------------------------------------------------------------------\u001b[0m",
      "\u001b[1;31mOSError\u001b[0m                                   Traceback (most recent call last)",
      "Cell \u001b[1;32mIn[38], line 1\u001b[0m\n\u001b[1;32m----> 1\u001b[0m \u001b[43mmodel\u001b[49m\u001b[38;5;241;43m.\u001b[39;49m\u001b[43msave\u001b[49m\u001b[43m(\u001b[49m\u001b[38;5;124;43mf\u001b[39;49m\u001b[38;5;124;43m'\u001b[39;49m\u001b[38;5;124;43mmodel_\u001b[39;49m\u001b[38;5;132;43;01m{\u001b[39;49;00m\u001b[43mwindow_size\u001b[49m\u001b[38;5;132;43;01m}\u001b[39;49;00m\u001b[38;5;124;43m.keras\u001b[39;49m\u001b[38;5;124;43m'\u001b[39;49m\u001b[43m)\u001b[49m\n",
      "File \u001b[1;32mc:\\Users\\pongs\\anaconda3\\envs\\tensorflow\\lib\\site-packages\\keras\\utils\\traceback_utils.py:70\u001b[0m, in \u001b[0;36mfilter_traceback.<locals>.error_handler\u001b[1;34m(*args, **kwargs)\u001b[0m\n\u001b[0;32m     67\u001b[0m     filtered_tb \u001b[38;5;241m=\u001b[39m _process_traceback_frames(e\u001b[38;5;241m.\u001b[39m__traceback__)\n\u001b[0;32m     68\u001b[0m     \u001b[38;5;66;03m# To get the full stack trace, call:\u001b[39;00m\n\u001b[0;32m     69\u001b[0m     \u001b[38;5;66;03m# `tf.debugging.disable_traceback_filtering()`\u001b[39;00m\n\u001b[1;32m---> 70\u001b[0m     \u001b[38;5;28;01mraise\u001b[39;00m e\u001b[38;5;241m.\u001b[39mwith_traceback(filtered_tb) \u001b[38;5;28;01mfrom\u001b[39;00m \u001b[38;5;28;01mNone\u001b[39;00m\n\u001b[0;32m     71\u001b[0m \u001b[38;5;28;01mfinally\u001b[39;00m:\n\u001b[0;32m     72\u001b[0m     \u001b[38;5;28;01mdel\u001b[39;00m filtered_tb\n",
      "File \u001b[1;32mc:\\Users\\pongs\\anaconda3\\envs\\tensorflow\\lib\\site-packages\\h5py\\_hl\\files.py:562\u001b[0m, in \u001b[0;36mFile.__init__\u001b[1;34m(self, name, mode, driver, libver, userblock_size, swmr, rdcc_nslots, rdcc_nbytes, rdcc_w0, track_order, fs_strategy, fs_persist, fs_threshold, fs_page_size, page_buf_size, min_meta_keep, min_raw_keep, locking, alignment_threshold, alignment_interval, meta_block_size, **kwds)\u001b[0m\n\u001b[0;32m    553\u001b[0m     fapl \u001b[38;5;241m=\u001b[39m make_fapl(driver, libver, rdcc_nslots, rdcc_nbytes, rdcc_w0,\n\u001b[0;32m    554\u001b[0m                      locking, page_buf_size, min_meta_keep, min_raw_keep,\n\u001b[0;32m    555\u001b[0m                      alignment_threshold\u001b[38;5;241m=\u001b[39malignment_threshold,\n\u001b[0;32m    556\u001b[0m                      alignment_interval\u001b[38;5;241m=\u001b[39malignment_interval,\n\u001b[0;32m    557\u001b[0m                      meta_block_size\u001b[38;5;241m=\u001b[39mmeta_block_size,\n\u001b[0;32m    558\u001b[0m                      \u001b[38;5;241m*\u001b[39m\u001b[38;5;241m*\u001b[39mkwds)\n\u001b[0;32m    559\u001b[0m     fcpl \u001b[38;5;241m=\u001b[39m make_fcpl(track_order\u001b[38;5;241m=\u001b[39mtrack_order, fs_strategy\u001b[38;5;241m=\u001b[39mfs_strategy,\n\u001b[0;32m    560\u001b[0m                      fs_persist\u001b[38;5;241m=\u001b[39mfs_persist, fs_threshold\u001b[38;5;241m=\u001b[39mfs_threshold,\n\u001b[0;32m    561\u001b[0m                      fs_page_size\u001b[38;5;241m=\u001b[39mfs_page_size)\n\u001b[1;32m--> 562\u001b[0m     fid \u001b[38;5;241m=\u001b[39m \u001b[43mmake_fid\u001b[49m\u001b[43m(\u001b[49m\u001b[43mname\u001b[49m\u001b[43m,\u001b[49m\u001b[43m \u001b[49m\u001b[43mmode\u001b[49m\u001b[43m,\u001b[49m\u001b[43m \u001b[49m\u001b[43muserblock_size\u001b[49m\u001b[43m,\u001b[49m\u001b[43m \u001b[49m\u001b[43mfapl\u001b[49m\u001b[43m,\u001b[49m\u001b[43m \u001b[49m\u001b[43mfcpl\u001b[49m\u001b[43m,\u001b[49m\u001b[43m \u001b[49m\u001b[43mswmr\u001b[49m\u001b[38;5;241;43m=\u001b[39;49m\u001b[43mswmr\u001b[49m\u001b[43m)\u001b[49m\n\u001b[0;32m    564\u001b[0m \u001b[38;5;28;01mif\u001b[39;00m \u001b[38;5;28misinstance\u001b[39m(libver, \u001b[38;5;28mtuple\u001b[39m):\n\u001b[0;32m    565\u001b[0m     \u001b[38;5;28mself\u001b[39m\u001b[38;5;241m.\u001b[39m_libver \u001b[38;5;241m=\u001b[39m libver\n",
      "File \u001b[1;32mc:\\Users\\pongs\\anaconda3\\envs\\tensorflow\\lib\\site-packages\\h5py\\_hl\\files.py:241\u001b[0m, in \u001b[0;36mmake_fid\u001b[1;34m(name, mode, userblock_size, fapl, fcpl, swmr)\u001b[0m\n\u001b[0;32m    239\u001b[0m     fid \u001b[38;5;241m=\u001b[39m h5f\u001b[38;5;241m.\u001b[39mcreate(name, h5f\u001b[38;5;241m.\u001b[39mACC_EXCL, fapl\u001b[38;5;241m=\u001b[39mfapl, fcpl\u001b[38;5;241m=\u001b[39mfcpl)\n\u001b[0;32m    240\u001b[0m \u001b[38;5;28;01melif\u001b[39;00m mode \u001b[38;5;241m==\u001b[39m \u001b[38;5;124m'\u001b[39m\u001b[38;5;124mw\u001b[39m\u001b[38;5;124m'\u001b[39m:\n\u001b[1;32m--> 241\u001b[0m     fid \u001b[38;5;241m=\u001b[39m \u001b[43mh5f\u001b[49m\u001b[38;5;241;43m.\u001b[39;49m\u001b[43mcreate\u001b[49m\u001b[43m(\u001b[49m\u001b[43mname\u001b[49m\u001b[43m,\u001b[49m\u001b[43m \u001b[49m\u001b[43mh5f\u001b[49m\u001b[38;5;241;43m.\u001b[39;49m\u001b[43mACC_TRUNC\u001b[49m\u001b[43m,\u001b[49m\u001b[43m \u001b[49m\u001b[43mfapl\u001b[49m\u001b[38;5;241;43m=\u001b[39;49m\u001b[43mfapl\u001b[49m\u001b[43m,\u001b[49m\u001b[43m \u001b[49m\u001b[43mfcpl\u001b[49m\u001b[38;5;241;43m=\u001b[39;49m\u001b[43mfcpl\u001b[49m\u001b[43m)\u001b[49m\n\u001b[0;32m    242\u001b[0m \u001b[38;5;28;01melif\u001b[39;00m mode \u001b[38;5;241m==\u001b[39m \u001b[38;5;124m'\u001b[39m\u001b[38;5;124ma\u001b[39m\u001b[38;5;124m'\u001b[39m:\n\u001b[0;32m    243\u001b[0m     \u001b[38;5;66;03m# Open in append mode (read/write).\u001b[39;00m\n\u001b[0;32m    244\u001b[0m     \u001b[38;5;66;03m# If that fails, create a new file only if it won't clobber an\u001b[39;00m\n\u001b[0;32m    245\u001b[0m     \u001b[38;5;66;03m# existing one (ACC_EXCL)\u001b[39;00m\n\u001b[0;32m    246\u001b[0m     \u001b[38;5;28;01mtry\u001b[39;00m:\n",
      "File \u001b[1;32mh5py\\_objects.pyx:54\u001b[0m, in \u001b[0;36mh5py._objects.with_phil.wrapper\u001b[1;34m()\u001b[0m\n",
      "File \u001b[1;32mh5py\\_objects.pyx:55\u001b[0m, in \u001b[0;36mh5py._objects.with_phil.wrapper\u001b[1;34m()\u001b[0m\n",
      "File \u001b[1;32mh5py\\h5f.pyx:122\u001b[0m, in \u001b[0;36mh5py.h5f.create\u001b[1;34m()\u001b[0m\n",
      "\u001b[1;31mOSError\u001b[0m: Unable to synchronously create file (file signature not found)"
     ]
    }
   ],
   "source": [
    "model.save(f'model_{window_size}.keras')"
   ]
  },
  {
   "cell_type": "code",
   "execution_count": 39,
   "metadata": {},
   "outputs": [
    {
     "data": {
      "text/plain": [
       "<matplotlib.legend.Legend at 0x20572ed2590>"
      ]
     },
     "execution_count": 39,
     "metadata": {},
     "output_type": "execute_result"
    },
    {
     "data": {
      "image/png": "[encoded data removed]",
      "text/plain": [
       "<Figure size 640x480 with 1 Axes>"
      ]
     },
     "metadata": {},
     "output_type": "display_data"
    }
   ],
   "source": [
    "pd.Series(history.history['loss']).plot(style='k')\n",
    "pd.Series(history.history['val_loss']).plot(style='r')\n",
    "plt.legend(['Train', 'Validation'])"
   ]
  },
  {
   "cell_type": "code",
   "execution_count": 40,
   "metadata": {},
   "outputs": [
    {
     "name": "stdout",
     "output_type": "stream",
     "text": [
      "16/16 [==============================] - 0s 3ms/step\n"
     ]
    }
   ],
   "source": [
    "result = model.predict([test_people, test_temperature, one_hot[-len(test_people):]])[-1]"
   ]
  },
  {
   "cell_type": "code",
   "execution_count": 41,
   "metadata": {},
   "outputs": [
    {
     "name": "stdout",
     "output_type": "stream",
     "text": [
      "[0.83623725]\n"
     ]
    }
   ],
   "source": [
    "print(result)"
   ]
  },
  {
   "cell_type": "code",
   "execution_count": 42,
   "metadata": {},
   "outputs": [],
   "source": [
    "result = [result[-1], result[-1]]"
   ]
  },
  {
   "cell_type": "code",
   "execution_count": 43,
   "metadata": {},
   "outputs": [],
   "source": [
    "result = np.array(result)"
   ]
  },
  {
   "cell_type": "code",
   "execution_count": 44,
   "metadata": {},
   "outputs": [],
   "source": [
    "result = scaler.inverse_transform(result.reshape(1, -1))"
   ]
  },
  {
   "cell_type": "code",
   "execution_count": 45,
   "metadata": {},
   "outputs": [
    {
     "name": "stdout",
     "output_type": "stream",
     "text": [
      "17458.697\n"
     ]
    }
   ],
   "source": [
    "print(result[0][0])"
   ]
  },
  {
   "cell_type": "code",
   "execution_count": 46,
   "metadata": {},
   "outputs": [
    {
     "name": "stdout",
     "output_type": "stream",
     "text": [
      "12751.0\n"
     ]
    }
   ],
   "source": [
    "res = np.array([test_y.iloc[-1], test_y.iloc[-1]])\n",
    "res = scaler.inverse_transform(res.reshape(1, -1))\n",
    "print(res[0][0])"
   ]
  },
  {
   "cell_type": "code",
   "execution_count": 47,
   "metadata": {},
   "outputs": [
    {
     "name": "stdout",
     "output_type": "stream",
     "text": [
      " 1/16 [>.............................] - ETA: 0s"
     ]
    },
    {
     "name": "stdout",
     "output_type": "stream",
     "text": [
      "16/16 [==============================] - 0s 3ms/step\n"
     ]
    }
   ],
   "source": [
    "result = model.predict([test_people, test_temperature, one_hot[-len(test_people):]])"
   ]
  },
  {
   "cell_type": "code",
   "execution_count": 48,
   "metadata": {},
   "outputs": [],
   "source": [
    "def plot_forecast(test_y, result, index=index):\n",
    "    plt.plot(index, test_y, label='actual')\n",
    "    plt.plot(index, result, label='forecast')\n",
    "    plt.legend()\n",
    "    plt.show()"
   ]
  },
  {
   "cell_type": "code",
   "execution_count": 49,
   "metadata": {},
   "outputs": [],
   "source": [
    "test_y_ex = np.array([test_y, test_y])"
   ]
  },
  {
   "cell_type": "code",
   "execution_count": 50,
   "metadata": {},
   "outputs": [],
   "source": [
    "test_y_ex = np.array(test_y_ex.T)"
   ]
  },
  {
   "cell_type": "code",
   "execution_count": 51,
   "metadata": {},
   "outputs": [
    {
     "name": "stdout",
     "output_type": "stream",
     "text": [
      "(485, 2)\n"
     ]
    }
   ],
   "source": [
    "print(test_y_ex.shape)"
   ]
  },
  {
   "cell_type": "code",
   "execution_count": 52,
   "metadata": {},
   "outputs": [],
   "source": [
    "test_y = scaler.inverse_transform(test_y_ex)"
   ]
  },
  {
   "cell_type": "code",
   "execution_count": 53,
   "metadata": {},
   "outputs": [
    {
     "name": "stdout",
     "output_type": "stream",
     "text": [
      "[ 3910.  4031.  5807.  7202.  9444. 12798. 13134. 14116. 12800. 11388.\n",
      " 12411. 12229.  7530.  5348.  6680.  6431.  4717.  4047.  4305.  3997.\n",
      "  3988.  2295.  2416.  3753.  4170.  5492.  6024.  9016. 11629. 14193.\n",
      " 10913.  8191.  8577.  8610. 10059.  8373.  7772.  6518.  5768.  4958.\n",
      "  4763.  4491.  4530.  4496.  4118.  2921.  3301.  3335.  4942.  9130.\n",
      " 10375. 11173. 14430. 16136. 16037. 17111. 16096. 14379. 14793. 14239.\n",
      " 11939.  9600.  7850.  6463.  5443.  5165.  4924.  4764.  4872.  3292.\n",
      "  3673.  3958.  5875.  9780. 11876. 12144. 13215. 14322. 18572. 19070.\n",
      " 18182. 17352. 17554. 16795. 13224. 10401.  7993.  6648.  5902.  5706.\n",
      "  5297.  5378.  5059.  4250.  4915.  5103.  6708. 12076. 15013. 15057.\n",
      " 17617. 20683. 23015. 22104. 23203. 23976. 24702. 21751. 22529. 15821.\n",
      "  9768.  7091.  6484.  7109.  7739.  7487.  7342.  6571.  7518.  7702.\n",
      "  9944. 13593. 16188. 20538. 22418. 26811. 27704. 23078. 22956. 23848.\n",
      " 21624. 18722. 16849. 14199. 10909.  8326.  7096.  6627.  6548.  6438.\n",
      "  6044.  4296.  4638.  4560.  5864.  6886. 10323. 12462. 16076. 18854.\n",
      " 17311. 16196. 16296. 16597. 18142. 17766. 15676. 11665.  8493.  7984.\n",
      "  7304.  6701.  6745.  6238.  5963.  4212.  4550.  4661.  4601.  6206.\n",
      "  9410. 13112. 17699. 17743. 17885. 17470. 18756. 16321. 15497. 13803.\n",
      " 11247.  9662.  8552.  8119.  8218.  6014.  6277.  5966.  5693.  5242.\n",
      "  5884.  5787.  8020. 14081. 14385. 18816. 18268. 22090. 20378. 18784.\n",
      " 18925. 18699. 19742. 13343. 11110.  9264.  9308.  8310.  7563.  5927.\n",
      "  5913.  6004.  5835.  3809.  4348.  4633.  6328. 10521. 12988. 12500.\n",
      " 14802. 20724. 21150. 18956. 19092. 18137. 15995. 16019. 15144. 14201.\n",
      " 10086.  8337.  7083.  6576.  6290.  5938.  5927.  4151.  4128.  4999.\n",
      " 10088. 15109. 15702. 16437. 21238. 25683. 24193. 24863. 25169. 26106.\n",
      " 25228. 19654. 17478. 14321. 11902.  8033.  7674.  6183.  6141.  5558.\n",
      "  5643.  3973.  3828.  3928.  6036. 10219. 16490. 17605. 20794. 24753.\n",
      " 24848. 25494. 27685. 24845. 23325. 21925. 20176. 15854.  9545.  8559.\n",
      "  8110.  7344.  7504.  7072.  6278.  4873.  5017.  4833.  6180. 10114.\n",
      " 12119. 14402. 18213. 20104. 18135. 15882. 18438. 19679. 20172. 16909.\n",
      " 13194.  9948.  8804.  7229.  6318.  5812.  5635.  5625.  5549.  4701.\n",
      "  5404.  5353.  5936.  6923.  9640. 14970. 21094. 23720. 25079. 22345.\n",
      " 20943. 21818. 19617. 18893. 15225. 13474. 10125.  9095.  9614.  8365.\n",
      "  7852.  7742.  7705.  6379.  7510.  7578.  7266.  9024. 12165. 15993.\n",
      " 18481. 19469. 20973. 20665. 18924. 20773. 20686. 19284. 14433. 10957.\n",
      " 10142.  9724.  8092.  7797.  7675.  7411.  7024.  4624.  5234.  5208.\n",
      "  7218. 13893. 15768. 20065. 19345. 22742. 20035. 17836. 18020. 20494.\n",
      " 18615. 17256. 14244. 10929.  8903.  8760.  7919.  8046.  7756.  7438.\n",
      "  7279.  6393.  7514.  7600.  9498. 15210. 17035. 17313. 19108. 22815.\n",
      " 22401. 23029. 22558. 23153. 22104. 17432. 15434. 11121.  9918. 10501.\n",
      " 10112.  8291.  7557.  7563.  7493.  6627.  7788.  8094.  9756. 14581.\n",
      " 15009. 16406. 17258. 27038. 25612. 25178. 24940. 24741. 21595. 18327.\n",
      " 13765. 13629.  9625.  7965.  6356.  5355.  6382.  4054.  4489.  4995.\n",
      "  3464.  5461. 10989. 10481. 15237. 16723. 18902. 15577. 23534. 21646.\n",
      " 15897. 20677. 23465. 13014. 14639. 10698.  5309.  7881.  8301.  4908.\n",
      "  6767.  6974.  3977.  6769.  7669.  5718. 13761. 18947. 14088. 22470.\n",
      " 25956. 17133. 23430. 21378. 16173. 21175. 19527. 11431. 10863.  8257.\n",
      "  7177.  6254.  7442.  5548.  4811.  6270.  6512.  4442.  6819.  9020.\n",
      "  9741. 19613. 22055. 14644. 12751.]\n"
     ]
    }
   ],
   "source": [
    "print(test_y[:, 0])"
   ]
  },
  {
   "cell_type": "code",
   "execution_count": 54,
   "metadata": {},
   "outputs": [],
   "source": [
    "result = np.array([result[:, 0], result[:, 0]])"
   ]
  },
  {
   "cell_type": "code",
   "execution_count": 55,
   "metadata": {},
   "outputs": [
    {
     "name": "stdout",
     "output_type": "stream",
     "text": [
      "(485, 2)\n"
     ]
    }
   ],
   "source": [
    "result = result.T\n",
    "print(result.shape)"
   ]
  },
  {
   "cell_type": "code",
   "execution_count": 56,
   "metadata": {},
   "outputs": [],
   "source": [
    "result = scaler.inverse_transform(result)"
   ]
  },
  {
   "cell_type": "code",
   "execution_count": 57,
   "metadata": {},
   "outputs": [
    {
     "data": {
      "image/png": "[encoded data removed]",
      "text/plain": [
       "<Figure size 640x480 with 1 Axes>"
      ]
     },
     "metadata": {},
     "output_type": "display_data"
    }
   ],
   "source": [
    "plot_forecast(test_y[:, 0], result[:, 0])"
   ]
  },
  {
   "cell_type": "code",
   "execution_count": 58,
   "metadata": {},
   "outputs": [],
   "source": [
    "def plot_error(test_y, result):\n",
    "    error = test_y - result\n",
    "    plt.plot(index, error, label='error')\n",
    "    plt.title(f'Error MAE: {np.mean(np.abs(error)):.2f} RMSE: {np.sqrt(np.mean(error**2)):.2f}')\n",
    "    plt.legend()\n",
    "    plt.show()"
   ]
  },
  {
   "cell_type": "code",
   "execution_count": 59,
   "metadata": {},
   "outputs": [
    {
     "data": {
      "image/png": "[encoded data removed]",
      "text/plain": [
       "<Figure size 640x480 with 1 Axes>"
      ]
     },
     "metadata": {},
     "output_type": "display_data"
    }
   ],
   "source": [
    "plot_error(test_y[:, 0], result[:, 0])"
   ]
  },
  {
   "cell_type": "code",
   "execution_count": null,
   "metadata": {},
   "outputs": [],
   "source": []
  }
 ],
 "metadata": {
  "kernelspec": {
   "display_name": "tensorflow",
   "language": "python",
   "name": "python3"
  },
  "language_info": {
   "codemirror_mode": {
    "name": "ipython",
    "version": 3
   },
   "file_extension": ".py",
   "mimetype": "text/x-python",
   "name": "python",
   "nbconvert_exporter": "python",
   "pygments_lexer": "ipython3",
   "version": "3.10.13"
  }
 },
 "nbformat": 4,
 "nbformat_minor": 2
}
