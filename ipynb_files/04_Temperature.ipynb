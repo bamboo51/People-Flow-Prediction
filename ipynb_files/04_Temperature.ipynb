{
 "cells": [
  {
   "cell_type": "markdown",
   "metadata": {},
   "source": [
    "# Predict People with multivariances"
   ]
  },
  {
   "cell_type": "code",
   "execution_count": 123,
   "metadata": {},
   "outputs": [],
   "source": [
    "import numpy as np\n",
    "import matplotlib.pyplot as plt"
   ]
  },
  {
   "cell_type": "code",
   "execution_count": 124,
   "metadata": {},
   "outputs": [],
   "source": [
    "import pandas as pd\n",
    "\n",
    "path = '../data/num_file/hrs_1/p040.csv'\n",
    "people = pd.read_csv(path, encoding='utf-8')"
   ]
  },
  {
   "cell_type": "markdown",
   "metadata": {},
   "source": [
    "Merge \"date\" and \"hour\" columns to be datetime"
   ]
  },
  {
   "cell_type": "code",
   "execution_count": 125,
   "metadata": {},
   "outputs": [
    {
     "name": "stdout",
     "output_type": "stream",
     "text": [
      "                      amount\n",
      "datetime                    \n",
      "2022-04-21 01:00:00   1033.0\n",
      "2022-04-21 02:00:00     65.0\n",
      "2022-04-21 12:00:00   1604.0\n",
      "2022-04-25 15:00:00   4458.0\n",
      "2022-04-25 16:00:00  18501.0\n",
      "...                      ...\n",
      "2022-09-03 07:00:00   9741.0\n",
      "2022-09-03 08:00:00  19613.0\n",
      "2022-09-03 09:00:00  22055.0\n",
      "2022-09-03 10:00:00  14644.0\n",
      "2022-09-03 11:00:00  12751.0\n",
      "\n",
      "[3144 rows x 1 columns]\n"
     ]
    }
   ],
   "source": [
    "people['datetime'] = pd.to_datetime(people['date'])+pd.to_timedelta(people['hour'], unit='h')\n",
    "people = people.drop(['date', 'hour'], axis=1)\n",
    "people.set_index('datetime', inplace=True)\n",
    "people.columns = ['amount']\n",
    "people['amount'] = people['amount'].astype(float)\n",
    "print(people)"
   ]
  },
  {
   "cell_type": "markdown",
   "metadata": {},
   "source": [
    "Resample the data that are not existed"
   ]
  },
  {
   "cell_type": "code",
   "execution_count": 127,
   "metadata": {},
   "outputs": [
    {
     "name": "stdout",
     "output_type": "stream",
     "text": [
      "                      amount\n",
      "2022-04-21 01:00:00   1033.0\n",
      "2022-04-21 02:00:00     65.0\n",
      "2022-04-21 03:00:00   1604.0\n",
      "2022-04-21 04:00:00   1604.0\n",
      "2022-04-21 05:00:00   1604.0\n",
      "...                      ...\n",
      "2022-09-03 07:00:00   9741.0\n",
      "2022-09-03 08:00:00  19613.0\n",
      "2022-09-03 09:00:00  22055.0\n",
      "2022-09-03 10:00:00  14644.0\n",
      "2022-09-03 11:00:00  12751.0\n",
      "\n",
      "[3251 rows x 1 columns]\n"
     ]
    }
   ],
   "source": [
    "full_index = pd.date_range(start=people.index.min(), end=people.index.max(), freq='h')\n",
    "people = people.reindex(full_index)\n",
    "people['amount'] = people['amount'].bfill()\n",
    "print(people)"
   ]
  },
  {
   "cell_type": "code",
   "execution_count": null,
   "metadata": {},
   "outputs": [],
   "source": [
    "temperature = pd.read_csv('../data/temperature_file/2022-04.csv')"
   ]
  },
  {
   "cell_type": "code",
   "execution_count": null,
   "metadata": {},
   "outputs": [
    {
     "name": "stdout",
     "output_type": "stream",
     "text": [
      "               datetime  temperature  precipitation  weather\n",
      "0      2022/4/1 1:00:00          6.0            0.0      NaN\n",
      "1      2022/4/1 2:00:00          5.7            0.0      NaN\n",
      "2      2022/4/1 3:00:00          5.0            0.0      4.0\n",
      "3      2022/4/1 4:00:00          4.8            0.0      NaN\n",
      "4      2022/4/1 5:00:00          4.4            0.0      NaN\n",
      "..                  ...          ...            ...      ...\n",
      "715  2022/4/30 20:00:00         10.5            0.0      NaN\n",
      "716  2022/4/30 21:00:00         10.3            0.0      3.0\n",
      "717  2022/4/30 22:00:00         10.2            0.0      NaN\n",
      "718  2022/4/30 23:00:00          9.7            0.0      NaN\n",
      "719   2022/5/1 00:00:00          8.7            0.0      NaN\n",
      "\n",
      "[720 rows x 4 columns]\n"
     ]
    }
   ],
   "source": [
    "print(temperature)"
   ]
  },
  {
   "cell_type": "code",
   "execution_count": null,
   "metadata": {},
   "outputs": [],
   "source": [
    "may = pd.read_csv('../data/temperature_file/2022-05.csv')"
   ]
  },
  {
   "cell_type": "code",
   "execution_count": null,
   "metadata": {},
   "outputs": [
    {
     "name": "stdout",
     "output_type": "stream",
     "text": [
      "                datetime  temperature  precipitation  weather\n",
      "0       2022/5/1 1:00:00          8.3            0.0      NaN\n",
      "1       2022/5/1 2:00:00          8.7            0.0      NaN\n",
      "2       2022/5/1 3:00:00          8.7            0.0      4.0\n",
      "3       2022/5/1 4:00:00          8.6            0.0      NaN\n",
      "4       2022/5/1 5:00:00          8.7            0.0      NaN\n",
      "...                  ...          ...            ...      ...\n",
      "3667  2022/9/30 20:00:00         20.2            0.0      NaN\n",
      "3668  2022/9/30 21:00:00         20.3            0.0      1.0\n",
      "3669  2022/9/30 22:00:00         19.6            0.0      NaN\n",
      "3670  2022/9/30 23:00:00         18.8            0.0      NaN\n",
      "3671  2022/10/1 00:00:00         18.8            0.0      NaN\n",
      "\n",
      "[3672 rows x 4 columns]\n"
     ]
    }
   ],
   "source": [
    "print(may)"
   ]
  },
  {
   "cell_type": "code",
   "execution_count": null,
   "metadata": {},
   "outputs": [],
   "source": [
    "temperature = pd.concat([temperature, may])"
   ]
  },
  {
   "cell_type": "code",
   "execution_count": null,
   "metadata": {},
   "outputs": [],
   "source": [
    "temperature['datetime'] = pd.to_datetime(temperature['datetime'])"
   ]
  },
  {
   "cell_type": "code",
   "execution_count": 128,
   "metadata": {},
   "outputs": [
    {
     "name": "stdout",
     "output_type": "stream",
     "text": [
      "                     temperature  precipitation  weather\n",
      "datetime                                                \n",
      "2022-04-01 01:00:00          6.0            0.0      NaN\n",
      "2022-04-01 02:00:00          5.7            0.0      NaN\n",
      "2022-04-01 03:00:00          5.0            0.0      4.0\n",
      "2022-04-01 04:00:00          4.8            0.0      NaN\n",
      "2022-04-01 05:00:00          4.4            0.0      NaN\n",
      "...                          ...            ...      ...\n",
      "2022-09-30 20:00:00         20.2            0.0      NaN\n",
      "2022-09-30 21:00:00         20.3            0.0      1.0\n",
      "2022-09-30 22:00:00         19.6            0.0      NaN\n",
      "2022-09-30 23:00:00         18.8            0.0      NaN\n",
      "2022-10-01 00:00:00         18.8            0.0      NaN\n",
      "\n",
      "[4392 rows x 3 columns]\n"
     ]
    }
   ],
   "source": [
    "temperature.set_index('datetime', inplace=True)\n",
    "print(temperature)"
   ]
  },
  {
   "cell_type": "code",
   "execution_count": 130,
   "metadata": {},
   "outputs": [
    {
     "name": "stdout",
     "output_type": "stream",
     "text": [
      "                      amount  temperature  precipitation  weather\n",
      "2022-04-21 01:00:00   1033.0          9.2            0.0      NaN\n",
      "2022-04-21 02:00:00     65.0          9.1            0.0      NaN\n",
      "2022-04-21 03:00:00   1604.0          9.1            0.0      1.0\n",
      "2022-04-21 04:00:00   1604.0          7.9            0.0      NaN\n",
      "2022-04-21 05:00:00   1604.0          7.4            0.0      NaN\n",
      "...                      ...          ...            ...      ...\n",
      "2022-09-03 07:00:00   9741.0         22.4            0.0      NaN\n",
      "2022-09-03 08:00:00  19613.0         22.8            0.0      NaN\n",
      "2022-09-03 09:00:00  22055.0         23.2            0.0      4.0\n",
      "2022-09-03 10:00:00  14644.0         23.4            0.0      NaN\n",
      "2022-09-03 11:00:00  12751.0         23.7            0.0      NaN\n",
      "\n",
      "[3251 rows x 4 columns]\n"
     ]
    }
   ],
   "source": [
    "data = pd.merge(people, temperature, left_index=True, right_index=True, how='inner')\n",
    "print(data)"
   ]
  },
  {
   "cell_type": "code",
   "execution_count": null,
   "metadata": {},
   "outputs": [],
   "source": []
  }
 ],
 "metadata": {
  "kernelspec": {
   "display_name": "tensorflow",
   "language": "python",
   "name": "python3"
  },
  "language_info": {
   "codemirror_mode": {
    "name": "ipython",
    "version": 3
   },
   "file_extension": ".py",
   "mimetype": "text/x-python",
   "name": "python",
   "nbconvert_exporter": "python",
   "pygments_lexer": "ipython3",
   "version": "3.11.8"
  }
 },
 "nbformat": 4,
 "nbformat_minor": 2
}
