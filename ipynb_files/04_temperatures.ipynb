{
 "cells": [
  {
   "cell_type": "code",
   "execution_count": 1,
   "metadata": {},
   "outputs": [],
   "source": [
    "import pandas as pd\n",
    "\n",
    "temps = pd.read_csv('../data/temperature_file/data.csv')"
   ]
  },
  {
   "cell_type": "code",
   "execution_count": 2,
   "metadata": {},
   "outputs": [
    {
     "name": "stdout",
     "output_type": "stream",
     "text": [
      "                datetime  temperature  precipitation  weather\n",
      "0       2022/5/1 1:00:00          8.3            0.0      NaN\n",
      "1       2022/5/1 2:00:00          8.7            0.0      NaN\n",
      "2       2022/5/1 3:00:00          8.7            0.0      4.0\n",
      "3       2022/5/1 4:00:00          8.6            0.0      NaN\n",
      "4       2022/5/1 5:00:00          8.7            0.0      NaN\n",
      "...                  ...          ...            ...      ...\n",
      "3667  2022/9/30 20:00:00         20.2            0.0      NaN\n",
      "3668  2022/9/30 21:00:00         20.3            0.0      1.0\n",
      "3669  2022/9/30 22:00:00         19.6            0.0      NaN\n",
      "3670  2022/9/30 23:00:00         18.8            0.0      NaN\n",
      "3671  2022/10/1 00:00:00         18.8            0.0      NaN\n",
      "\n",
      "[3672 rows x 4 columns]\n"
     ]
    }
   ],
   "source": [
    "print(temps)"
   ]
  },
  {
   "cell_type": "code",
   "execution_count": null,
   "metadata": {},
   "outputs": [],
   "source": []
  }
 ],
 "metadata": {
  "kernelspec": {
   "display_name": "tensorflow",
   "language": "python",
   "name": "python3"
  },
  "language_info": {
   "codemirror_mode": {
    "name": "ipython",
    "version": 3
   },
   "file_extension": ".py",
   "mimetype": "text/x-python",
   "name": "python",
   "nbconvert_exporter": "python",
   "pygments_lexer": "ipython3",
   "version": "3.11.8"
  }
 },
 "nbformat": 4,
 "nbformat_minor": 2
}
